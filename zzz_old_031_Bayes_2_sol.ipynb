{
 "cells": [
  {
   "cell_type": "code",
   "execution_count": 314,
   "metadata": {},
   "outputs": [],
   "source": [
    "import thinkplot\n",
    "import thinkstats2\n",
    "import pandas as pd\n",
    "import numpy as np\n",
    "import scipy.stats as ss\n",
    "from fractions import Fraction\n",
    "\n",
    "##Seaborn for fancy plots. \n",
    "import matplotlib.pyplot as plt\n",
    "import seaborn as sns\n",
    "plt.rcParams[\"figure.figsize\"] = (15,5)"
   ]
  },
  {
   "cell_type": "markdown",
   "metadata": {},
   "source": [
    "# Bayes and Updates\n",
    "\n",
    "We will solve the Monty Hall problem, but first we can work on some more simple examples and build out a method for using Bayes probability calculations. Remember the Bayes theorem from before:\n",
    "\n",
    "$ P(A|B) = \\frac{P(A) P(B|A)}{P(B)} $\n",
    "\n",
    "Suppose you have two high school classes of 40 students - class A and class B. Each class has some failing students:\n",
    "<ul>\n",
    "<li> Class A has 10 failing students, 30 passing ones. \n",
    "<li> Class B has 20 failing students, 20 passing ones.\n",
    "</ul>\n",
    "\n",
    "<b>If we randomly select one failing student, what is the probability they are from Class A?</b>\n",
    "\n",
    "We can calculate this out as a table. First, another way to think of Bayes...."
   ]
  },
  {
   "cell_type": "markdown",
   "metadata": {},
   "source": [
    "## Diachronic Bayes\n",
    "\n",
    "There is another way to think of Bayes's theorem: it gives us a way to\n",
    "update the probability of a hypothesis, $H$, given some body of data, $D$.\n",
    "\n",
    "This interpretation is \"diachronic\", which means \"related to change over time\"; in this case, the probability of the hypotheses changes as we see new data.\n",
    "\n",
    "Rewriting Bayes's theorem with $H$ and $D$ yields:\n",
    "\n",
    "$ P(H|D) = \\frac{P(H)~P(D|H)}{P(D)} $\n",
    "\n",
    "In this interpretation, each term has a name:\n",
    "\n",
    "-  $P(H)$ is the probability of the hypothesis before we see the data, called the prior probability, or just **prior**.\n",
    "\n",
    "-  $P(H|D)$ is the probability of the hypothesis after we see the data, called the **posterior**.\n",
    "\n",
    "-  $P(D|H)$ is the probability of the data under the hypothesis, called the **likelihood**.\n",
    "\n",
    "-  $P(D)$ is the **total probability of the data**, under any hypothesis.\n",
    "\n",
    "Sometimes we can compute the prior based on background information. For example, the classroom problem specifies that we choose a student at random with equal probability.\n",
    "\n",
    "In other cases the prior is subjective; that is, reasonable people might disagree, either because they use different background information or because they interpret the same information differently."
   ]
  },
  {
   "cell_type": "markdown",
   "metadata": {},
   "source": [
    "### Example - Passing and Failing\n",
    "\n",
    "From above:\n",
    "<ul>\n",
    "<li> Class A has 10 failing students, 30 passing ones. \n",
    "<li> Class B has 20 failing students, 20 passing ones.\n",
    "</ul>\n",
    "\n",
    "First, we can build a table to hose our work. "
   ]
  },
  {
   "cell_type": "code",
   "execution_count": 315,
   "metadata": {},
   "outputs": [
    {
     "data": {
      "text/html": [
       "<div>\n",
       "<style scoped>\n",
       "    .dataframe tbody tr th:only-of-type {\n",
       "        vertical-align: middle;\n",
       "    }\n",
       "\n",
       "    .dataframe tbody tr th {\n",
       "        vertical-align: top;\n",
       "    }\n",
       "\n",
       "    .dataframe thead th {\n",
       "        text-align: right;\n",
       "    }\n",
       "</style>\n",
       "<table border=\"1\" class=\"dataframe\">\n",
       "  <thead>\n",
       "    <tr style=\"text-align: right;\">\n",
       "      <th></th>\n",
       "    </tr>\n",
       "  </thead>\n",
       "  <tbody>\n",
       "    <tr>\n",
       "      <th>Class A</th>\n",
       "    </tr>\n",
       "    <tr>\n",
       "      <th>Class B</th>\n",
       "    </tr>\n",
       "  </tbody>\n",
       "</table>\n",
       "</div>"
      ],
      "text/plain": [
       "Empty DataFrame\n",
       "Columns: []\n",
       "Index: [Class A, Class B]"
      ]
     },
     "execution_count": 315,
     "metadata": {},
     "output_type": "execute_result"
    }
   ],
   "source": [
    "table = pd.DataFrame(index=['Class A', 'Class B'])\n",
    "table"
   ]
  },
  {
   "cell_type": "markdown",
   "metadata": {},
   "source": [
    "#### Calculate Prior Probability\n",
    "\n",
    "We can then add in the first part - the prior probability. \n",
    "\n",
    "We can also think of this as \"the probability before we know anything else\" - here we are just finding the probability of them being in Class A, without adding any other information. "
   ]
  },
  {
   "cell_type": "code",
   "execution_count": 316,
   "metadata": {},
   "outputs": [
    {
     "data": {
      "text/html": [
       "<div>\n",
       "<style scoped>\n",
       "    .dataframe tbody tr th:only-of-type {\n",
       "        vertical-align: middle;\n",
       "    }\n",
       "\n",
       "    .dataframe tbody tr th {\n",
       "        vertical-align: top;\n",
       "    }\n",
       "\n",
       "    .dataframe thead th {\n",
       "        text-align: right;\n",
       "    }\n",
       "</style>\n",
       "<table border=\"1\" class=\"dataframe\">\n",
       "  <thead>\n",
       "    <tr style=\"text-align: right;\">\n",
       "      <th></th>\n",
       "      <th>prior</th>\n",
       "    </tr>\n",
       "  </thead>\n",
       "  <tbody>\n",
       "    <tr>\n",
       "      <th>Class A</th>\n",
       "      <td>0.5</td>\n",
       "    </tr>\n",
       "    <tr>\n",
       "      <th>Class B</th>\n",
       "      <td>0.5</td>\n",
       "    </tr>\n",
       "  </tbody>\n",
       "</table>\n",
       "</div>"
      ],
      "text/plain": [
       "         prior\n",
       "Class A    0.5\n",
       "Class B    0.5"
      ]
     },
     "execution_count": 316,
     "metadata": {},
     "output_type": "execute_result"
    }
   ],
   "source": [
    "table['prior'] = 1/2, 1/2\n",
    "table"
   ]
  },
  {
   "cell_type": "markdown",
   "metadata": {},
   "source": [
    "#### Calculate Likelihoods\n",
    "\n",
    "Add the likelihoods in...\n",
    "For class A there is a 25% chance of a student failing.\n",
    "For class B, it is 50%\n",
    "\n",
    "We can also think of the likelihoods explicitly as conditional statements:\n",
    "<ul>\n",
    "<li> E.g. \"If I choose from class B, what is the likelihood of getting a failiure?\"\n",
    "<li> Or, give the prior is true, now what is the probability?\n",
    "</ul>\n",
    "\n",
    "You are assuming the \"Question part\" of the original goal - what are the chances this class provides a failiure, given the stipulation of the prior probability. \n",
    "\n",
    "<ul>\n",
    "<li> If I choose A, 10 out of 40 are failing, so the chances are 1/4\n",
    "<li> If I choose B, 20 out of 40 are failing, so the chances are 1/2\n",
    "</ul>"
   ]
  },
  {
   "cell_type": "code",
   "execution_count": 317,
   "metadata": {},
   "outputs": [
    {
     "data": {
      "text/html": [
       "<div>\n",
       "<style scoped>\n",
       "    .dataframe tbody tr th:only-of-type {\n",
       "        vertical-align: middle;\n",
       "    }\n",
       "\n",
       "    .dataframe tbody tr th {\n",
       "        vertical-align: top;\n",
       "    }\n",
       "\n",
       "    .dataframe thead th {\n",
       "        text-align: right;\n",
       "    }\n",
       "</style>\n",
       "<table border=\"1\" class=\"dataframe\">\n",
       "  <thead>\n",
       "    <tr style=\"text-align: right;\">\n",
       "      <th></th>\n",
       "      <th>prior</th>\n",
       "      <th>likelihood</th>\n",
       "    </tr>\n",
       "  </thead>\n",
       "  <tbody>\n",
       "    <tr>\n",
       "      <th>Class A</th>\n",
       "      <td>0.5</td>\n",
       "      <td>0.25</td>\n",
       "    </tr>\n",
       "    <tr>\n",
       "      <th>Class B</th>\n",
       "      <td>0.5</td>\n",
       "      <td>0.50</td>\n",
       "    </tr>\n",
       "  </tbody>\n",
       "</table>\n",
       "</div>"
      ],
      "text/plain": [
       "         prior  likelihood\n",
       "Class A    0.5        0.25\n",
       "Class B    0.5        0.50"
      ]
     },
     "execution_count": 317,
     "metadata": {},
     "output_type": "execute_result"
    }
   ],
   "source": [
    "\n",
    "table['likelihood'] = 1/4, 1/2\n",
    "table"
   ]
  },
  {
   "cell_type": "markdown",
   "metadata": {},
   "source": [
    "#### Calculate Interim Probabilities\n",
    "\n",
    "Next, multiply the two probabilities together:\n",
    "<ul>\n",
    "<li>E.g. There's a 50% chance of choosing class B, and if I do, there's a 50% chance of getting a fail. \n",
    "</ul>\n",
    "We label this column the unnorm - or unnormalized probabilities. This is because they are both accurate probabilities, but they are not normalized - they do not sum to 1. If we look a little closer, they are also part our boy Bayes' Theorem:\n",
    "<ul>\n",
    "<li>The numerator of Bayes is a probability multiplied by a conditional, which is the unnorm value.\n",
    "<li>The denomenator is the total probability - there are only 2 cases here, one must be true, so it is the sum of the unnorms.\n",
    "</ul>\n",
    "\n",
    "We can also think of these probabilities as being \"in terms of\" the total possible outcomes - i.e. 12.5 of <i>all</i> students are failing in Class A, while 25% of students is failing in B. The other 62.5% are passing, in either class, so they aren't really a consideration in the calculation we are doing. "
   ]
  },
  {
   "cell_type": "code",
   "execution_count": 318,
   "metadata": {},
   "outputs": [
    {
     "data": {
      "text/html": [
       "<div>\n",
       "<style scoped>\n",
       "    .dataframe tbody tr th:only-of-type {\n",
       "        vertical-align: middle;\n",
       "    }\n",
       "\n",
       "    .dataframe tbody tr th {\n",
       "        vertical-align: top;\n",
       "    }\n",
       "\n",
       "    .dataframe thead th {\n",
       "        text-align: right;\n",
       "    }\n",
       "</style>\n",
       "<table border=\"1\" class=\"dataframe\">\n",
       "  <thead>\n",
       "    <tr style=\"text-align: right;\">\n",
       "      <th></th>\n",
       "      <th>prior</th>\n",
       "      <th>likelihood</th>\n",
       "      <th>unnorm</th>\n",
       "    </tr>\n",
       "  </thead>\n",
       "  <tbody>\n",
       "    <tr>\n",
       "      <th>Class A</th>\n",
       "      <td>0.5</td>\n",
       "      <td>0.25</td>\n",
       "      <td>0.125</td>\n",
       "    </tr>\n",
       "    <tr>\n",
       "      <th>Class B</th>\n",
       "      <td>0.5</td>\n",
       "      <td>0.50</td>\n",
       "      <td>0.250</td>\n",
       "    </tr>\n",
       "  </tbody>\n",
       "</table>\n",
       "</div>"
      ],
      "text/plain": [
       "         prior  likelihood  unnorm\n",
       "Class A    0.5        0.25   0.125\n",
       "Class B    0.5        0.50   0.250"
      ]
     },
     "execution_count": 318,
     "metadata": {},
     "output_type": "execute_result"
    }
   ],
   "source": [
    "#Calculate unnormalized probabilities\n",
    "table['unnorm'] = table['prior'] * table['likelihood']\n",
    "table"
   ]
  },
  {
   "cell_type": "markdown",
   "metadata": {},
   "source": [
    "As a check, we can demonstrate that last point is true:\n",
    "\n",
    "- Calculate the total probability of getting a fail by summing the unnorms.\n",
    "\n",
    "- Calculate the total probability of getting a fail by direct calculation. "
   ]
  },
  {
   "cell_type": "code",
   "execution_count": 319,
   "metadata": {},
   "outputs": [
    {
     "name": "stdout",
     "output_type": "stream",
     "text": [
      "Unnorms: 0.375\n",
      "Direct: 0.375\n"
     ]
    }
   ],
   "source": [
    "prob_data = table['unnorm'].sum()\n",
    "print(\"Unnorms:\", prob_data)\n",
    "probDirect = (10+20)/(40+40) #The overall fail chances - 30 total failiures, 80 total students. \n",
    "print(\"Direct:\", probDirect)"
   ]
  },
  {
   "cell_type": "markdown",
   "metadata": {},
   "source": [
    "#### Calculate Posterior Probabilities\n",
    "\n",
    "Now we can normalize - or make the probs total to 1. We just divide by that total probability. This gives us the posterior probabilities, answering our original question:\n",
    "\n",
    "$ P(Class A | Failing) $\n",
    "\n",
    "As well as giving us the other probabilites, for free. \n",
    "\n",
    "This step just shifts that probability that we calculated above to be \"out of\" the total we care about (failing people), rather than the entire total of all students. "
   ]
  },
  {
   "cell_type": "code",
   "execution_count": 320,
   "metadata": {},
   "outputs": [
    {
     "data": {
      "text/html": [
       "<div>\n",
       "<style scoped>\n",
       "    .dataframe tbody tr th:only-of-type {\n",
       "        vertical-align: middle;\n",
       "    }\n",
       "\n",
       "    .dataframe tbody tr th {\n",
       "        vertical-align: top;\n",
       "    }\n",
       "\n",
       "    .dataframe thead th {\n",
       "        text-align: right;\n",
       "    }\n",
       "</style>\n",
       "<table border=\"1\" class=\"dataframe\">\n",
       "  <thead>\n",
       "    <tr style=\"text-align: right;\">\n",
       "      <th></th>\n",
       "      <th>prior</th>\n",
       "      <th>likelihood</th>\n",
       "      <th>unnorm</th>\n",
       "      <th>posterior</th>\n",
       "    </tr>\n",
       "  </thead>\n",
       "  <tbody>\n",
       "    <tr>\n",
       "      <th>Class A</th>\n",
       "      <td>0.5</td>\n",
       "      <td>0.25</td>\n",
       "      <td>0.125</td>\n",
       "      <td>0.333333</td>\n",
       "    </tr>\n",
       "    <tr>\n",
       "      <th>Class B</th>\n",
       "      <td>0.5</td>\n",
       "      <td>0.50</td>\n",
       "      <td>0.250</td>\n",
       "      <td>0.666667</td>\n",
       "    </tr>\n",
       "  </tbody>\n",
       "</table>\n",
       "</div>"
      ],
      "text/plain": [
       "         prior  likelihood  unnorm  posterior\n",
       "Class A    0.5        0.25   0.125   0.333333\n",
       "Class B    0.5        0.50   0.250   0.666667"
      ]
     },
     "execution_count": 320,
     "metadata": {},
     "output_type": "execute_result"
    }
   ],
   "source": [
    "table['posterior'] = table['unnorm'] / prob_data\n",
    "table"
   ]
  },
  {
   "cell_type": "markdown",
   "metadata": {},
   "source": [
    "### Table Update Formula\n",
    "\n",
    "We can wrap those last steps un into a formula, since they are just calculating from the probabilites that we've provided."
   ]
  },
  {
   "cell_type": "code",
   "execution_count": 321,
   "metadata": {},
   "outputs": [],
   "source": [
    "def update(table):\n",
    "    \"\"\"Compute the posterior probabilities.\"\"\"\n",
    "    table['unnorm'] = table['prior'] * table['likelihood']\n",
    "    prob_data = table['unnorm'].sum()\n",
    "    table['posterior'] = table['unnorm'] / prob_data\n",
    "    return prob_data"
   ]
  },
  {
   "cell_type": "markdown",
   "metadata": {},
   "source": [
    "## Dice problem\n",
    "\n",
    "Suppose I have a box with a 6-sided die, an 8-sided die, and a 12-sided die. I choose one of the dice at random, roll it, and report that the outcome is a 1. What is the probability that I chose the 6-sided die?"
   ]
  },
  {
   "cell_type": "code",
   "execution_count": 322,
   "metadata": {},
   "outputs": [
    {
     "data": {
      "text/html": [
       "<div>\n",
       "<style scoped>\n",
       "    .dataframe tbody tr th:only-of-type {\n",
       "        vertical-align: middle;\n",
       "    }\n",
       "\n",
       "    .dataframe tbody tr th {\n",
       "        vertical-align: top;\n",
       "    }\n",
       "\n",
       "    .dataframe thead th {\n",
       "        text-align: right;\n",
       "    }\n",
       "</style>\n",
       "<table border=\"1\" class=\"dataframe\">\n",
       "  <thead>\n",
       "    <tr style=\"text-align: right;\">\n",
       "      <th></th>\n",
       "      <th>prior</th>\n",
       "    </tr>\n",
       "  </thead>\n",
       "  <tbody>\n",
       "    <tr>\n",
       "      <th>Six Side</th>\n",
       "      <td>1/3</td>\n",
       "    </tr>\n",
       "    <tr>\n",
       "      <th>Eight Side</th>\n",
       "      <td>1/3</td>\n",
       "    </tr>\n",
       "    <tr>\n",
       "      <th>12 Side</th>\n",
       "      <td>1/3</td>\n",
       "    </tr>\n",
       "  </tbody>\n",
       "</table>\n",
       "</div>"
      ],
      "text/plain": [
       "           prior\n",
       "Six Side     1/3\n",
       "Eight Side   1/3\n",
       "12 Side      1/3"
      ]
     },
     "execution_count": 322,
     "metadata": {},
     "output_type": "execute_result"
    }
   ],
   "source": [
    "#Create the table\n",
    "dice = pd.DataFrame(index=[\"Six Side\", \"Eight Side\", \"12 Side\"])\n",
    "dice[\"prior\"] = Fraction(1,3)\n",
    "dice"
   ]
  },
  {
   "cell_type": "code",
   "execution_count": 323,
   "metadata": {},
   "outputs": [
    {
     "data": {
      "text/html": [
       "<div>\n",
       "<style scoped>\n",
       "    .dataframe tbody tr th:only-of-type {\n",
       "        vertical-align: middle;\n",
       "    }\n",
       "\n",
       "    .dataframe tbody tr th {\n",
       "        vertical-align: top;\n",
       "    }\n",
       "\n",
       "    .dataframe thead th {\n",
       "        text-align: right;\n",
       "    }\n",
       "</style>\n",
       "<table border=\"1\" class=\"dataframe\">\n",
       "  <thead>\n",
       "    <tr style=\"text-align: right;\">\n",
       "      <th></th>\n",
       "      <th>prior</th>\n",
       "      <th>likelihood</th>\n",
       "    </tr>\n",
       "  </thead>\n",
       "  <tbody>\n",
       "    <tr>\n",
       "      <th>Six Side</th>\n",
       "      <td>1/3</td>\n",
       "      <td>1/6</td>\n",
       "    </tr>\n",
       "    <tr>\n",
       "      <th>Eight Side</th>\n",
       "      <td>1/3</td>\n",
       "      <td>1/8</td>\n",
       "    </tr>\n",
       "    <tr>\n",
       "      <th>12 Side</th>\n",
       "      <td>1/3</td>\n",
       "      <td>1/12</td>\n",
       "    </tr>\n",
       "  </tbody>\n",
       "</table>\n",
       "</div>"
      ],
      "text/plain": [
       "           prior likelihood\n",
       "Six Side     1/3        1/6\n",
       "Eight Side   1/3        1/8\n",
       "12 Side      1/3       1/12"
      ]
     },
     "execution_count": 323,
     "metadata": {},
     "output_type": "execute_result"
    }
   ],
   "source": [
    "#The probability for each die being a 1, given I pick it.\n",
    "dice[\"likelihood\"] = Fraction(1, 6), Fraction(1, 8), Fraction(1, 12)\n",
    "dice"
   ]
  },
  {
   "cell_type": "code",
   "execution_count": 324,
   "metadata": {},
   "outputs": [
    {
     "data": {
      "text/html": [
       "<div>\n",
       "<style scoped>\n",
       "    .dataframe tbody tr th:only-of-type {\n",
       "        vertical-align: middle;\n",
       "    }\n",
       "\n",
       "    .dataframe tbody tr th {\n",
       "        vertical-align: top;\n",
       "    }\n",
       "\n",
       "    .dataframe thead th {\n",
       "        text-align: right;\n",
       "    }\n",
       "</style>\n",
       "<table border=\"1\" class=\"dataframe\">\n",
       "  <thead>\n",
       "    <tr style=\"text-align: right;\">\n",
       "      <th></th>\n",
       "      <th>prior</th>\n",
       "      <th>likelihood</th>\n",
       "      <th>unnorm</th>\n",
       "      <th>posterior</th>\n",
       "    </tr>\n",
       "  </thead>\n",
       "  <tbody>\n",
       "    <tr>\n",
       "      <th>Six Side</th>\n",
       "      <td>1/3</td>\n",
       "      <td>1/6</td>\n",
       "      <td>1/18</td>\n",
       "      <td>4/9</td>\n",
       "    </tr>\n",
       "    <tr>\n",
       "      <th>Eight Side</th>\n",
       "      <td>1/3</td>\n",
       "      <td>1/8</td>\n",
       "      <td>1/24</td>\n",
       "      <td>1/3</td>\n",
       "    </tr>\n",
       "    <tr>\n",
       "      <th>12 Side</th>\n",
       "      <td>1/3</td>\n",
       "      <td>1/12</td>\n",
       "      <td>1/36</td>\n",
       "      <td>2/9</td>\n",
       "    </tr>\n",
       "  </tbody>\n",
       "</table>\n",
       "</div>"
      ],
      "text/plain": [
       "           prior likelihood unnorm posterior\n",
       "Six Side     1/3        1/6   1/18       4/9\n",
       "Eight Side   1/3        1/8   1/24       1/3\n",
       "12 Side      1/3       1/12   1/36       2/9"
      ]
     },
     "execution_count": 324,
     "metadata": {},
     "output_type": "execute_result"
    }
   ],
   "source": [
    "#Update to finish\n",
    "update(dice)\n",
    "dice"
   ]
  },
  {
   "cell_type": "markdown",
   "metadata": {},
   "source": [
    "## The Monty Hall Problem\n",
    "\n",
    "Next we'll use a Bayes table to solve one of the most contentious problems in probability.\n",
    "\n",
    "The Monty Hall problem is based on a game show called *Let's Make a Deal*. If you are a contestant on the show, here's how the game works:\n",
    "<ul>\n",
    "<li> The host, Monty Hall, shows you three closed doors -- numbered 1, 2, and 3 -- and tells you that there is a prize behind each door.\n",
    "<li> One prize is valuable (traditionally a car), the other two are less valuable (traditionally goats).\n",
    "<li> The object of the game is to guess which door has the car. If you guess right, you get to keep the car.\n",
    "</ul>\n",
    "\n",
    "The key - after you pick a door, Monty will open another, revealing a goat. Then Monty offers you the option to stick with your original choice or switch to the remaining unopened door. To maximize your chance of winning the car, should you stick with Door 1 or switch to Door 2?\n",
    "\n",
    "To answer this question, we have to make some assumptions about the behavior of the host (these are parts of the general rules of the game):\n",
    "<ul>\n",
    "<li> Monty always opens a door and offers you the option to switch.\n",
    "<li> He never opens the door you picked or the door with the car.\n",
    "<li> If you choose the door with the car, he chooses one of the other doors at random.\n",
    "</ul>"
   ]
  },
  {
   "cell_type": "code",
   "execution_count": 325,
   "metadata": {},
   "outputs": [
    {
     "data": {
      "text/html": [
       "<div>\n",
       "<style scoped>\n",
       "    .dataframe tbody tr th:only-of-type {\n",
       "        vertical-align: middle;\n",
       "    }\n",
       "\n",
       "    .dataframe tbody tr th {\n",
       "        vertical-align: top;\n",
       "    }\n",
       "\n",
       "    .dataframe thead th {\n",
       "        text-align: right;\n",
       "    }\n",
       "</style>\n",
       "<table border=\"1\" class=\"dataframe\">\n",
       "  <thead>\n",
       "    <tr style=\"text-align: right;\">\n",
       "      <th></th>\n",
       "      <th>prior</th>\n",
       "    </tr>\n",
       "  </thead>\n",
       "  <tbody>\n",
       "    <tr>\n",
       "      <th>Door 1</th>\n",
       "      <td>1/3</td>\n",
       "    </tr>\n",
       "    <tr>\n",
       "      <th>Door 2</th>\n",
       "      <td>1/3</td>\n",
       "    </tr>\n",
       "    <tr>\n",
       "      <th>Door 3</th>\n",
       "      <td>1/3</td>\n",
       "    </tr>\n",
       "  </tbody>\n",
       "</table>\n",
       "</div>"
      ],
      "text/plain": [
       "       prior\n",
       "Door 1   1/3\n",
       "Door 2   1/3\n",
       "Door 3   1/3"
      ]
     },
     "execution_count": 325,
     "metadata": {},
     "output_type": "execute_result"
    }
   ],
   "source": [
    "#Start off - initially the chances are equal for each door. \n",
    "#So the prior probabilities are all 1/3\n",
    "monty = pd.DataFrame(index=[\"Door 1\", \"Door 2\", \"Door 3\"])\n",
    "monty[\"prior\"] = Fraction(1,3)\n",
    "monty"
   ]
  },
  {
   "cell_type": "markdown",
   "metadata": {},
   "source": [
    "Now we need to decide what door we want - let's get that whip. \n",
    "\n",
    "<b>We'll assume we pick door 1.</b>\n",
    "\n",
    "Then Monty opens one of the other doors, to us it is random. When he does so it gives us the likelihoods.\n",
    "\n",
    "<b>We'll assume he opens door 3 - remember he always opens a goat door, not the car</b>\n",
    "\n",
    "Now, that we know that it isn't door 3 (that's open, it is a goat). Remember, each one is a hypothetical - if we are in this \"class\" (door choice), what is the probability of \"success\" (a car there)?: \n",
    "\n",
    "\n",
    "We can think about this by carefully defining the problem - What are the odds that Monty opened Door 3, given that the Car is in Door X:\n",
    "<ul>\n",
    "<li>The likelihood he'd open Door 3 if the car is there is 0 - we can see the goat, and that's the rules. \n",
    "<li>The likelihood he'd open Door 3 if the car is in Door 2 is 1 - he'd be forced to by the rules of the game, you picked Door 1, Door 2 has the car, so he can only open Door 3.\n",
    "<li>The linkelihood he'd open Door 3 if the car is in Door 1 is 1/2 - he just picks randomly \n",
    "</ul>\n",
    "\n",
    "key - we don't really know the probability the car is in Door X directly. We can use the probability that the Door is opened, and the rules of the game to calculate it. "
   ]
  },
  {
   "cell_type": "code",
   "execution_count": 326,
   "metadata": {},
   "outputs": [
    {
     "data": {
      "text/html": [
       "<div>\n",
       "<style scoped>\n",
       "    .dataframe tbody tr th:only-of-type {\n",
       "        vertical-align: middle;\n",
       "    }\n",
       "\n",
       "    .dataframe tbody tr th {\n",
       "        vertical-align: top;\n",
       "    }\n",
       "\n",
       "    .dataframe thead th {\n",
       "        text-align: right;\n",
       "    }\n",
       "</style>\n",
       "<table border=\"1\" class=\"dataframe\">\n",
       "  <thead>\n",
       "    <tr style=\"text-align: right;\">\n",
       "      <th></th>\n",
       "      <th>prior</th>\n",
       "      <th>likelihood</th>\n",
       "    </tr>\n",
       "  </thead>\n",
       "  <tbody>\n",
       "    <tr>\n",
       "      <th>Door 1</th>\n",
       "      <td>1/3</td>\n",
       "      <td>1/2</td>\n",
       "    </tr>\n",
       "    <tr>\n",
       "      <th>Door 2</th>\n",
       "      <td>1/3</td>\n",
       "      <td>1</td>\n",
       "    </tr>\n",
       "    <tr>\n",
       "      <th>Door 3</th>\n",
       "      <td>1/3</td>\n",
       "      <td>0</td>\n",
       "    </tr>\n",
       "  </tbody>\n",
       "</table>\n",
       "</div>"
      ],
      "text/plain": [
       "       prior likelihood\n",
       "Door 1   1/3        1/2\n",
       "Door 2   1/3          1\n",
       "Door 3   1/3          0"
      ]
     },
     "execution_count": 326,
     "metadata": {},
     "output_type": "execute_result"
    }
   ],
   "source": [
    "#We can update the table\n",
    "monty[\"likelihood\"] = Fraction(1,2),1,0\n",
    "monty"
   ]
  },
  {
   "cell_type": "code",
   "execution_count": 327,
   "metadata": {},
   "outputs": [
    {
     "data": {
      "text/html": [
       "<div>\n",
       "<style scoped>\n",
       "    .dataframe tbody tr th:only-of-type {\n",
       "        vertical-align: middle;\n",
       "    }\n",
       "\n",
       "    .dataframe tbody tr th {\n",
       "        vertical-align: top;\n",
       "    }\n",
       "\n",
       "    .dataframe thead th {\n",
       "        text-align: right;\n",
       "    }\n",
       "</style>\n",
       "<table border=\"1\" class=\"dataframe\">\n",
       "  <thead>\n",
       "    <tr style=\"text-align: right;\">\n",
       "      <th></th>\n",
       "      <th>prior</th>\n",
       "      <th>likelihood</th>\n",
       "      <th>unnorm</th>\n",
       "      <th>posterior</th>\n",
       "    </tr>\n",
       "  </thead>\n",
       "  <tbody>\n",
       "    <tr>\n",
       "      <th>Door 1</th>\n",
       "      <td>1/3</td>\n",
       "      <td>1/2</td>\n",
       "      <td>1/6</td>\n",
       "      <td>1/3</td>\n",
       "    </tr>\n",
       "    <tr>\n",
       "      <th>Door 2</th>\n",
       "      <td>1/3</td>\n",
       "      <td>1</td>\n",
       "      <td>1/3</td>\n",
       "      <td>2/3</td>\n",
       "    </tr>\n",
       "    <tr>\n",
       "      <th>Door 3</th>\n",
       "      <td>1/3</td>\n",
       "      <td>0</td>\n",
       "      <td>0</td>\n",
       "      <td>0</td>\n",
       "    </tr>\n",
       "  </tbody>\n",
       "</table>\n",
       "</div>"
      ],
      "text/plain": [
       "       prior likelihood unnorm posterior\n",
       "Door 1   1/3        1/2    1/6       1/3\n",
       "Door 2   1/3          1    1/3       2/3\n",
       "Door 3   1/3          0      0         0"
      ]
     },
     "execution_count": 327,
     "metadata": {},
     "output_type": "execute_result"
    }
   ],
   "source": [
    "update(monty)\n",
    "monty"
   ]
  },
  {
   "cell_type": "markdown",
   "metadata": {},
   "source": [
    "Showing it mathmatically requires a bunch of derivation: https://en.wikipedia.org/wiki/Monty_Hall_problem\n",
    "\n",
    "Alternate explaination that I think is the most clear way to imagine it: Initially there is a 1/3 chance of the car being behind each door. However, after you choose those odds change, due to the rules of the game:\n",
    "<ul>\n",
    "<li>The chances it is in your door is still 1/3.\n",
    "<li>The chances it is not in your door is 2/3.\n",
    "<li>The door opening part sets the odds for one door to 0, so that 2/3 is contained entirely in one door. \n",
    "</ul>\n",
    "\n",
    "The entire point of this problem is to be unituitive, so having it be confusing is normal. \n",
    "<hr>"
   ]
  },
  {
   "cell_type": "markdown",
   "metadata": {},
   "source": [
    "<h3>Exercise Scenario</h3>\n",
    "\n",
    "Suppose you are placing a sports bet on your favorite team - The Bayes. You know a few things:\n",
    "<ul>\n",
    "<li>The Bayes have a 50% chance of winning a game. (Based on past performance)\n",
    "<li>The Bayes have had a 10% chance of having rain in their games in Bayes Stadium.\n",
    "<li>However, in games that The Bayes have won in Bayes Statium, there's be a 11% chance of rain. \n",
    "<li>\n",
    "<li>P(W) = 50%\n",
    "<li>P(R) = 10%\n",
    "<li>P(R|W) = 11%\n",
    "</ul>\n",
    "\n",
    "<b>What is the probability that The Bayes win if it rains? </b>"
   ]
  },
  {
   "cell_type": "code",
   "execution_count": 328,
   "metadata": {},
   "outputs": [
    {
     "data": {
      "text/html": [
       "<div>\n",
       "<style scoped>\n",
       "    .dataframe tbody tr th:only-of-type {\n",
       "        vertical-align: middle;\n",
       "    }\n",
       "\n",
       "    .dataframe tbody tr th {\n",
       "        vertical-align: top;\n",
       "    }\n",
       "\n",
       "    .dataframe thead th {\n",
       "        text-align: right;\n",
       "    }\n",
       "</style>\n",
       "<table border=\"1\" class=\"dataframe\">\n",
       "  <thead>\n",
       "    <tr style=\"text-align: right;\">\n",
       "      <th></th>\n",
       "      <th>prior</th>\n",
       "    </tr>\n",
       "  </thead>\n",
       "  <tbody>\n",
       "    <tr>\n",
       "      <th>Win</th>\n",
       "      <td>1/2</td>\n",
       "    </tr>\n",
       "    <tr>\n",
       "      <th>Loss</th>\n",
       "      <td>1/2</td>\n",
       "    </tr>\n",
       "  </tbody>\n",
       "</table>\n",
       "</div>"
      ],
      "text/plain": [
       "     prior\n",
       "Win    1/2\n",
       "Loss   1/2"
      ]
     },
     "execution_count": 328,
     "metadata": {},
     "output_type": "execute_result"
    }
   ],
   "source": [
    "#Build Table\n",
    "bet = pd.DataFrame(index=[\"Win\", \"Loss\"])\n",
    "bet[\"prior\"] = Fraction(1,2)\n",
    "bet "
   ]
  },
  {
   "cell_type": "code",
   "execution_count": 329,
   "metadata": {},
   "outputs": [
    {
     "data": {
      "text/html": [
       "<div>\n",
       "<style scoped>\n",
       "    .dataframe tbody tr th:only-of-type {\n",
       "        vertical-align: middle;\n",
       "    }\n",
       "\n",
       "    .dataframe tbody tr th {\n",
       "        vertical-align: top;\n",
       "    }\n",
       "\n",
       "    .dataframe thead th {\n",
       "        text-align: right;\n",
       "    }\n",
       "</style>\n",
       "<table border=\"1\" class=\"dataframe\">\n",
       "  <thead>\n",
       "    <tr style=\"text-align: right;\">\n",
       "      <th></th>\n",
       "      <th>prior</th>\n",
       "      <th>likelihood</th>\n",
       "    </tr>\n",
       "  </thead>\n",
       "  <tbody>\n",
       "    <tr>\n",
       "      <th>Win</th>\n",
       "      <td>1/2</td>\n",
       "      <td>0.11</td>\n",
       "    </tr>\n",
       "    <tr>\n",
       "      <th>Loss</th>\n",
       "      <td>1/2</td>\n",
       "      <td>0.10</td>\n",
       "    </tr>\n",
       "  </tbody>\n",
       "</table>\n",
       "</div>"
      ],
      "text/plain": [
       "     prior  likelihood\n",
       "Win    1/2        0.11\n",
       "Loss   1/2        0.10"
      ]
     },
     "execution_count": 329,
     "metadata": {},
     "output_type": "execute_result"
    }
   ],
   "source": [
    "#Add in the likelihoods.\n",
    "#Given that we have a win/loss, how likely is rain. \n",
    "bet[\"likelihood\"] = .11, .1\n",
    "bet"
   ]
  },
  {
   "cell_type": "code",
   "execution_count": 330,
   "metadata": {},
   "outputs": [
    {
     "data": {
      "text/html": [
       "<div>\n",
       "<style scoped>\n",
       "    .dataframe tbody tr th:only-of-type {\n",
       "        vertical-align: middle;\n",
       "    }\n",
       "\n",
       "    .dataframe tbody tr th {\n",
       "        vertical-align: top;\n",
       "    }\n",
       "\n",
       "    .dataframe thead th {\n",
       "        text-align: right;\n",
       "    }\n",
       "</style>\n",
       "<table border=\"1\" class=\"dataframe\">\n",
       "  <thead>\n",
       "    <tr style=\"text-align: right;\">\n",
       "      <th></th>\n",
       "      <th>prior</th>\n",
       "      <th>likelihood</th>\n",
       "      <th>unnorm</th>\n",
       "      <th>posterior</th>\n",
       "    </tr>\n",
       "  </thead>\n",
       "  <tbody>\n",
       "    <tr>\n",
       "      <th>Win</th>\n",
       "      <td>1/2</td>\n",
       "      <td>0.11</td>\n",
       "      <td>0.055</td>\n",
       "      <td>0.52381</td>\n",
       "    </tr>\n",
       "    <tr>\n",
       "      <th>Loss</th>\n",
       "      <td>1/2</td>\n",
       "      <td>0.10</td>\n",
       "      <td>0.05</td>\n",
       "      <td>0.47619</td>\n",
       "    </tr>\n",
       "  </tbody>\n",
       "</table>\n",
       "</div>"
      ],
      "text/plain": [
       "     prior  likelihood unnorm posterior\n",
       "Win    1/2        0.11  0.055   0.52381\n",
       "Loss   1/2        0.10   0.05   0.47619"
      ]
     },
     "execution_count": 330,
     "metadata": {},
     "output_type": "execute_result"
    }
   ],
   "source": [
    "#Update to complete. \n",
    "update(bet)\n",
    "bet"
   ]
  },
  {
   "cell_type": "markdown",
   "metadata": {},
   "source": [
    "### Bigger Bayes\n",
    "\n",
    "What if we want to know the odds that a car is stolen given it is a BMW, black, and at night? "
   ]
  },
  {
   "cell_type": "code",
   "execution_count": 331,
   "metadata": {},
   "outputs": [
    {
     "data": {
      "text/html": [
       "<div>\n",
       "<style scoped>\n",
       "    .dataframe tbody tr th:only-of-type {\n",
       "        vertical-align: middle;\n",
       "    }\n",
       "\n",
       "    .dataframe tbody tr th {\n",
       "        vertical-align: top;\n",
       "    }\n",
       "\n",
       "    .dataframe thead th {\n",
       "        text-align: right;\n",
       "    }\n",
       "</style>\n",
       "<table border=\"1\" class=\"dataframe\">\n",
       "  <thead>\n",
       "    <tr style=\"text-align: right;\">\n",
       "      <th></th>\n",
       "      <th>ID</th>\n",
       "      <th>Make</th>\n",
       "      <th>Color</th>\n",
       "      <th>Time</th>\n",
       "      <th>Stolen</th>\n",
       "    </tr>\n",
       "  </thead>\n",
       "  <tbody>\n",
       "    <tr>\n",
       "      <th>0</th>\n",
       "      <td>N001</td>\n",
       "      <td>BMW</td>\n",
       "      <td>black</td>\n",
       "      <td>night</td>\n",
       "      <td>yes</td>\n",
       "    </tr>\n",
       "    <tr>\n",
       "      <th>1</th>\n",
       "      <td>N002</td>\n",
       "      <td>Audi</td>\n",
       "      <td>black</td>\n",
       "      <td>night</td>\n",
       "      <td>no</td>\n",
       "    </tr>\n",
       "    <tr>\n",
       "      <th>2</th>\n",
       "      <td>N003</td>\n",
       "      <td>NISSAN</td>\n",
       "      <td>black</td>\n",
       "      <td>night</td>\n",
       "      <td>yes</td>\n",
       "    </tr>\n",
       "    <tr>\n",
       "      <th>3</th>\n",
       "      <td>N004</td>\n",
       "      <td>VEGA</td>\n",
       "      <td>red</td>\n",
       "      <td>day</td>\n",
       "      <td>yes</td>\n",
       "    </tr>\n",
       "    <tr>\n",
       "      <th>4</th>\n",
       "      <td>N005</td>\n",
       "      <td>BMW</td>\n",
       "      <td>blue</td>\n",
       "      <td>day</td>\n",
       "      <td>no</td>\n",
       "    </tr>\n",
       "    <tr>\n",
       "      <th>5</th>\n",
       "      <td>N006</td>\n",
       "      <td>Audi</td>\n",
       "      <td>black</td>\n",
       "      <td>day</td>\n",
       "      <td>yes</td>\n",
       "    </tr>\n",
       "    <tr>\n",
       "      <th>6</th>\n",
       "      <td>N007</td>\n",
       "      <td>VEGA</td>\n",
       "      <td>red</td>\n",
       "      <td>night</td>\n",
       "      <td>no</td>\n",
       "    </tr>\n",
       "    <tr>\n",
       "      <th>7</th>\n",
       "      <td>N008</td>\n",
       "      <td>Audi</td>\n",
       "      <td>blue</td>\n",
       "      <td>day</td>\n",
       "      <td>yes</td>\n",
       "    </tr>\n",
       "    <tr>\n",
       "      <th>8</th>\n",
       "      <td>N009</td>\n",
       "      <td>VEGA</td>\n",
       "      <td>black</td>\n",
       "      <td>day</td>\n",
       "      <td>yes</td>\n",
       "    </tr>\n",
       "    <tr>\n",
       "      <th>9</th>\n",
       "      <td>N010</td>\n",
       "      <td>NISSAN</td>\n",
       "      <td>blue</td>\n",
       "      <td>day</td>\n",
       "      <td>no</td>\n",
       "    </tr>\n",
       "    <tr>\n",
       "      <th>10</th>\n",
       "      <td>N011</td>\n",
       "      <td>BMW</td>\n",
       "      <td>black</td>\n",
       "      <td>night</td>\n",
       "      <td>yes</td>\n",
       "    </tr>\n",
       "    <tr>\n",
       "      <th>11</th>\n",
       "      <td>N012</td>\n",
       "      <td>NISSAN</td>\n",
       "      <td>red</td>\n",
       "      <td>day</td>\n",
       "      <td>no</td>\n",
       "    </tr>\n",
       "    <tr>\n",
       "      <th>12</th>\n",
       "      <td>N013</td>\n",
       "      <td>VEGA</td>\n",
       "      <td>black</td>\n",
       "      <td>night</td>\n",
       "      <td>yes</td>\n",
       "    </tr>\n",
       "    <tr>\n",
       "      <th>13</th>\n",
       "      <td>N014</td>\n",
       "      <td>BMW</td>\n",
       "      <td>red</td>\n",
       "      <td>day</td>\n",
       "      <td>no</td>\n",
       "    </tr>\n",
       "    <tr>\n",
       "      <th>14</th>\n",
       "      <td>N015</td>\n",
       "      <td>Audi</td>\n",
       "      <td>black</td>\n",
       "      <td>day</td>\n",
       "      <td>yes</td>\n",
       "    </tr>\n",
       "    <tr>\n",
       "      <th>15</th>\n",
       "      <td>N016</td>\n",
       "      <td>Audi</td>\n",
       "      <td>blue</td>\n",
       "      <td>night</td>\n",
       "      <td>yes</td>\n",
       "    </tr>\n",
       "    <tr>\n",
       "      <th>16</th>\n",
       "      <td>N017</td>\n",
       "      <td>Audi</td>\n",
       "      <td>red</td>\n",
       "      <td>day</td>\n",
       "      <td>no</td>\n",
       "    </tr>\n",
       "    <tr>\n",
       "      <th>17</th>\n",
       "      <td>N018</td>\n",
       "      <td>NISSAN</td>\n",
       "      <td>black</td>\n",
       "      <td>day</td>\n",
       "      <td>yes</td>\n",
       "    </tr>\n",
       "    <tr>\n",
       "      <th>18</th>\n",
       "      <td>N019</td>\n",
       "      <td>BMW</td>\n",
       "      <td>blue</td>\n",
       "      <td>day</td>\n",
       "      <td>yes</td>\n",
       "    </tr>\n",
       "    <tr>\n",
       "      <th>19</th>\n",
       "      <td>N020</td>\n",
       "      <td>BMW</td>\n",
       "      <td>red</td>\n",
       "      <td>night</td>\n",
       "      <td>yes</td>\n",
       "    </tr>\n",
       "  </tbody>\n",
       "</table>\n",
       "</div>"
      ],
      "text/plain": [
       "      ID    Make  Color   Time Stolen\n",
       "0   N001     BMW  black  night    yes\n",
       "1   N002    Audi  black  night     no\n",
       "2   N003  NISSAN  black  night    yes\n",
       "3   N004    VEGA    red    day    yes\n",
       "4   N005     BMW   blue    day     no\n",
       "5   N006    Audi  black    day    yes\n",
       "6   N007    VEGA    red  night     no\n",
       "7   N008    Audi   blue    day    yes\n",
       "8   N009    VEGA  black    day    yes\n",
       "9   N010  NISSAN   blue    day     no\n",
       "10  N011     BMW  black  night    yes\n",
       "11  N012  NISSAN    red    day     no\n",
       "12  N013    VEGA  black  night    yes\n",
       "13  N014     BMW    red    day     no\n",
       "14  N015    Audi  black    day    yes\n",
       "15  N016    Audi   blue  night    yes\n",
       "16  N017    Audi    red    day     no\n",
       "17  N018  NISSAN  black    day    yes\n",
       "18  N019     BMW   blue    day    yes\n",
       "19  N020     BMW    red  night    yes"
      ]
     },
     "execution_count": 331,
     "metadata": {},
     "output_type": "execute_result"
    }
   ],
   "source": [
    "df_car = pd.read_csv(\"data/vehicle_stolen_dataset.csv\", names=[\"ID\", \"Make\", \"Color\", \"Time\", \"Stolen\"])\n",
    "df_car.head(20)"
   ]
  },
  {
   "cell_type": "markdown",
   "metadata": {},
   "source": [
    "#### One Step at a Time\n",
    "\n",
    "Calculate prior probability - will it be stolen? "
   ]
  },
  {
   "cell_type": "code",
   "execution_count": 332,
   "metadata": {},
   "outputs": [
    {
     "data": {
      "text/html": [
       "<div>\n",
       "<style scoped>\n",
       "    .dataframe tbody tr th:only-of-type {\n",
       "        vertical-align: middle;\n",
       "    }\n",
       "\n",
       "    .dataframe tbody tr th {\n",
       "        vertical-align: top;\n",
       "    }\n",
       "\n",
       "    .dataframe thead th {\n",
       "        text-align: right;\n",
       "    }\n",
       "</style>\n",
       "<table border=\"1\" class=\"dataframe\">\n",
       "  <thead>\n",
       "    <tr style=\"text-align: right;\">\n",
       "      <th></th>\n",
       "      <th>prior</th>\n",
       "    </tr>\n",
       "  </thead>\n",
       "  <tbody>\n",
       "    <tr>\n",
       "      <th>Stolen</th>\n",
       "      <td>0.65</td>\n",
       "    </tr>\n",
       "    <tr>\n",
       "      <th>Not Stolen</th>\n",
       "      <td>0.35</td>\n",
       "    </tr>\n",
       "  </tbody>\n",
       "</table>\n",
       "</div>"
      ],
      "text/plain": [
       "            prior\n",
       "Stolen       0.65\n",
       "Not Stolen   0.35"
      ]
     },
     "execution_count": 332,
     "metadata": {},
     "output_type": "execute_result"
    }
   ],
   "source": [
    "car = pd.DataFrame(index=[\"Stolen\", \"Not Stolen\"])\n",
    "tmp = df_car[df_car[\"Stolen\"]==\"yes\"]\n",
    "tmp2 = df_car[df_car[\"Stolen\"] == \"no\"]\n",
    "\n",
    "stolen = len(tmp) / len(df_car)\n",
    "car[\"prior\"] = stolen, (1 - stolen)\n",
    "car"
   ]
  },
  {
   "cell_type": "markdown",
   "metadata": {},
   "source": [
    "#### Update Probability\n",
    "\n",
    "Add the update of \"BMW\" as the car model. "
   ]
  },
  {
   "cell_type": "code",
   "execution_count": 333,
   "metadata": {},
   "outputs": [],
   "source": [
    "if_stolen = len(tmp[tmp[\"Make\"] == \"BMW\"]) / len(tmp)\n",
    "if_notS = len(tmp2[tmp2[\"Make\"] == \"BMW\"]) / len(tmp2)"
   ]
  },
  {
   "cell_type": "code",
   "execution_count": 334,
   "metadata": {},
   "outputs": [
    {
     "data": {
      "text/html": [
       "<div>\n",
       "<style scoped>\n",
       "    .dataframe tbody tr th:only-of-type {\n",
       "        vertical-align: middle;\n",
       "    }\n",
       "\n",
       "    .dataframe tbody tr th {\n",
       "        vertical-align: top;\n",
       "    }\n",
       "\n",
       "    .dataframe thead th {\n",
       "        text-align: right;\n",
       "    }\n",
       "</style>\n",
       "<table border=\"1\" class=\"dataframe\">\n",
       "  <thead>\n",
       "    <tr style=\"text-align: right;\">\n",
       "      <th></th>\n",
       "      <th>prior</th>\n",
       "      <th>likelihood</th>\n",
       "    </tr>\n",
       "  </thead>\n",
       "  <tbody>\n",
       "    <tr>\n",
       "      <th>Stolen</th>\n",
       "      <td>0.65</td>\n",
       "      <td>0.307692</td>\n",
       "    </tr>\n",
       "    <tr>\n",
       "      <th>Not Stolen</th>\n",
       "      <td>0.35</td>\n",
       "      <td>0.285714</td>\n",
       "    </tr>\n",
       "  </tbody>\n",
       "</table>\n",
       "</div>"
      ],
      "text/plain": [
       "            prior  likelihood\n",
       "Stolen       0.65    0.307692\n",
       "Not Stolen   0.35    0.285714"
      ]
     },
     "execution_count": 334,
     "metadata": {},
     "output_type": "execute_result"
    }
   ],
   "source": [
    "car[\"likelihood\"] = if_stolen, if_notS\n",
    "car"
   ]
  },
  {
   "cell_type": "markdown",
   "metadata": {},
   "source": [
    "#### Normalize"
   ]
  },
  {
   "cell_type": "code",
   "execution_count": 335,
   "metadata": {},
   "outputs": [
    {
     "data": {
      "text/html": [
       "<div>\n",
       "<style scoped>\n",
       "    .dataframe tbody tr th:only-of-type {\n",
       "        vertical-align: middle;\n",
       "    }\n",
       "\n",
       "    .dataframe tbody tr th {\n",
       "        vertical-align: top;\n",
       "    }\n",
       "\n",
       "    .dataframe thead th {\n",
       "        text-align: right;\n",
       "    }\n",
       "</style>\n",
       "<table border=\"1\" class=\"dataframe\">\n",
       "  <thead>\n",
       "    <tr style=\"text-align: right;\">\n",
       "      <th></th>\n",
       "      <th>prior</th>\n",
       "      <th>likelihood</th>\n",
       "      <th>unnorm</th>\n",
       "      <th>posterior</th>\n",
       "    </tr>\n",
       "  </thead>\n",
       "  <tbody>\n",
       "    <tr>\n",
       "      <th>Stolen</th>\n",
       "      <td>0.65</td>\n",
       "      <td>0.307692</td>\n",
       "      <td>0.2</td>\n",
       "      <td>0.666667</td>\n",
       "    </tr>\n",
       "    <tr>\n",
       "      <th>Not Stolen</th>\n",
       "      <td>0.35</td>\n",
       "      <td>0.285714</td>\n",
       "      <td>0.1</td>\n",
       "      <td>0.333333</td>\n",
       "    </tr>\n",
       "  </tbody>\n",
       "</table>\n",
       "</div>"
      ],
      "text/plain": [
       "            prior  likelihood  unnorm  posterior\n",
       "Stolen       0.65    0.307692     0.2   0.666667\n",
       "Not Stolen   0.35    0.285714     0.1   0.333333"
      ]
     },
     "execution_count": 335,
     "metadata": {},
     "output_type": "execute_result"
    }
   ],
   "source": [
    "update(car)\n",
    "car"
   ]
  },
  {
   "cell_type": "markdown",
   "metadata": {},
   "source": [
    "#### Intermission\n",
    "\n",
    "Now we have <i><b>an</b></i> answer, what is the probability that my car will be stolen if it is a BMW. That's not the goal though, we must persist. This is 4/6, which matches what we have if we just look at the table and count. "
   ]
  },
  {
   "cell_type": "code",
   "execution_count": 336,
   "metadata": {},
   "outputs": [
    {
     "data": {
      "text/html": [
       "<div>\n",
       "<style scoped>\n",
       "    .dataframe tbody tr th:only-of-type {\n",
       "        vertical-align: middle;\n",
       "    }\n",
       "\n",
       "    .dataframe tbody tr th {\n",
       "        vertical-align: top;\n",
       "    }\n",
       "\n",
       "    .dataframe thead th {\n",
       "        text-align: right;\n",
       "    }\n",
       "</style>\n",
       "<table border=\"1\" class=\"dataframe\">\n",
       "  <thead>\n",
       "    <tr style=\"text-align: right;\">\n",
       "      <th></th>\n",
       "      <th>prior</th>\n",
       "    </tr>\n",
       "  </thead>\n",
       "  <tbody>\n",
       "    <tr>\n",
       "      <th>Stolen</th>\n",
       "      <td>0.2</td>\n",
       "    </tr>\n",
       "    <tr>\n",
       "      <th>Not Stolen</th>\n",
       "      <td>0.1</td>\n",
       "    </tr>\n",
       "  </tbody>\n",
       "</table>\n",
       "</div>"
      ],
      "text/plain": [
       "            prior\n",
       "Stolen        0.2\n",
       "Not Stolen    0.1"
      ]
     },
     "execution_count": 336,
     "metadata": {},
     "output_type": "execute_result"
    }
   ],
   "source": [
    "#car2 = car[[\"posterior\"]]\n",
    "#car2 = car2.rename(columns={\"posterior\": \"prior\"})\n",
    "car2 = car[[\"unnorm\"]]\n",
    "car2 = car2.rename(columns={\"unnorm\": \"prior\"})\n",
    "car2"
   ]
  },
  {
   "cell_type": "markdown",
   "metadata": {},
   "source": [
    "#### Add New Likelihood\n",
    "\n",
    "Next up is color. Add the likelihoods for the car being black if it is stolen/not-stolen. "
   ]
  },
  {
   "cell_type": "code",
   "execution_count": 337,
   "metadata": {},
   "outputs": [],
   "source": [
    "isblack = len(tmp[tmp[\"Color\"] == \"black\"]) / len(tmp)\n",
    "isblack2 = len(tmp2[tmp2[\"Color\"] == \"black\"]) / len(tmp2)"
   ]
  },
  {
   "cell_type": "code",
   "execution_count": 338,
   "metadata": {},
   "outputs": [
    {
     "data": {
      "text/html": [
       "<div>\n",
       "<style scoped>\n",
       "    .dataframe tbody tr th:only-of-type {\n",
       "        vertical-align: middle;\n",
       "    }\n",
       "\n",
       "    .dataframe tbody tr th {\n",
       "        vertical-align: top;\n",
       "    }\n",
       "\n",
       "    .dataframe thead th {\n",
       "        text-align: right;\n",
       "    }\n",
       "</style>\n",
       "<table border=\"1\" class=\"dataframe\">\n",
       "  <thead>\n",
       "    <tr style=\"text-align: right;\">\n",
       "      <th></th>\n",
       "      <th>prior</th>\n",
       "      <th>likelihood</th>\n",
       "    </tr>\n",
       "  </thead>\n",
       "  <tbody>\n",
       "    <tr>\n",
       "      <th>Stolen</th>\n",
       "      <td>0.2</td>\n",
       "      <td>0.615385</td>\n",
       "    </tr>\n",
       "    <tr>\n",
       "      <th>Not Stolen</th>\n",
       "      <td>0.1</td>\n",
       "      <td>0.142857</td>\n",
       "    </tr>\n",
       "  </tbody>\n",
       "</table>\n",
       "</div>"
      ],
      "text/plain": [
       "            prior  likelihood\n",
       "Stolen        0.2    0.615385\n",
       "Not Stolen    0.1    0.142857"
      ]
     },
     "execution_count": 338,
     "metadata": {},
     "output_type": "execute_result"
    }
   ],
   "source": [
    "car2[\"likelihood\"] = isblack, isblack2\n",
    "car2"
   ]
  },
  {
   "cell_type": "markdown",
   "metadata": {},
   "source": [
    "#### Update\n"
   ]
  },
  {
   "cell_type": "code",
   "execution_count": 339,
   "metadata": {},
   "outputs": [
    {
     "data": {
      "text/html": [
       "<div>\n",
       "<style scoped>\n",
       "    .dataframe tbody tr th:only-of-type {\n",
       "        vertical-align: middle;\n",
       "    }\n",
       "\n",
       "    .dataframe tbody tr th {\n",
       "        vertical-align: top;\n",
       "    }\n",
       "\n",
       "    .dataframe thead th {\n",
       "        text-align: right;\n",
       "    }\n",
       "</style>\n",
       "<table border=\"1\" class=\"dataframe\">\n",
       "  <thead>\n",
       "    <tr style=\"text-align: right;\">\n",
       "      <th></th>\n",
       "      <th>prior</th>\n",
       "      <th>likelihood</th>\n",
       "      <th>unnorm</th>\n",
       "      <th>posterior</th>\n",
       "    </tr>\n",
       "  </thead>\n",
       "  <tbody>\n",
       "    <tr>\n",
       "      <th>Stolen</th>\n",
       "      <td>0.2</td>\n",
       "      <td>0.615385</td>\n",
       "      <td>0.123077</td>\n",
       "      <td>0.896</td>\n",
       "    </tr>\n",
       "    <tr>\n",
       "      <th>Not Stolen</th>\n",
       "      <td>0.1</td>\n",
       "      <td>0.142857</td>\n",
       "      <td>0.014286</td>\n",
       "      <td>0.104</td>\n",
       "    </tr>\n",
       "  </tbody>\n",
       "</table>\n",
       "</div>"
      ],
      "text/plain": [
       "            prior  likelihood    unnorm  posterior\n",
       "Stolen        0.2    0.615385  0.123077      0.896\n",
       "Not Stolen    0.1    0.142857  0.014286      0.104"
      ]
     },
     "execution_count": 339,
     "metadata": {},
     "output_type": "execute_result"
    }
   ],
   "source": [
    "update(car2)\n",
    "car2"
   ]
  },
  {
   "cell_type": "markdown",
   "metadata": {},
   "source": [
    "#### Intermission #2\n",
    "\n",
    "Still not quite there..."
   ]
  },
  {
   "cell_type": "code",
   "execution_count": 340,
   "metadata": {},
   "outputs": [
    {
     "data": {
      "text/html": [
       "<div>\n",
       "<style scoped>\n",
       "    .dataframe tbody tr th:only-of-type {\n",
       "        vertical-align: middle;\n",
       "    }\n",
       "\n",
       "    .dataframe tbody tr th {\n",
       "        vertical-align: top;\n",
       "    }\n",
       "\n",
       "    .dataframe thead th {\n",
       "        text-align: right;\n",
       "    }\n",
       "</style>\n",
       "<table border=\"1\" class=\"dataframe\">\n",
       "  <thead>\n",
       "    <tr style=\"text-align: right;\">\n",
       "      <th></th>\n",
       "      <th>prior</th>\n",
       "    </tr>\n",
       "  </thead>\n",
       "  <tbody>\n",
       "    <tr>\n",
       "      <th>Stolen</th>\n",
       "      <td>0.123077</td>\n",
       "    </tr>\n",
       "    <tr>\n",
       "      <th>Not Stolen</th>\n",
       "      <td>0.014286</td>\n",
       "    </tr>\n",
       "  </tbody>\n",
       "</table>\n",
       "</div>"
      ],
      "text/plain": [
       "               prior\n",
       "Stolen      0.123077\n",
       "Not Stolen  0.014286"
      ]
     },
     "execution_count": 340,
     "metadata": {},
     "output_type": "execute_result"
    }
   ],
   "source": [
    "#car3 = car2[[\"posterior\"]]\n",
    "#car3 = car3.rename(columns={\"posterior\": \"prior\"})\n",
    "car3 = car2[[\"unnorm\"]]\n",
    "car3 = car3.rename(columns={\"unnorm\": \"prior\"})\n",
    "car3"
   ]
  },
  {
   "cell_type": "markdown",
   "metadata": {},
   "source": [
    "#### Likelihoods"
   ]
  },
  {
   "cell_type": "code",
   "execution_count": 341,
   "metadata": {},
   "outputs": [],
   "source": [
    "isnight = len(tmp[tmp[\"Time\"] == \"night\"]) / len(tmp)\n",
    "isnight2 = len(tmp2[tmp2[\"Time\"] == \"night\"]) / len(tmp2)"
   ]
  },
  {
   "cell_type": "code",
   "execution_count": 342,
   "metadata": {},
   "outputs": [
    {
     "data": {
      "text/html": [
       "<div>\n",
       "<style scoped>\n",
       "    .dataframe tbody tr th:only-of-type {\n",
       "        vertical-align: middle;\n",
       "    }\n",
       "\n",
       "    .dataframe tbody tr th {\n",
       "        vertical-align: top;\n",
       "    }\n",
       "\n",
       "    .dataframe thead th {\n",
       "        text-align: right;\n",
       "    }\n",
       "</style>\n",
       "<table border=\"1\" class=\"dataframe\">\n",
       "  <thead>\n",
       "    <tr style=\"text-align: right;\">\n",
       "      <th></th>\n",
       "      <th>prior</th>\n",
       "      <th>likelihood</th>\n",
       "    </tr>\n",
       "  </thead>\n",
       "  <tbody>\n",
       "    <tr>\n",
       "      <th>Stolen</th>\n",
       "      <td>0.123077</td>\n",
       "      <td>0.461538</td>\n",
       "    </tr>\n",
       "    <tr>\n",
       "      <th>Not Stolen</th>\n",
       "      <td>0.014286</td>\n",
       "      <td>0.285714</td>\n",
       "    </tr>\n",
       "  </tbody>\n",
       "</table>\n",
       "</div>"
      ],
      "text/plain": [
       "               prior  likelihood\n",
       "Stolen      0.123077    0.461538\n",
       "Not Stolen  0.014286    0.285714"
      ]
     },
     "execution_count": 342,
     "metadata": {},
     "output_type": "execute_result"
    }
   ],
   "source": [
    "car3[\"likelihood\"] = isnight, isnight2\n",
    "car3"
   ]
  },
  {
   "cell_type": "code",
   "execution_count": 343,
   "metadata": {},
   "outputs": [
    {
     "data": {
      "text/html": [
       "<div>\n",
       "<style scoped>\n",
       "    .dataframe tbody tr th:only-of-type {\n",
       "        vertical-align: middle;\n",
       "    }\n",
       "\n",
       "    .dataframe tbody tr th {\n",
       "        vertical-align: top;\n",
       "    }\n",
       "\n",
       "    .dataframe thead th {\n",
       "        text-align: right;\n",
       "    }\n",
       "</style>\n",
       "<table border=\"1\" class=\"dataframe\">\n",
       "  <thead>\n",
       "    <tr style=\"text-align: right;\">\n",
       "      <th></th>\n",
       "      <th>prior</th>\n",
       "      <th>likelihood</th>\n",
       "      <th>unnorm</th>\n",
       "      <th>posterior</th>\n",
       "    </tr>\n",
       "  </thead>\n",
       "  <tbody>\n",
       "    <tr>\n",
       "      <th>Stolen</th>\n",
       "      <td>0.123077</td>\n",
       "      <td>0.461538</td>\n",
       "      <td>0.056805</td>\n",
       "      <td>0.932963</td>\n",
       "    </tr>\n",
       "    <tr>\n",
       "      <th>Not Stolen</th>\n",
       "      <td>0.014286</td>\n",
       "      <td>0.285714</td>\n",
       "      <td>0.004082</td>\n",
       "      <td>0.067037</td>\n",
       "    </tr>\n",
       "  </tbody>\n",
       "</table>\n",
       "</div>"
      ],
      "text/plain": [
       "               prior  likelihood    unnorm  posterior\n",
       "Stolen      0.123077    0.461538  0.056805   0.932963\n",
       "Not Stolen  0.014286    0.285714  0.004082   0.067037"
      ]
     },
     "execution_count": 343,
     "metadata": {},
     "output_type": "execute_result"
    }
   ],
   "source": [
    "update(car3)\n",
    "car3"
   ]
  },
  {
   "cell_type": "code",
   "execution_count": 344,
   "metadata": {},
   "outputs": [
    {
     "data": {
      "text/plain": [
       "Stolen        1.136095\n",
       "Not Stolen    0.081633\n",
       "Name: unnorm, dtype: float64"
      ]
     },
     "execution_count": 344,
     "metadata": {},
     "output_type": "execute_result"
    }
   ],
   "source": [
    "car3[\"unnorm\"] / .05"
   ]
  },
  {
   "cell_type": "markdown",
   "metadata": {},
   "source": [
    "#### Check Result\n",
    "\n",
    "We think that the probability of my car being stolen <b>if</b> it is a BMW, black, and at night is about 93%. We can check that. "
   ]
  },
  {
   "cell_type": "code",
   "execution_count": 345,
   "metadata": {},
   "outputs": [
    {
     "data": {
      "text/html": [
       "<div>\n",
       "<style scoped>\n",
       "    .dataframe tbody tr th:only-of-type {\n",
       "        vertical-align: middle;\n",
       "    }\n",
       "\n",
       "    .dataframe tbody tr th {\n",
       "        vertical-align: top;\n",
       "    }\n",
       "\n",
       "    .dataframe thead th {\n",
       "        text-align: right;\n",
       "    }\n",
       "</style>\n",
       "<table border=\"1\" class=\"dataframe\">\n",
       "  <thead>\n",
       "    <tr style=\"text-align: right;\">\n",
       "      <th></th>\n",
       "      <th>ID</th>\n",
       "      <th>Make</th>\n",
       "      <th>Color</th>\n",
       "      <th>Time</th>\n",
       "      <th>Stolen</th>\n",
       "    </tr>\n",
       "  </thead>\n",
       "  <tbody>\n",
       "    <tr>\n",
       "      <th>0</th>\n",
       "      <td>N001</td>\n",
       "      <td>BMW</td>\n",
       "      <td>black</td>\n",
       "      <td>night</td>\n",
       "      <td>yes</td>\n",
       "    </tr>\n",
       "    <tr>\n",
       "      <th>10</th>\n",
       "      <td>N011</td>\n",
       "      <td>BMW</td>\n",
       "      <td>black</td>\n",
       "      <td>night</td>\n",
       "      <td>yes</td>\n",
       "    </tr>\n",
       "  </tbody>\n",
       "</table>\n",
       "</div>"
      ],
      "text/plain": [
       "      ID Make  Color   Time Stolen\n",
       "0   N001  BMW  black  night    yes\n",
       "10  N011  BMW  black  night    yes"
      ]
     },
     "execution_count": 345,
     "metadata": {},
     "output_type": "execute_result"
    }
   ],
   "source": [
    "tmp1 = df_car[df_car[\"Make\"] == \"BMW\"] # how many are BMW\n",
    "tmp2 = tmp1[tmp1[\"Color\"] == \"black\"] # of those, how many are black\n",
    "tmp3 = tmp2[tmp2[\"Time\"] == \"night\"] #of those, how many are at night\n",
    "tmp3"
   ]
  },
  {
   "cell_type": "code",
   "execution_count": 346,
   "metadata": {},
   "outputs": [
    {
     "data": {
      "text/plain": [
       "(0.3, 0.45, 0.4, 0.054000000000000006)"
      ]
     },
     "execution_count": 346,
     "metadata": {},
     "output_type": "execute_result"
    }
   ],
   "source": [
    "p_BMW = len(df_car[df_car[\"Make\"] == \"BMW\"]) / len(df_car)\n",
    "p_Black = len(df_car[df_car[\"Color\"] == \"black\"]) / len(df_car)\n",
    "p_Night = len(df_car[df_car[\"Time\"] == \"night\"]) / len(df_car)\n",
    "den = p_BMW * p_Black * p_Night\n",
    "p_BMW, p_Black, p_Night, den"
   ]
  },
  {
   "cell_type": "code",
   "execution_count": 347,
   "metadata": {},
   "outputs": [
    {
     "data": {
      "text/plain": [
       "(0.65,\n",
       " 0.3076923076923077,\n",
       " 0.6153846153846154,\n",
       " 0.46153846153846156,\n",
       " 0.05680473372781066)"
      ]
     },
     "execution_count": 347,
     "metadata": {},
     "output_type": "execute_result"
    }
   ],
   "source": [
    "p_stolen = len(tmp)/len(df)\n",
    "pBMW_stolen = len(tmp[tmp[\"Make\"] == \"BMW\"]) / len(tmp)\n",
    "pBlack_stolen = len(tmp[tmp[\"Color\"] == \"black\"]) / len(tmp)\n",
    "pNight_stolen = len(tmp[tmp[\"Time\"] == \"night\"]) / len(tmp)\n",
    "\n",
    "numer = (pBMW_stolen * pBlack_stolen * pNight_stolen * p_stolen)\n",
    "\n",
    "\n",
    "p_stolen, pBMW_stolen, pBlack_stolen, pNight_stolen, numer"
   ]
  },
  {
   "cell_type": "code",
   "execution_count": 348,
   "metadata": {},
   "outputs": [
    {
     "data": {
      "text/plain": [
       "1.0519395134779752"
      ]
     },
     "execution_count": 348,
     "metadata": {},
     "output_type": "execute_result"
    }
   ],
   "source": [
    "numer / den"
   ]
  },
  {
   "cell_type": "markdown",
   "metadata": {},
   "source": [
    "### Multiple Bayes\n",
    "\n",
    "What is the probability of playing when the weather is sunny, and the temperature is cool."
   ]
  },
  {
   "cell_type": "code",
   "execution_count": 350,
   "metadata": {},
   "outputs": [
    {
     "data": {
      "text/html": [
       "<div>\n",
       "<style scoped>\n",
       "    .dataframe tbody tr th:only-of-type {\n",
       "        vertical-align: middle;\n",
       "    }\n",
       "\n",
       "    .dataframe tbody tr th {\n",
       "        vertical-align: top;\n",
       "    }\n",
       "\n",
       "    .dataframe thead th {\n",
       "        text-align: right;\n",
       "    }\n",
       "</style>\n",
       "<table border=\"1\" class=\"dataframe\">\n",
       "  <thead>\n",
       "    <tr style=\"text-align: right;\">\n",
       "      <th></th>\n",
       "      <th>Outlook</th>\n",
       "      <th>Temp</th>\n",
       "      <th>Humidity</th>\n",
       "      <th>Windy</th>\n",
       "      <th>Play</th>\n",
       "    </tr>\n",
       "  </thead>\n",
       "  <tbody>\n",
       "    <tr>\n",
       "      <th>0</th>\n",
       "      <td>Rainy</td>\n",
       "      <td>Hot</td>\n",
       "      <td>High</td>\n",
       "      <td>f</td>\n",
       "      <td>no</td>\n",
       "    </tr>\n",
       "    <tr>\n",
       "      <th>1</th>\n",
       "      <td>Rainy</td>\n",
       "      <td>Hot</td>\n",
       "      <td>High</td>\n",
       "      <td>t</td>\n",
       "      <td>no</td>\n",
       "    </tr>\n",
       "    <tr>\n",
       "      <th>2</th>\n",
       "      <td>Overcast</td>\n",
       "      <td>Hot</td>\n",
       "      <td>High</td>\n",
       "      <td>f</td>\n",
       "      <td>yes</td>\n",
       "    </tr>\n",
       "    <tr>\n",
       "      <th>3</th>\n",
       "      <td>Sunny</td>\n",
       "      <td>Mild</td>\n",
       "      <td>High</td>\n",
       "      <td>f</td>\n",
       "      <td>yes</td>\n",
       "    </tr>\n",
       "    <tr>\n",
       "      <th>4</th>\n",
       "      <td>Sunny</td>\n",
       "      <td>Cool</td>\n",
       "      <td>Normal</td>\n",
       "      <td>f</td>\n",
       "      <td>yes</td>\n",
       "    </tr>\n",
       "    <tr>\n",
       "      <th>5</th>\n",
       "      <td>Sunny</td>\n",
       "      <td>Cool</td>\n",
       "      <td>Normal</td>\n",
       "      <td>t</td>\n",
       "      <td>no</td>\n",
       "    </tr>\n",
       "    <tr>\n",
       "      <th>6</th>\n",
       "      <td>Overcast</td>\n",
       "      <td>Cool</td>\n",
       "      <td>Normal</td>\n",
       "      <td>t</td>\n",
       "      <td>yes</td>\n",
       "    </tr>\n",
       "    <tr>\n",
       "      <th>7</th>\n",
       "      <td>Rainy</td>\n",
       "      <td>Mild</td>\n",
       "      <td>High</td>\n",
       "      <td>f</td>\n",
       "      <td>no</td>\n",
       "    </tr>\n",
       "    <tr>\n",
       "      <th>8</th>\n",
       "      <td>Rainy</td>\n",
       "      <td>Cool</td>\n",
       "      <td>Normal</td>\n",
       "      <td>f</td>\n",
       "      <td>yes</td>\n",
       "    </tr>\n",
       "    <tr>\n",
       "      <th>9</th>\n",
       "      <td>Sunny</td>\n",
       "      <td>Mild</td>\n",
       "      <td>Normal</td>\n",
       "      <td>f</td>\n",
       "      <td>yes</td>\n",
       "    </tr>\n",
       "    <tr>\n",
       "      <th>10</th>\n",
       "      <td>Rainy</td>\n",
       "      <td>Mild</td>\n",
       "      <td>Normal</td>\n",
       "      <td>t</td>\n",
       "      <td>yes</td>\n",
       "    </tr>\n",
       "    <tr>\n",
       "      <th>11</th>\n",
       "      <td>Overcast</td>\n",
       "      <td>Mild</td>\n",
       "      <td>High</td>\n",
       "      <td>t</td>\n",
       "      <td>yes</td>\n",
       "    </tr>\n",
       "    <tr>\n",
       "      <th>12</th>\n",
       "      <td>Overcast</td>\n",
       "      <td>Hot</td>\n",
       "      <td>Normal</td>\n",
       "      <td>f</td>\n",
       "      <td>yes</td>\n",
       "    </tr>\n",
       "    <tr>\n",
       "      <th>13</th>\n",
       "      <td>Sunny</td>\n",
       "      <td>Mild</td>\n",
       "      <td>High</td>\n",
       "      <td>t</td>\n",
       "      <td>no</td>\n",
       "    </tr>\n",
       "  </tbody>\n",
       "</table>\n",
       "</div>"
      ],
      "text/plain": [
       "     Outlook  Temp Humidity Windy Play\n",
       "0      Rainy   Hot     High     f   no\n",
       "1      Rainy   Hot     High     t   no\n",
       "2   Overcast   Hot     High     f  yes\n",
       "3      Sunny  Mild     High     f  yes\n",
       "4      Sunny  Cool   Normal     f  yes\n",
       "5      Sunny  Cool   Normal     t   no\n",
       "6   Overcast  Cool   Normal     t  yes\n",
       "7      Rainy  Mild     High     f   no\n",
       "8      Rainy  Cool   Normal     f  yes\n",
       "9      Sunny  Mild   Normal     f  yes\n",
       "10     Rainy  Mild   Normal     t  yes\n",
       "11  Overcast  Mild     High     t  yes\n",
       "12  Overcast   Hot   Normal     f  yes\n",
       "13     Sunny  Mild     High     t   no"
      ]
     },
     "execution_count": 350,
     "metadata": {},
     "output_type": "execute_result"
    }
   ],
   "source": [
    "dfw = pd.read_csv(\"data/weather.txt\", sep=\"\\t\")\n",
    "dfw"
   ]
  },
  {
   "cell_type": "markdown",
   "metadata": {},
   "source": [
    "#### Direct Calculation"
   ]
  },
  {
   "cell_type": "code",
   "execution_count": 351,
   "metadata": {},
   "outputs": [
    {
     "name": "stdout",
     "output_type": "stream",
     "text": [
      "14 9/14 5/14 2/7\n"
     ]
    }
   ],
   "source": [
    "total = len(dfw)\n",
    "dfPlay = dfw[dfw[\"Play\"] == \"yes\"]\n",
    "dfNoPlay = dfw[dfw[\"Play\"] == \"no\"]\n",
    "playTotal = Fraction(len(dfPlay))\n",
    "\n",
    "#print(len(dfw[dfw[\"Play\"] == \"yes\"]))\n",
    "\n",
    "#pPlay = Fraction(len(dfw[dfw[\"Play\"] == \"yes\"]) / total)\n",
    "#pOutlook = len(dfw[dfw[\"Outlook\"] == \"Sunny\"]) / total\n",
    "#pTemp = len(dfw[dfw[\"Temp\"] == \"Cool\"]) / total\n",
    "pPlay = Fraction(len(dfw[dfw[\"Play\"] == \"yes\"]), total)\n",
    "pOutlook = Fraction(len(dfw[dfw[\"Outlook\"] == \"Sunny\"]), total)\n",
    "pTemp = Fraction(len(dfw[dfw[\"Temp\"] == \"Cool\"]), total)\n",
    "\n",
    "print(total, pPlay, pOutlook, pTemp)"
   ]
  },
  {
   "cell_type": "code",
   "execution_count": 352,
   "metadata": {},
   "outputs": [
    {
     "name": "stdout",
     "output_type": "stream",
     "text": [
      "9 1/3 1/3\n"
     ]
    }
   ],
   "source": [
    "# Conditionals\n",
    "pOutlookPlay = len(dfPlay[dfPlay[\"Outlook\"] == \"Sunny\"]) / playTotal\n",
    "pTempPlay = len(dfPlay[dfPlay[\"Temp\"] == \"Cool\"]) / playTotal\n",
    "\n",
    "print(playTotal, pOutlookPlay, pTempPlay)"
   ]
  },
  {
   "cell_type": "code",
   "execution_count": 353,
   "metadata": {},
   "outputs": [
    {
     "data": {
      "text/plain": [
       "Fraction(1, 14)"
      ]
     },
     "execution_count": 353,
     "metadata": {},
     "output_type": "execute_result"
    }
   ],
   "source": [
    "like_play = (pOutlookPlay * pTempPlay * pPlay)\n",
    "like_play"
   ]
  },
  {
   "cell_type": "code",
   "execution_count": 354,
   "metadata": {},
   "outputs": [
    {
     "data": {
      "text/plain": [
       "Fraction(7, 10)"
      ]
     },
     "execution_count": 354,
     "metadata": {},
     "output_type": "execute_result"
    }
   ],
   "source": [
    "# Total\n",
    "(pOutlookPlay * pTempPlay * pPlay) / (pOutlook * pTemp)"
   ]
  },
  {
   "cell_type": "markdown",
   "metadata": {},
   "source": [
    "#### Results\n",
    "\n"
   ]
  },
  {
   "cell_type": "markdown",
   "metadata": {},
   "source": [
    "### Tables"
   ]
  },
  {
   "cell_type": "code",
   "execution_count": 355,
   "metadata": {},
   "outputs": [
    {
     "data": {
      "text/html": [
       "<div>\n",
       "<style scoped>\n",
       "    .dataframe tbody tr th:only-of-type {\n",
       "        vertical-align: middle;\n",
       "    }\n",
       "\n",
       "    .dataframe tbody tr th {\n",
       "        vertical-align: top;\n",
       "    }\n",
       "\n",
       "    .dataframe thead th {\n",
       "        text-align: right;\n",
       "    }\n",
       "</style>\n",
       "<table border=\"1\" class=\"dataframe\">\n",
       "  <thead>\n",
       "    <tr style=\"text-align: right;\">\n",
       "      <th></th>\n",
       "      <th>prior</th>\n",
       "    </tr>\n",
       "  </thead>\n",
       "  <tbody>\n",
       "    <tr>\n",
       "      <th>Play</th>\n",
       "      <td>9/14</td>\n",
       "    </tr>\n",
       "    <tr>\n",
       "      <th>Not Play</th>\n",
       "      <td>5/14</td>\n",
       "    </tr>\n",
       "  </tbody>\n",
       "</table>\n",
       "</div>"
      ],
      "text/plain": [
       "         prior\n",
       "Play      9/14\n",
       "Not Play  5/14"
      ]
     },
     "execution_count": 355,
     "metadata": {},
     "output_type": "execute_result"
    }
   ],
   "source": [
    "weather = pd.DataFrame(index=[\"Play\", \"Not Play\"])\n",
    "\n",
    "weather[\"prior\"] = pPlay, (1 - pPlay)\n",
    "weather"
   ]
  },
  {
   "cell_type": "markdown",
   "metadata": {},
   "source": [
    "Add Outlook"
   ]
  },
  {
   "cell_type": "code",
   "execution_count": 356,
   "metadata": {},
   "outputs": [
    {
     "data": {
      "text/html": [
       "<div>\n",
       "<style scoped>\n",
       "    .dataframe tbody tr th:only-of-type {\n",
       "        vertical-align: middle;\n",
       "    }\n",
       "\n",
       "    .dataframe tbody tr th {\n",
       "        vertical-align: top;\n",
       "    }\n",
       "\n",
       "    .dataframe thead th {\n",
       "        text-align: right;\n",
       "    }\n",
       "</style>\n",
       "<table border=\"1\" class=\"dataframe\">\n",
       "  <thead>\n",
       "    <tr style=\"text-align: right;\">\n",
       "      <th></th>\n",
       "      <th>prior</th>\n",
       "      <th>likelihood</th>\n",
       "    </tr>\n",
       "  </thead>\n",
       "  <tbody>\n",
       "    <tr>\n",
       "      <th>Play</th>\n",
       "      <td>9/14</td>\n",
       "      <td>1/3</td>\n",
       "    </tr>\n",
       "    <tr>\n",
       "      <th>Not Play</th>\n",
       "      <td>5/14</td>\n",
       "      <td>2/5</td>\n",
       "    </tr>\n",
       "  </tbody>\n",
       "</table>\n",
       "</div>"
      ],
      "text/plain": [
       "         prior likelihood\n",
       "Play      9/14        1/3\n",
       "Not Play  5/14        2/5"
      ]
     },
     "execution_count": 356,
     "metadata": {},
     "output_type": "execute_result"
    }
   ],
   "source": [
    "if_playOut = Fraction(len(dfPlay[dfPlay[\"Outlook\"] == \"Sunny\"]), len(dfPlay))\n",
    "if_notOut = Fraction(len(dfNoPlay[dfNoPlay[\"Outlook\"] == \"Sunny\"]), len(dfNoPlay))\n",
    "weather[\"likelihood\"] = if_playOut, if_notOut\n",
    "weather"
   ]
  },
  {
   "cell_type": "code",
   "execution_count": 357,
   "metadata": {},
   "outputs": [
    {
     "data": {
      "text/html": [
       "<div>\n",
       "<style scoped>\n",
       "    .dataframe tbody tr th:only-of-type {\n",
       "        vertical-align: middle;\n",
       "    }\n",
       "\n",
       "    .dataframe tbody tr th {\n",
       "        vertical-align: top;\n",
       "    }\n",
       "\n",
       "    .dataframe thead th {\n",
       "        text-align: right;\n",
       "    }\n",
       "</style>\n",
       "<table border=\"1\" class=\"dataframe\">\n",
       "  <thead>\n",
       "    <tr style=\"text-align: right;\">\n",
       "      <th></th>\n",
       "      <th>prior</th>\n",
       "      <th>likelihood</th>\n",
       "      <th>unnorm</th>\n",
       "      <th>posterior</th>\n",
       "    </tr>\n",
       "  </thead>\n",
       "  <tbody>\n",
       "    <tr>\n",
       "      <th>Play</th>\n",
       "      <td>9/14</td>\n",
       "      <td>1/3</td>\n",
       "      <td>3/14</td>\n",
       "      <td>3/5</td>\n",
       "    </tr>\n",
       "    <tr>\n",
       "      <th>Not Play</th>\n",
       "      <td>5/14</td>\n",
       "      <td>2/5</td>\n",
       "      <td>1/7</td>\n",
       "      <td>2/5</td>\n",
       "    </tr>\n",
       "  </tbody>\n",
       "</table>\n",
       "</div>"
      ],
      "text/plain": [
       "         prior likelihood unnorm posterior\n",
       "Play      9/14        1/3   3/14       3/5\n",
       "Not Play  5/14        2/5    1/7       2/5"
      ]
     },
     "execution_count": 357,
     "metadata": {},
     "output_type": "execute_result"
    }
   ],
   "source": [
    "update(weather)\n",
    "weather"
   ]
  },
  {
   "cell_type": "markdown",
   "metadata": {},
   "source": [
    "#### Add Temp"
   ]
  },
  {
   "cell_type": "code",
   "execution_count": 358,
   "metadata": {},
   "outputs": [
    {
     "data": {
      "text/html": [
       "<div>\n",
       "<style scoped>\n",
       "    .dataframe tbody tr th:only-of-type {\n",
       "        vertical-align: middle;\n",
       "    }\n",
       "\n",
       "    .dataframe tbody tr th {\n",
       "        vertical-align: top;\n",
       "    }\n",
       "\n",
       "    .dataframe thead th {\n",
       "        text-align: right;\n",
       "    }\n",
       "</style>\n",
       "<table border=\"1\" class=\"dataframe\">\n",
       "  <thead>\n",
       "    <tr style=\"text-align: right;\">\n",
       "      <th></th>\n",
       "      <th>prior</th>\n",
       "    </tr>\n",
       "  </thead>\n",
       "  <tbody>\n",
       "    <tr>\n",
       "      <th>Play</th>\n",
       "      <td>3/14</td>\n",
       "    </tr>\n",
       "    <tr>\n",
       "      <th>Not Play</th>\n",
       "      <td>1/7</td>\n",
       "    </tr>\n",
       "  </tbody>\n",
       "</table>\n",
       "</div>"
      ],
      "text/plain": [
       "         prior\n",
       "Play      3/14\n",
       "Not Play   1/7"
      ]
     },
     "execution_count": 358,
     "metadata": {},
     "output_type": "execute_result"
    }
   ],
   "source": [
    "#car3 = car2[[\"posterior\"]]\n",
    "#car3 = car3.rename(columns={\"posterior\": \"prior\"})\n",
    "w2 = weather[[\"unnorm\"]]\n",
    "w2 = w2.rename(columns={\"unnorm\": \"prior\"})\n",
    "w2"
   ]
  },
  {
   "cell_type": "code",
   "execution_count": 359,
   "metadata": {},
   "outputs": [
    {
     "data": {
      "text/html": [
       "<div>\n",
       "<style scoped>\n",
       "    .dataframe tbody tr th:only-of-type {\n",
       "        vertical-align: middle;\n",
       "    }\n",
       "\n",
       "    .dataframe tbody tr th {\n",
       "        vertical-align: top;\n",
       "    }\n",
       "\n",
       "    .dataframe thead th {\n",
       "        text-align: right;\n",
       "    }\n",
       "</style>\n",
       "<table border=\"1\" class=\"dataframe\">\n",
       "  <thead>\n",
       "    <tr style=\"text-align: right;\">\n",
       "      <th></th>\n",
       "      <th>prior</th>\n",
       "      <th>likelihood</th>\n",
       "    </tr>\n",
       "  </thead>\n",
       "  <tbody>\n",
       "    <tr>\n",
       "      <th>Play</th>\n",
       "      <td>3/14</td>\n",
       "      <td>1/3</td>\n",
       "    </tr>\n",
       "    <tr>\n",
       "      <th>Not Play</th>\n",
       "      <td>1/7</td>\n",
       "      <td>1/5</td>\n",
       "    </tr>\n",
       "  </tbody>\n",
       "</table>\n",
       "</div>"
      ],
      "text/plain": [
       "         prior likelihood\n",
       "Play      3/14        1/3\n",
       "Not Play   1/7        1/5"
      ]
     },
     "execution_count": 359,
     "metadata": {},
     "output_type": "execute_result"
    }
   ],
   "source": [
    "if_playTemp = Fraction(len(dfPlay[dfPlay[\"Temp\"] == \"Cool\"]), len(dfPlay))\n",
    "if_notTemp = Fraction(len(dfNoPlay[dfNoPlay[\"Temp\"] == \"Cool\"]), len(dfNoPlay))\n",
    "w2[\"likelihood\"] = if_playTemp, if_notTemp\n",
    "w2"
   ]
  },
  {
   "cell_type": "code",
   "execution_count": 360,
   "metadata": {},
   "outputs": [
    {
     "data": {
      "text/html": [
       "<div>\n",
       "<style scoped>\n",
       "    .dataframe tbody tr th:only-of-type {\n",
       "        vertical-align: middle;\n",
       "    }\n",
       "\n",
       "    .dataframe tbody tr th {\n",
       "        vertical-align: top;\n",
       "    }\n",
       "\n",
       "    .dataframe thead th {\n",
       "        text-align: right;\n",
       "    }\n",
       "</style>\n",
       "<table border=\"1\" class=\"dataframe\">\n",
       "  <thead>\n",
       "    <tr style=\"text-align: right;\">\n",
       "      <th></th>\n",
       "      <th>prior</th>\n",
       "      <th>likelihood</th>\n",
       "      <th>unnorm</th>\n",
       "      <th>posterior</th>\n",
       "    </tr>\n",
       "  </thead>\n",
       "  <tbody>\n",
       "    <tr>\n",
       "      <th>Play</th>\n",
       "      <td>3/14</td>\n",
       "      <td>1/3</td>\n",
       "      <td>1/14</td>\n",
       "      <td>5/7</td>\n",
       "    </tr>\n",
       "    <tr>\n",
       "      <th>Not Play</th>\n",
       "      <td>1/7</td>\n",
       "      <td>1/5</td>\n",
       "      <td>1/35</td>\n",
       "      <td>2/7</td>\n",
       "    </tr>\n",
       "  </tbody>\n",
       "</table>\n",
       "</div>"
      ],
      "text/plain": [
       "         prior likelihood unnorm posterior\n",
       "Play      3/14        1/3   1/14       5/7\n",
       "Not Play   1/7        1/5   1/35       2/7"
      ]
     },
     "execution_count": 360,
     "metadata": {},
     "output_type": "execute_result"
    }
   ],
   "source": [
    "update(w2)\n",
    "w2"
   ]
  },
  {
   "cell_type": "markdown",
   "metadata": {},
   "source": [
    "#### Results\n",
    "\n",
    "We would predict this as a \"play\", since we are about 71% likely to think that is a play. "
   ]
  },
  {
   "cell_type": "markdown",
   "metadata": {},
   "source": [
    "### Sunny, Hot, Normal, False"
   ]
  },
  {
   "cell_type": "code",
   "execution_count": 361,
   "metadata": {},
   "outputs": [
    {
     "data": {
      "text/html": [
       "<div>\n",
       "<style scoped>\n",
       "    .dataframe tbody tr th:only-of-type {\n",
       "        vertical-align: middle;\n",
       "    }\n",
       "\n",
       "    .dataframe tbody tr th {\n",
       "        vertical-align: top;\n",
       "    }\n",
       "\n",
       "    .dataframe thead th {\n",
       "        text-align: right;\n",
       "    }\n",
       "</style>\n",
       "<table border=\"1\" class=\"dataframe\">\n",
       "  <thead>\n",
       "    <tr style=\"text-align: right;\">\n",
       "      <th></th>\n",
       "      <th>prior</th>\n",
       "    </tr>\n",
       "  </thead>\n",
       "  <tbody>\n",
       "    <tr>\n",
       "      <th>Play</th>\n",
       "      <td>9/14</td>\n",
       "    </tr>\n",
       "    <tr>\n",
       "      <th>Not Play</th>\n",
       "      <td>5/14</td>\n",
       "    </tr>\n",
       "  </tbody>\n",
       "</table>\n",
       "</div>"
      ],
      "text/plain": [
       "         prior\n",
       "Play      9/14\n",
       "Not Play  5/14"
      ]
     },
     "execution_count": 361,
     "metadata": {},
     "output_type": "execute_result"
    }
   ],
   "source": [
    "weatherBig = pd.DataFrame(index=[\"Play\", \"Not Play\"])\n",
    "weatherBig[\"prior\"] = pPlay, (1 - pPlay)\n",
    "weatherBig"
   ]
  },
  {
   "cell_type": "markdown",
   "metadata": {},
   "source": [
    "##### Outlook"
   ]
  },
  {
   "cell_type": "code",
   "execution_count": 362,
   "metadata": {},
   "outputs": [
    {
     "name": "stdout",
     "output_type": "stream",
     "text": [
      "1/3 2/5\n"
     ]
    },
    {
     "data": {
      "text/html": [
       "<div>\n",
       "<style scoped>\n",
       "    .dataframe tbody tr th:only-of-type {\n",
       "        vertical-align: middle;\n",
       "    }\n",
       "\n",
       "    .dataframe tbody tr th {\n",
       "        vertical-align: top;\n",
       "    }\n",
       "\n",
       "    .dataframe thead th {\n",
       "        text-align: right;\n",
       "    }\n",
       "</style>\n",
       "<table border=\"1\" class=\"dataframe\">\n",
       "  <thead>\n",
       "    <tr style=\"text-align: right;\">\n",
       "      <th></th>\n",
       "      <th>prior</th>\n",
       "      <th>likelihood</th>\n",
       "      <th>unnorm</th>\n",
       "      <th>posterior</th>\n",
       "    </tr>\n",
       "  </thead>\n",
       "  <tbody>\n",
       "    <tr>\n",
       "      <th>Play</th>\n",
       "      <td>9/14</td>\n",
       "      <td>1/3</td>\n",
       "      <td>3/14</td>\n",
       "      <td>3/5</td>\n",
       "    </tr>\n",
       "    <tr>\n",
       "      <th>Not Play</th>\n",
       "      <td>5/14</td>\n",
       "      <td>2/5</td>\n",
       "      <td>1/7</td>\n",
       "      <td>2/5</td>\n",
       "    </tr>\n",
       "  </tbody>\n",
       "</table>\n",
       "</div>"
      ],
      "text/plain": [
       "         prior likelihood unnorm posterior\n",
       "Play      9/14        1/3   3/14       3/5\n",
       "Not Play  5/14        2/5    1/7       2/5"
      ]
     },
     "execution_count": 362,
     "metadata": {},
     "output_type": "execute_result"
    }
   ],
   "source": [
    "if_playOut2 = Fraction(len(dfPlay[dfPlay[\"Outlook\"] == \"Sunny\"]), len(dfPlay))\n",
    "if_notOut2 = Fraction(len(dfNoPlay[dfNoPlay[\"Outlook\"] == \"Sunny\"]), len(dfNoPlay))\n",
    "print(Fraction(if_playOut2), Fraction(if_notOut2))\n",
    "weatherBig[\"likelihood\"] = if_playOut2, if_notOut2\n",
    "update(weatherBig)\n",
    "weatherBig"
   ]
  },
  {
   "cell_type": "markdown",
   "metadata": {},
   "source": [
    "##### Temperature"
   ]
  },
  {
   "cell_type": "code",
   "execution_count": 363,
   "metadata": {},
   "outputs": [
    {
     "data": {
      "text/html": [
       "<div>\n",
       "<style scoped>\n",
       "    .dataframe tbody tr th:only-of-type {\n",
       "        vertical-align: middle;\n",
       "    }\n",
       "\n",
       "    .dataframe tbody tr th {\n",
       "        vertical-align: top;\n",
       "    }\n",
       "\n",
       "    .dataframe thead th {\n",
       "        text-align: right;\n",
       "    }\n",
       "</style>\n",
       "<table border=\"1\" class=\"dataframe\">\n",
       "  <thead>\n",
       "    <tr style=\"text-align: right;\">\n",
       "      <th></th>\n",
       "      <th>prior</th>\n",
       "    </tr>\n",
       "  </thead>\n",
       "  <tbody>\n",
       "    <tr>\n",
       "      <th>Play</th>\n",
       "      <td>3/14</td>\n",
       "    </tr>\n",
       "    <tr>\n",
       "      <th>Not Play</th>\n",
       "      <td>1/7</td>\n",
       "    </tr>\n",
       "  </tbody>\n",
       "</table>\n",
       "</div>"
      ],
      "text/plain": [
       "         prior\n",
       "Play      3/14\n",
       "Not Play   1/7"
      ]
     },
     "execution_count": 363,
     "metadata": {},
     "output_type": "execute_result"
    }
   ],
   "source": [
    "wB1 = weatherBig[[\"unnorm\"]]\n",
    "wB1 = wB1.rename(columns={\"unnorm\": \"prior\"})\n",
    "wB1"
   ]
  },
  {
   "cell_type": "code",
   "execution_count": 364,
   "metadata": {},
   "outputs": [
    {
     "name": "stdout",
     "output_type": "stream",
     "text": [
      "2/9 2/5\n"
     ]
    },
    {
     "data": {
      "text/html": [
       "<div>\n",
       "<style scoped>\n",
       "    .dataframe tbody tr th:only-of-type {\n",
       "        vertical-align: middle;\n",
       "    }\n",
       "\n",
       "    .dataframe tbody tr th {\n",
       "        vertical-align: top;\n",
       "    }\n",
       "\n",
       "    .dataframe thead th {\n",
       "        text-align: right;\n",
       "    }\n",
       "</style>\n",
       "<table border=\"1\" class=\"dataframe\">\n",
       "  <thead>\n",
       "    <tr style=\"text-align: right;\">\n",
       "      <th></th>\n",
       "      <th>prior</th>\n",
       "      <th>likelihood</th>\n",
       "      <th>unnorm</th>\n",
       "      <th>posterior</th>\n",
       "    </tr>\n",
       "  </thead>\n",
       "  <tbody>\n",
       "    <tr>\n",
       "      <th>Play</th>\n",
       "      <td>3/14</td>\n",
       "      <td>2/9</td>\n",
       "      <td>1/21</td>\n",
       "      <td>5/11</td>\n",
       "    </tr>\n",
       "    <tr>\n",
       "      <th>Not Play</th>\n",
       "      <td>1/7</td>\n",
       "      <td>2/5</td>\n",
       "      <td>2/35</td>\n",
       "      <td>6/11</td>\n",
       "    </tr>\n",
       "  </tbody>\n",
       "</table>\n",
       "</div>"
      ],
      "text/plain": [
       "         prior likelihood unnorm posterior\n",
       "Play      3/14        2/9   1/21      5/11\n",
       "Not Play   1/7        2/5   2/35      6/11"
      ]
     },
     "execution_count": 364,
     "metadata": {},
     "output_type": "execute_result"
    }
   ],
   "source": [
    "if_playTemp2 = Fraction(len(dfPlay[dfPlay[\"Temp\"] == \"Hot\"]), len(dfPlay))\n",
    "if_notTemp2 = Fraction(len(dfNoPlay[dfNoPlay[\"Temp\"] == \"Hot\"]), len(dfNoPlay))\n",
    "print(Fraction(if_playTemp2), Fraction(if_notTemp2))\n",
    "wB1[\"likelihood\"] = if_playTemp2, if_notTemp2\n",
    "update(wB1)\n",
    "wB1"
   ]
  },
  {
   "cell_type": "markdown",
   "metadata": {},
   "source": [
    "##### Humidity"
   ]
  },
  {
   "cell_type": "code",
   "execution_count": 365,
   "metadata": {},
   "outputs": [
    {
     "data": {
      "text/html": [
       "<div>\n",
       "<style scoped>\n",
       "    .dataframe tbody tr th:only-of-type {\n",
       "        vertical-align: middle;\n",
       "    }\n",
       "\n",
       "    .dataframe tbody tr th {\n",
       "        vertical-align: top;\n",
       "    }\n",
       "\n",
       "    .dataframe thead th {\n",
       "        text-align: right;\n",
       "    }\n",
       "</style>\n",
       "<table border=\"1\" class=\"dataframe\">\n",
       "  <thead>\n",
       "    <tr style=\"text-align: right;\">\n",
       "      <th></th>\n",
       "      <th>prior</th>\n",
       "    </tr>\n",
       "  </thead>\n",
       "  <tbody>\n",
       "    <tr>\n",
       "      <th>Play</th>\n",
       "      <td>1/21</td>\n",
       "    </tr>\n",
       "    <tr>\n",
       "      <th>Not Play</th>\n",
       "      <td>2/35</td>\n",
       "    </tr>\n",
       "  </tbody>\n",
       "</table>\n",
       "</div>"
      ],
      "text/plain": [
       "         prior\n",
       "Play      1/21\n",
       "Not Play  2/35"
      ]
     },
     "execution_count": 365,
     "metadata": {},
     "output_type": "execute_result"
    }
   ],
   "source": [
    "wB2 = wB1[[\"unnorm\"]]\n",
    "wB2 = wB2.rename(columns={\"unnorm\": \"prior\"})\n",
    "wB2"
   ]
  },
  {
   "cell_type": "code",
   "execution_count": 366,
   "metadata": {},
   "outputs": [
    {
     "name": "stdout",
     "output_type": "stream",
     "text": [
      "2/3 1/5\n"
     ]
    },
    {
     "data": {
      "text/html": [
       "<div>\n",
       "<style scoped>\n",
       "    .dataframe tbody tr th:only-of-type {\n",
       "        vertical-align: middle;\n",
       "    }\n",
       "\n",
       "    .dataframe tbody tr th {\n",
       "        vertical-align: top;\n",
       "    }\n",
       "\n",
       "    .dataframe thead th {\n",
       "        text-align: right;\n",
       "    }\n",
       "</style>\n",
       "<table border=\"1\" class=\"dataframe\">\n",
       "  <thead>\n",
       "    <tr style=\"text-align: right;\">\n",
       "      <th></th>\n",
       "      <th>prior</th>\n",
       "      <th>likelihood</th>\n",
       "      <th>unnorm</th>\n",
       "      <th>posterior</th>\n",
       "    </tr>\n",
       "  </thead>\n",
       "  <tbody>\n",
       "    <tr>\n",
       "      <th>Play</th>\n",
       "      <td>1/21</td>\n",
       "      <td>2/3</td>\n",
       "      <td>2/63</td>\n",
       "      <td>25/34</td>\n",
       "    </tr>\n",
       "    <tr>\n",
       "      <th>Not Play</th>\n",
       "      <td>2/35</td>\n",
       "      <td>1/5</td>\n",
       "      <td>2/175</td>\n",
       "      <td>9/34</td>\n",
       "    </tr>\n",
       "  </tbody>\n",
       "</table>\n",
       "</div>"
      ],
      "text/plain": [
       "         prior likelihood unnorm posterior\n",
       "Play      1/21        2/3   2/63     25/34\n",
       "Not Play  2/35        1/5  2/175      9/34"
      ]
     },
     "execution_count": 366,
     "metadata": {},
     "output_type": "execute_result"
    }
   ],
   "source": [
    "if_playHum2 = Fraction(len(dfPlay[dfPlay[\"Humidity\"] == \"Normal\"]) , len(dfPlay))\n",
    "if_notHum2 = Fraction(len(dfNoPlay[dfNoPlay[\"Humidity\"] == \"Normal\"]) , len(dfNoPlay))\n",
    "print(Fraction(if_playHum2), Fraction(if_notHum2))\n",
    "wB2[\"likelihood\"] = if_playHum2, if_notHum2\n",
    "update(wB2)\n",
    "wB2"
   ]
  },
  {
   "cell_type": "markdown",
   "metadata": {},
   "source": [
    "##### Wind"
   ]
  },
  {
   "cell_type": "code",
   "execution_count": 367,
   "metadata": {},
   "outputs": [
    {
     "data": {
      "text/html": [
       "<div>\n",
       "<style scoped>\n",
       "    .dataframe tbody tr th:only-of-type {\n",
       "        vertical-align: middle;\n",
       "    }\n",
       "\n",
       "    .dataframe tbody tr th {\n",
       "        vertical-align: top;\n",
       "    }\n",
       "\n",
       "    .dataframe thead th {\n",
       "        text-align: right;\n",
       "    }\n",
       "</style>\n",
       "<table border=\"1\" class=\"dataframe\">\n",
       "  <thead>\n",
       "    <tr style=\"text-align: right;\">\n",
       "      <th></th>\n",
       "      <th>prior</th>\n",
       "    </tr>\n",
       "  </thead>\n",
       "  <tbody>\n",
       "    <tr>\n",
       "      <th>Play</th>\n",
       "      <td>2/63</td>\n",
       "    </tr>\n",
       "    <tr>\n",
       "      <th>Not Play</th>\n",
       "      <td>2/175</td>\n",
       "    </tr>\n",
       "  </tbody>\n",
       "</table>\n",
       "</div>"
      ],
      "text/plain": [
       "          prior\n",
       "Play       2/63\n",
       "Not Play  2/175"
      ]
     },
     "execution_count": 367,
     "metadata": {},
     "output_type": "execute_result"
    }
   ],
   "source": [
    "wB3 = wB2[[\"unnorm\"]]\n",
    "wB3 = wB3.rename(columns={\"unnorm\": \"prior\"})\n",
    "wB3"
   ]
  },
  {
   "cell_type": "code",
   "execution_count": 368,
   "metadata": {},
   "outputs": [
    {
     "name": "stdout",
     "output_type": "stream",
     "text": [
      "2/3 2/5\n"
     ]
    },
    {
     "data": {
      "text/html": [
       "<div>\n",
       "<style scoped>\n",
       "    .dataframe tbody tr th:only-of-type {\n",
       "        vertical-align: middle;\n",
       "    }\n",
       "\n",
       "    .dataframe tbody tr th {\n",
       "        vertical-align: top;\n",
       "    }\n",
       "\n",
       "    .dataframe thead th {\n",
       "        text-align: right;\n",
       "    }\n",
       "</style>\n",
       "<table border=\"1\" class=\"dataframe\">\n",
       "  <thead>\n",
       "    <tr style=\"text-align: right;\">\n",
       "      <th></th>\n",
       "      <th>prior</th>\n",
       "      <th>likelihood</th>\n",
       "      <th>unnorm</th>\n",
       "      <th>posterior</th>\n",
       "    </tr>\n",
       "  </thead>\n",
       "  <tbody>\n",
       "    <tr>\n",
       "      <th>Play</th>\n",
       "      <td>2/63</td>\n",
       "      <td>2/3</td>\n",
       "      <td>4/189</td>\n",
       "      <td>125/152</td>\n",
       "    </tr>\n",
       "    <tr>\n",
       "      <th>Not Play</th>\n",
       "      <td>2/175</td>\n",
       "      <td>2/5</td>\n",
       "      <td>4/875</td>\n",
       "      <td>27/152</td>\n",
       "    </tr>\n",
       "  </tbody>\n",
       "</table>\n",
       "</div>"
      ],
      "text/plain": [
       "          prior likelihood unnorm posterior\n",
       "Play       2/63        2/3  4/189   125/152\n",
       "Not Play  2/175        2/5  4/875    27/152"
      ]
     },
     "execution_count": 368,
     "metadata": {},
     "output_type": "execute_result"
    }
   ],
   "source": [
    "if_playWind2 = Fraction(len(dfPlay[dfPlay[\"Windy\"] == \"f\"]) , len(dfPlay))\n",
    "if_notWind2 = Fraction(len(dfNoPlay[dfNoPlay[\"Windy\"] == \"f\"]) , len(dfNoPlay))\n",
    "print(Fraction(if_playWind2), Fraction(if_notWind2))\n",
    "wB3[\"likelihood\"] = if_playWind2, if_notWind2\n",
    "update(wB3)\n",
    "wB3"
   ]
  }
 ],
 "metadata": {
  "kernelspec": {
   "display_name": "Python 3.9.7 ('ml3950')",
   "language": "python",
   "name": "python3"
  },
  "language_info": {
   "codemirror_mode": {
    "name": "ipython",
    "version": 3
   },
   "file_extension": ".py",
   "mimetype": "text/x-python",
   "name": "python",
   "nbconvert_exporter": "python",
   "pygments_lexer": "ipython3",
   "version": "3.9.7"
  },
  "orig_nbformat": 4,
  "vscode": {
   "interpreter": {
    "hash": "4d722d3adfa415172c1f5238b519fb86b488acdae450fd691ab06c09f4ca9173"
   }
  }
 },
 "nbformat": 4,
 "nbformat_minor": 2
}
