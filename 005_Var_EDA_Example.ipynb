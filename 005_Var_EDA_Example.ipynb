{
 "cells": [
  {
   "cell_type": "markdown",
   "metadata": {},
   "source": [
    "# Exploring Property Data\n",
    "\n",
    "Revisit the Property Assessment data. We are looking for some info on home prices - we want to narrow our search to a specific subset of homes.\n",
    "\n",
    "Our hypothesis is that over time, prices in Edmonton will rise. If we can invest in a segment of the market that is undervalued, that segment will rise faster as it \"catches up\" with the rest. We don't know if this hypothesis is true in reality - in the future we could do some predictive modelling to try to test it. We are going with a HIPPO opinion - low valued segments will rise, so that is what we will look for in our data. \n",
    "\n",
    "We also are smaller investors. We don't have the up front cash to purchase big money properties and \"swing for the fences\", we would very much prefer to target properties that are relatively less expensive, to allow us to purchase more and diversify the risk. \n",
    "\n",
    "So, our goal is to identify which segments of real estate have values that are suitable for investment, based on our assumptions.  \n",
    "(Note: There are differnt potential answers - I find a set of homes that may look good based on our criteria, there's probably others, it is not a yes/no answer)\n",
    "\n",
    "<b>\n",
    "Use: Attempt to break down and examine the data to find some property groups that appear to be solid investments, supported by the data you have. You can follow my example, or go your own way. There's probably many potential groups that make sense. The solution version has everything I did. Feel free to add more code blocks. I chopped them down so there are not a tonne of empty ones. As well, the exploration is somewhat open ended. If you want to closely follow along my steps, that's fine. You could do things differently, or in a somewhat different order, and that would be all good too. If you feel very comfortable doing things on your own, it is \"better\" practice to follow less closely. </b>"
   ]
  },
  {
   "cell_type": "code",
   "execution_count": 1,
   "metadata": {},
   "outputs": [],
   "source": [
    "import thinkplot\n",
    "import thinkstats2\n",
    "import pandas as pd\n",
    "import numpy as np\n",
    "\n",
    "#These 3 things allow for some prettier graphs, using a different visualization package - seaborn.\n",
    "#This isn't required, we'll start using this a little bit as we go. Seaborn's big selling point\n",
    "#is that it allows us to create many common graphs, that are very nice, relatively easily\n",
    "#The third line just makes the default plot size larger, you can change the numbers if you want. \n",
    "import matplotlib.pyplot as plt\n",
    "import seaborn as sns\n",
    "plt.rcParams[\"figure.figsize\"] = (20,5)"
   ]
  },
  {
   "cell_type": "markdown",
   "metadata": {},
   "source": [
    "#### Fancy Graphing - Seaborn\n",
    "\n",
    "Example of a seaborn distpolot - a histogram with a PDF overlayed on it. I use it in the solution.\n",
    "In this example, the data is the first argument, the other two arguments are sets of \"customizations\" for the histogram and PDF (KDE) part.\n",
    "\n",
    "You can use this, if you want, just change the data, and the labels and it should be usable for everything here.\n",
    "There are more options and examples detailed here: https://seaborn.pydata.org/generated/seaborn.distplot.html\n",
    "\n",
    "Generally, it doesn't really matter what tool you use to create visualizations. The thinkstats/thinkplot stuff fits in nicely with what is in the book and is pretty useful and easy to use. Later on, into the machine learning stuff we'll do all of our charting and plotting with Seaborn (or at least I will, you can use something else if you're adventerous), for now it is your choice unless specified. "
   ]
  },
  {
   "cell_type": "code",
   "execution_count": 2,
   "metadata": {},
   "outputs": [],
   "source": [
    "#sns.distplot(dtGlen[\"Assessed Value\"], hist_kws={\"label\":\"Condos\"}, kde_kws={\"label\":\"Condo PDF\"},)\n",
    "#sns.distplot(glen[\"Assessed Value\"], hist_kws={\"label\":\"Glenora Garage\"}, kde_kws={\"label\":\"Glenora Garage PDF\"},)\n",
    "#plt.show()"
   ]
  },
  {
   "cell_type": "markdown",
   "metadata": {},
   "source": [
    "This function is a helper. \n",
    "\n",
    "One addition is the rnd=0 thing. That's how we can make one of those optional paramaters, if you don't provide anything there, the hist will have no rounding; if you provide a number, the histogram will round to that many digits. "
   ]
  },
  {
   "cell_type": "code",
   "execution_count": 122,
   "metadata": {},
   "outputs": [],
   "source": [
    "# Graphing Helper Function\n",
    "def bigGraph(df_init, columnName, rnd=0):\n",
    "    data = pd.Series(df_init[columnName])\n",
    "    hist = thinkstats2.Hist(round(data, rnd))\n",
    "    pmf = thinkstats2.Pmf(data)\n",
    "    cdf = thinkstats2.Cdf(data)\n",
    "    thinkplot.PrePlot(4, rows =2, cols=2)#this says that we are plotting 4 things and we wante it sorted in 2 rows and 2 columns\n",
    "    thinkplot.Hist(hist)\n",
    "    thinkplot.SubPlot(2)\n",
    "    thinkplot.Pmf(pmf)\n",
    "    thinkplot.SubPlot(3)\n",
    "    thinkplot.Cdf(cdf)\n",
    "    thinkplot.SubPlot(4)\n",
    "    pdf = thinkstats2.EstimatedPdf(data)\n",
    "    thinkplot.Pdf(pdf)\n",
    "    thinkplot.Config()\n",
    "    return"
   ]
  },
  {
   "cell_type": "code",
   "execution_count": 4,
   "metadata": {},
   "outputs": [],
   "source": [
    "#Load data - I used the odd varaible name because I want the final name to be \"df\" after I do any filtering, so it is easier. \n",
    "df_init = pd.read_csv(\"data/Assessments.csv\")"
   ]
  },
  {
   "cell_type": "markdown",
   "metadata": {},
   "source": [
    "## START HERE!\n",
    "\n",
    "We can look at our data, and try to figure out a strategy to stack that paper. "
   ]
  },
  {
   "cell_type": "markdown",
   "metadata": {},
   "source": [
    "### Part 1: Load and Explore Data\n",
    "\n",
    "Preview data and make sure the data present is what we want/need. "
   ]
  },
  {
   "cell_type": "code",
   "execution_count": 5,
   "metadata": {},
   "outputs": [
    {
     "data": {
      "text/html": [
       "<div>\n",
       "<style scoped>\n",
       "    .dataframe tbody tr th:only-of-type {\n",
       "        vertical-align: middle;\n",
       "    }\n",
       "\n",
       "    .dataframe tbody tr th {\n",
       "        vertical-align: top;\n",
       "    }\n",
       "\n",
       "    .dataframe thead th {\n",
       "        text-align: right;\n",
       "    }\n",
       "</style>\n",
       "<table border=\"1\" class=\"dataframe\">\n",
       "  <thead>\n",
       "    <tr style=\"text-align: right;\">\n",
       "      <th></th>\n",
       "      <th>Account Number</th>\n",
       "      <th>Suite</th>\n",
       "      <th>House Number</th>\n",
       "      <th>Street Name</th>\n",
       "      <th>Garage</th>\n",
       "      <th>Neighbourhood ID</th>\n",
       "      <th>Neighbourhood</th>\n",
       "      <th>Ward</th>\n",
       "      <th>Assessed Value</th>\n",
       "      <th>Latitude</th>\n",
       "      <th>Longitude</th>\n",
       "    </tr>\n",
       "  </thead>\n",
       "  <tbody>\n",
       "    <tr>\n",
       "      <th>0</th>\n",
       "      <td>1066158</td>\n",
       "      <td>NaN</td>\n",
       "      <td>14904.0</td>\n",
       "      <td>167 AVENUE NW</td>\n",
       "      <td>N</td>\n",
       "      <td>NaN</td>\n",
       "      <td>NaN</td>\n",
       "      <td>NaN</td>\n",
       "      <td>86000</td>\n",
       "      <td>53.630497</td>\n",
       "      <td>-113.580474</td>\n",
       "    </tr>\n",
       "    <tr>\n",
       "      <th>1</th>\n",
       "      <td>10508233</td>\n",
       "      <td>NaN</td>\n",
       "      <td>16340.0</td>\n",
       "      <td>MARK MESSIER TRAIL NW</td>\n",
       "      <td>N</td>\n",
       "      <td>NaN</td>\n",
       "      <td>NaN</td>\n",
       "      <td>NaN</td>\n",
       "      <td>45000</td>\n",
       "      <td>53.617335</td>\n",
       "      <td>-113.605690</td>\n",
       "    </tr>\n",
       "    <tr>\n",
       "      <th>2</th>\n",
       "      <td>1194398</td>\n",
       "      <td>NaN</td>\n",
       "      <td>15617.0</td>\n",
       "      <td>83 STREET NW</td>\n",
       "      <td>N</td>\n",
       "      <td>2050.0</td>\n",
       "      <td>BELLE RIVE</td>\n",
       "      <td>Ward 3</td>\n",
       "      <td>285000</td>\n",
       "      <td>53.617007</td>\n",
       "      <td>-113.467976</td>\n",
       "    </tr>\n",
       "    <tr>\n",
       "      <th>3</th>\n",
       "      <td>1034214</td>\n",
       "      <td>NaN</td>\n",
       "      <td>10661.0</td>\n",
       "      <td>161 AVENUE NW</td>\n",
       "      <td>Y</td>\n",
       "      <td>3040.0</td>\n",
       "      <td>BEAUMARIS</td>\n",
       "      <td>Ward 3</td>\n",
       "      <td>635000</td>\n",
       "      <td>53.619978</td>\n",
       "      <td>-113.506990</td>\n",
       "    </tr>\n",
       "    <tr>\n",
       "      <th>4</th>\n",
       "      <td>1114701</td>\n",
       "      <td>NaN</td>\n",
       "      <td>15003.0</td>\n",
       "      <td>76 AVENUE NW</td>\n",
       "      <td>Y</td>\n",
       "      <td>4430.0</td>\n",
       "      <td>RIO TERRACE</td>\n",
       "      <td>Ward 5</td>\n",
       "      <td>407500</td>\n",
       "      <td>53.508644</td>\n",
       "      <td>-113.579897</td>\n",
       "    </tr>\n",
       "  </tbody>\n",
       "</table>\n",
       "</div>"
      ],
      "text/plain": [
       "   Account Number Suite  House Number            Street Name Garage  \\\n",
       "0         1066158   NaN       14904.0          167 AVENUE NW      N   \n",
       "1        10508233   NaN       16340.0  MARK MESSIER TRAIL NW      N   \n",
       "2         1194398   NaN       15617.0           83 STREET NW      N   \n",
       "3         1034214   NaN       10661.0          161 AVENUE NW      Y   \n",
       "4         1114701   NaN       15003.0           76 AVENUE NW      Y   \n",
       "\n",
       "   Neighbourhood ID Neighbourhood    Ward  Assessed Value   Latitude  \\\n",
       "0               NaN           NaN     NaN           86000  53.630497   \n",
       "1               NaN           NaN     NaN           45000  53.617335   \n",
       "2            2050.0    BELLE RIVE  Ward 3          285000  53.617007   \n",
       "3            3040.0     BEAUMARIS  Ward 3          635000  53.619978   \n",
       "4            4430.0   RIO TERRACE  Ward 5          407500  53.508644   \n",
       "\n",
       "    Longitude  \n",
       "0 -113.580474  \n",
       "1 -113.605690  \n",
       "2 -113.467976  \n",
       "3 -113.506990  \n",
       "4 -113.579897  "
      ]
     },
     "execution_count": 5,
     "metadata": {},
     "output_type": "execute_result"
    }
   ],
   "source": [
    "#Examine the data a little bit to see what we have. \n",
    "df_init.head()\n"
   ]
  },
  {
   "cell_type": "code",
   "execution_count": 126,
   "metadata": {},
   "outputs": [
    {
     "name": "stderr",
     "output_type": "stream",
     "text": [
      "C:\\Users\\taraz\\AppData\\Local\\Temp\\ipykernel_9032\\3672325611.py:1: FutureWarning: Dropping of nuisance columns in DataFrame reductions (with 'numeric_only=None') is deprecated; in a future version this will raise TypeError.  Select only valid columns before calling the reduction.\n",
      "  df_init.median()\n"
     ]
    },
    {
     "data": {
      "text/plain": [
       "Account Number      9.966988e+06\n",
       "House Number        7.916000e+03\n",
       "Neighbourhood ID    4.540000e+03\n",
       "Assessed Value      3.055000e+05\n",
       "Latitude            5.351981e+01\n",
       "Longitude          -1.135105e+02\n",
       "dtype: float64"
      ]
     },
     "execution_count": 126,
     "metadata": {},
     "output_type": "execute_result"
    }
   ],
   "source": [
    "df_init.median()"
   ]
  },
  {
   "cell_type": "code",
   "execution_count": 128,
   "metadata": {},
   "outputs": [
    {
     "data": {
      "image/png": "[encoded data removed]",
      "text/plain": [
       "<Figure size 1440x360 with 1 Axes>"
      ]
     },
     "metadata": {
      "needs_background": "light"
     },
     "output_type": "display_data"
    }
   ],
   "source": [
    "plt.ticklabel_format(style='plain', axis='x')\n",
    "tmp_hist=thinkstats2.Hist(df_init['Assessed Value'])\n",
    "thinkplot.Hist(tmp_hist)"
   ]
  },
  {
   "cell_type": "code",
   "execution_count": 127,
   "metadata": {},
   "outputs": [
    {
     "data": {
      "text/plain": [
       "<AxesSubplot:xlabel='Assessed Value', ylabel='Count'>"
      ]
     },
     "execution_count": 127,
     "metadata": {},
     "output_type": "execute_result"
    },
    {
     "data": {
      "image/png": "[encoded data removed]",
      "text/plain": [
       "<Figure size 1440x360 with 1 Axes>"
      ]
     },
     "metadata": {
      "needs_background": "light"
     },
     "output_type": "display_data"
    }
   ],
   "source": [
    "plt.ticklabel_format(style='plain', axis='x')\n",
    "sns.histplot(df_init['Assessed Value'])"
   ]
  },
  {
   "cell_type": "code",
   "execution_count": 6,
   "metadata": {},
   "outputs": [
    {
     "data": {
      "text/html": [
       "<div>\n",
       "<style scoped>\n",
       "    .dataframe tbody tr th:only-of-type {\n",
       "        vertical-align: middle;\n",
       "    }\n",
       "\n",
       "    .dataframe tbody tr th {\n",
       "        vertical-align: top;\n",
       "    }\n",
       "\n",
       "    .dataframe thead th {\n",
       "        text-align: right;\n",
       "    }\n",
       "</style>\n",
       "<table border=\"1\" class=\"dataframe\">\n",
       "  <thead>\n",
       "    <tr style=\"text-align: right;\">\n",
       "      <th></th>\n",
       "      <th>count</th>\n",
       "      <th>mean</th>\n",
       "      <th>std</th>\n",
       "      <th>min</th>\n",
       "      <th>25%</th>\n",
       "      <th>50%</th>\n",
       "      <th>75%</th>\n",
       "      <th>max</th>\n",
       "    </tr>\n",
       "  </thead>\n",
       "  <tbody>\n",
       "    <tr>\n",
       "      <th>Account Number</th>\n",
       "      <td>384217.0</td>\n",
       "      <td>7.813424e+06</td>\n",
       "      <td>3.232763e+06</td>\n",
       "      <td>1.001163e+06</td>\n",
       "      <td>4.584405e+06</td>\n",
       "      <td>9.966988e+06</td>\n",
       "      <td>1.017294e+07</td>\n",
       "      <td>1.101388e+07</td>\n",
       "    </tr>\n",
       "    <tr>\n",
       "      <th>House Number</th>\n",
       "      <td>342008.0</td>\n",
       "      <td>7.663119e+03</td>\n",
       "      <td>5.439437e+03</td>\n",
       "      <td>1.000000e+00</td>\n",
       "      <td>2.504000e+03</td>\n",
       "      <td>7.916000e+03</td>\n",
       "      <td>1.142500e+04</td>\n",
       "      <td>5.117500e+04</td>\n",
       "    </tr>\n",
       "    <tr>\n",
       "      <th>Neighbourhood ID</th>\n",
       "      <td>384213.0</td>\n",
       "      <td>4.270034e+03</td>\n",
       "      <td>1.748173e+03</td>\n",
       "      <td>1.010000e+03</td>\n",
       "      <td>2.660000e+03</td>\n",
       "      <td>4.540000e+03</td>\n",
       "      <td>5.576000e+03</td>\n",
       "      <td>8.888000e+03</td>\n",
       "    </tr>\n",
       "    <tr>\n",
       "      <th>Assessed Value</th>\n",
       "      <td>384217.0</td>\n",
       "      <td>3.084198e+05</td>\n",
       "      <td>2.837778e+05</td>\n",
       "      <td>0.000000e+00</td>\n",
       "      <td>1.700000e+05</td>\n",
       "      <td>3.055000e+05</td>\n",
       "      <td>3.975000e+05</td>\n",
       "      <td>4.391150e+07</td>\n",
       "    </tr>\n",
       "    <tr>\n",
       "      <th>Latitude</th>\n",
       "      <td>384217.0</td>\n",
       "      <td>5.351842e+01</td>\n",
       "      <td>6.840256e-02</td>\n",
       "      <td>5.333859e+01</td>\n",
       "      <td>5.345862e+01</td>\n",
       "      <td>5.351981e+01</td>\n",
       "      <td>5.357419e+01</td>\n",
       "      <td>5.371515e+01</td>\n",
       "    </tr>\n",
       "    <tr>\n",
       "      <th>Longitude</th>\n",
       "      <td>384217.0</td>\n",
       "      <td>-1.135125e+02</td>\n",
       "      <td>8.282889e-02</td>\n",
       "      <td>-1.137129e+02</td>\n",
       "      <td>-1.135691e+02</td>\n",
       "      <td>-1.135105e+02</td>\n",
       "      <td>-1.134477e+02</td>\n",
       "      <td>-1.132784e+02</td>\n",
       "    </tr>\n",
       "  </tbody>\n",
       "</table>\n",
       "</div>"
      ],
      "text/plain": [
       "                     count          mean           std           min  \\\n",
       "Account Number    384217.0  7.813424e+06  3.232763e+06  1.001163e+06   \n",
       "House Number      342008.0  7.663119e+03  5.439437e+03  1.000000e+00   \n",
       "Neighbourhood ID  384213.0  4.270034e+03  1.748173e+03  1.010000e+03   \n",
       "Assessed Value    384217.0  3.084198e+05  2.837778e+05  0.000000e+00   \n",
       "Latitude          384217.0  5.351842e+01  6.840256e-02  5.333859e+01   \n",
       "Longitude         384217.0 -1.135125e+02  8.282889e-02 -1.137129e+02   \n",
       "\n",
       "                           25%           50%           75%           max  \n",
       "Account Number    4.584405e+06  9.966988e+06  1.017294e+07  1.101388e+07  \n",
       "House Number      2.504000e+03  7.916000e+03  1.142500e+04  5.117500e+04  \n",
       "Neighbourhood ID  2.660000e+03  4.540000e+03  5.576000e+03  8.888000e+03  \n",
       "Assessed Value    1.700000e+05  3.055000e+05  3.975000e+05  4.391150e+07  \n",
       "Latitude          5.345862e+01  5.351981e+01  5.357419e+01  5.371515e+01  \n",
       "Longitude        -1.135691e+02 -1.135105e+02 -1.134477e+02 -1.132784e+02  "
      ]
     },
     "execution_count": 6,
     "metadata": {},
     "output_type": "execute_result"
    }
   ],
   "source": [
    "# I like the .T view better\n",
    "df_init.describe().T"
   ]
  },
  {
   "cell_type": "markdown",
   "metadata": {},
   "source": [
    "#### Fliter Outliers\n",
    "\n",
    "We are looking for houses. There's a bunch of data here for houses that are both insanely cheap - near 0, or insanely expensive. We aren't big money investors, so I think the properties over $1mill are not relevant to our examination. \n",
    "\n",
    "We don't want that stuff because, for our purposes, it isn't usefull, so we'll remove it - leaving us with only homes that cost a \"normal\" amount. "
   ]
  },
  {
   "cell_type": "code",
   "execution_count": 7,
   "metadata": {},
   "outputs": [],
   "source": [
    "#Filter out houses that are out of the range that we care about.\n",
    "#I used under $50k or over $1mill - this decision is largely arbitrary, based on what we are actually (pretending) to use this data for.\n"
   ]
  },
  {
   "cell_type": "code",
   "execution_count": 136,
   "metadata": {},
   "outputs": [],
   "source": [
    "df=df_init[df_init['Assessed Value']<2000000]\n",
    "df=df[df['Assessed Value']>50000]"
   ]
  },
  {
   "cell_type": "code",
   "execution_count": 137,
   "metadata": {},
   "outputs": [
    {
     "data": {
      "image/png": "[encoded data removed]",
      "text/plain": [
       "<Figure size 720x720 with 4 Axes>"
      ]
     },
     "metadata": {
      "needs_background": "light"
     },
     "output_type": "display_data"
    }
   ],
   "source": [
    "bigGraph(df,'Assessed Value',-4)"
   ]
  },
  {
   "cell_type": "code",
   "execution_count": 138,
   "metadata": {},
   "outputs": [
    {
     "data": {
      "text/plain": [
       "<AxesSubplot:xlabel='Assessed Value', ylabel='Count'>"
      ]
     },
     "execution_count": 138,
     "metadata": {},
     "output_type": "execute_result"
    },
    {
     "data": {
      "image/png": "[encoded data removed]",
      "text/plain": [
       "<Figure size 1440x360 with 1 Axes>"
      ]
     },
     "metadata": {
      "needs_background": "light"
     },
     "output_type": "display_data"
    }
   ],
   "source": [
    "plt.ticklabel_format(style='plain', axis='x') #sets the format for the x axis to be regular format and not the scienticid format usin e06\n",
    "sns.histplot(df, x='Assessed Value')\n"
   ]
  },
  {
   "cell_type": "markdown",
   "metadata": {},
   "source": [
    "About 50,000 properties removed. Seems reasonable. We can look at the distribution and see what is there...\n",
    "\n",
    "You could use our original graphing techniques (thinkplot), the bigGraph function above, the seaborn plotting, or a combination of all. \n",
    "<br><br><br>\n",
    "#### Visualize Distributions"
   ]
  },
  {
   "cell_type": "code",
   "execution_count": 8,
   "metadata": {},
   "outputs": [],
   "source": [
    "#Create some plots to examine the distribution of the data. \n"
   ]
  },
  {
   "cell_type": "markdown",
   "metadata": {},
   "source": [
    "We have taken a look at the statistics and the distribution of the data. Can we draw any conclusions from what we've seen here? "
   ]
  },
  {
   "cell_type": "markdown",
   "metadata": {},
   "source": [
    "### Part 2: Split Data\n",
    "\n",
    "Split the data, to look for tendencies by groups. We have several values we can use, I will start with the most simple - garage. "
   ]
  },
  {
   "cell_type": "code",
   "execution_count": 139,
   "metadata": {},
   "outputs": [],
   "source": [
    "#Split the data into subsets. I used garage/not for my subsets. \n",
    "df['Garage'].value_counts()\n",
    "df_garage=df[df['Garage']== \"Y\"]\n",
    "df_nogarage=df[df['Garage']== \"N\"]\n"
   ]
  },
  {
   "cell_type": "code",
   "execution_count": 140,
   "metadata": {},
   "outputs": [
    {
     "data": {
      "image/png": "[encoded data removed]",
      "text/plain": [
       "<Figure size 1440x360 with 1 Axes>"
      ]
     },
     "metadata": {
      "needs_background": "light"
     },
     "output_type": "display_data"
    }
   ],
   "source": [
    "#Plot the subsets to look at their individual distributions.\n",
    "plt.ticklabel_format(style='plain', axis='x') \n",
    "hist_garage=thinkstats2.Hist(df_garage['Assessed Value'])\n",
    "hist_nogarage=thinkstats2.Hist(df_nogarage['Assessed Value'])\n",
    "thinkplot.Hist(hist_garage)\n",
    "thinkplot.Hist(hist_nogarage)"
   ]
  },
  {
   "cell_type": "code",
   "execution_count": 53,
   "metadata": {},
   "outputs": [
    {
     "data": {
      "text/plain": [
       "<seaborn.axisgrid.FacetGrid at 0x21308708e20>"
      ]
     },
     "execution_count": 53,
     "metadata": {},
     "output_type": "execute_result"
    },
    {
     "data": {
      "image/png": "[encoded data removed]",
      "text/plain": [
       "<Figure size 360x360 with 1 Axes>"
      ]
     },
     "metadata": {
      "needs_background": "light"
     },
     "output_type": "display_data"
    },
    {
     "data": {
      "image/png": "[encoded data removed]",
      "text/plain": [
       "<Figure size 360x360 with 1 Axes>"
      ]
     },
     "metadata": {
      "needs_background": "light"
     },
     "output_type": "display_data"
    }
   ],
   "source": [
    "sns.displot(df_garage['Assessed Value'])\n",
    "sns.displot(df_nogarage['Assessed Value'])"
   ]
  },
  {
   "cell_type": "code",
   "execution_count": 55,
   "metadata": {},
   "outputs": [
    {
     "name": "stderr",
     "output_type": "stream",
     "text": [
      "c:\\Users\\taraz\\anaconda3\\lib\\site-packages\\seaborn\\distributions.py:2619: FutureWarning: `distplot` is a deprecated function and will be removed in a future version. Please adapt your code to use either `displot` (a figure-level function with similar flexibility) or `histplot` (an axes-level function for histograms).\n",
      "  warnings.warn(msg, FutureWarning)\n",
      "c:\\Users\\taraz\\anaconda3\\lib\\site-packages\\seaborn\\distributions.py:2619: FutureWarning: `distplot` is a deprecated function and will be removed in a future version. Please adapt your code to use either `displot` (a figure-level function with similar flexibility) or `histplot` (an axes-level function for histograms).\n",
      "  warnings.warn(msg, FutureWarning)\n"
     ]
    },
    {
     "data": {
      "text/plain": [
       "<AxesSubplot:xlabel='Assessed Value', ylabel='Density'>"
      ]
     },
     "execution_count": 55,
     "metadata": {},
     "output_type": "execute_result"
    },
    {
     "data": {
      "image/png": "[encoded data removed]",
      "text/plain": [
       "<Figure size 1440x360 with 1 Axes>"
      ]
     },
     "metadata": {
      "needs_background": "light"
     },
     "output_type": "display_data"
    }
   ],
   "source": [
    "plt.ticklabel_format(style='plain', axis='x')\n",
    "sns.distplot(df_garage['Assessed Value'])\n",
    "sns.distplot(df_nogarage['Assessed Value'])"
   ]
  },
  {
   "cell_type": "markdown",
   "metadata": {},
   "source": [
    "We can see that both of our slices of data, once separated, are much closer to a normal distribution. Analyzing these two separately is probably going to be easier than the double bump original distribution. \n",
    "I will caclulate a bunch of statistics for each group - including skew, so I can get a measure of how \"stretched out\" the distribution is. \n",
    "\n",
    "I will also look at each group and figure out what share of the homes are less than $200k, $350k, and $500k, for my own info - if I want to invest in properties that are \"lowish\" in value, how many are there?"
   ]
  },
  {
   "cell_type": "markdown",
   "metadata": {},
   "source": [
    "### Part 3: Singular Statistics and CDF"
   ]
  },
  {
   "cell_type": "code",
   "execution_count": 56,
   "metadata": {},
   "outputs": [
    {
     "name": "stdout",
     "output_type": "stream",
     "text": [
      "Garage.Mean:  392847.61504702194 Garage.Median:  366500.0 Garage.std: 129514.19777661306\n",
      "No-Garage.Mean:  197646.6897088891 No-Garage.Median:  173500.0 No-Garage.std: 97552.29499596237\n"
     ]
    }
   ],
   "source": [
    "#Example of printing out a bunch of statistics on one line\n",
    "print('Garage.Mean: ',df_garage['Assessed Value'].mean(),'Garage.Median: ',df_garage['Assessed Value'].median(),'Garage.std:',df_garage['Assessed Value'].std())\n",
    "print('No-Garage.Mean: ',df_nogarage['Assessed Value'].mean(),'No-Garage.Median: ',df_nogarage['Assessed Value'].median(),'No-Garage.std:',df_nogarage['Assessed Value'].std())"
   ]
  },
  {
   "cell_type": "markdown",
   "metadata": {},
   "source": [
    "#### CDFs\n",
    "\n",
    "We can use the CDF functions to figure out some statistics that we saw in the visualization of our data - what share of the data falls under a certain cut-off. "
   ]
  },
  {
   "cell_type": "code",
   "execution_count": 59,
   "metadata": {},
   "outputs": [
    {
     "data": {
      "text/plain": [
       "(1.7243541238784996, 62.59258458545022)"
      ]
     },
     "execution_count": 59,
     "metadata": {},
     "output_type": "execute_result"
    }
   ],
   "source": [
    "#Use CDF to figure out how many are under each value cutoff. \n",
    "cdf_garage=thinkstats2.Cdf(df_garage['Assessed Value'])\n",
    "cdf_garage.PercentileRank(200000), cdf_garage.PercentileRank(400000)"
   ]
  },
  {
   "cell_type": "code",
   "execution_count": 60,
   "metadata": {},
   "outputs": [
    {
     "data": {
      "text/plain": [
       "(63.41446791938468, 96.79193846752993)"
      ]
     },
     "execution_count": 60,
     "metadata": {},
     "output_type": "execute_result"
    }
   ],
   "source": [
    "cdf_nogarage=thinkstats2.Cdf(df_nogarage['Assessed Value'])\n",
    "cdf_nogarage.PercentileRank(200000), cdf_nogarage.PercentileRank(400000)"
   ]
  },
  {
   "cell_type": "markdown",
   "metadata": {},
   "source": [
    "#### Initial Conclusions\n",
    "\n",
    "What can we make of this? A few things, we aren't entirely sure if they will be important right now.\n",
    "\n",
    "- Non garage houses are about $200k cheaper on average.\n",
    "\n",
    "- Non garage houses are more tightly packed (smaller std), more \"peaky\" (kurtosis), and trail off to the right more (skew). This should kind of make sense logically, there's lots of smaller and cheaper nonm-garage homes, then there are a handful of luxury properties that scatter around the higher values. We can hypothesize that many/most non-garage houses are condos, but we need to check it. Houses over a certain, relatively low, value tend to always have garages so there's less weirdness to the distribution. \n",
    "\n",
    "- There is a comparatively massive cache of non-garage homes that are under $200k, and almost all are under $350k"
   ]
  },
  {
   "cell_type": "code",
   "execution_count": 61,
   "metadata": {},
   "outputs": [
    {
     "data": {
      "text/html": [
       "<div>\n",
       "<style scoped>\n",
       "    .dataframe tbody tr th:only-of-type {\n",
       "        vertical-align: middle;\n",
       "    }\n",
       "\n",
       "    .dataframe tbody tr th {\n",
       "        vertical-align: top;\n",
       "    }\n",
       "\n",
       "    .dataframe thead th {\n",
       "        text-align: right;\n",
       "    }\n",
       "</style>\n",
       "<table border=\"1\" class=\"dataframe\">\n",
       "  <thead>\n",
       "    <tr style=\"text-align: right;\">\n",
       "      <th></th>\n",
       "      <th>Account Number</th>\n",
       "      <th>Suite</th>\n",
       "      <th>House Number</th>\n",
       "      <th>Street Name</th>\n",
       "      <th>Garage</th>\n",
       "      <th>Neighbourhood ID</th>\n",
       "      <th>Neighbourhood</th>\n",
       "      <th>Ward</th>\n",
       "      <th>Assessed Value</th>\n",
       "      <th>Latitude</th>\n",
       "      <th>Longitude</th>\n",
       "    </tr>\n",
       "  </thead>\n",
       "  <tbody>\n",
       "    <tr>\n",
       "      <th>0</th>\n",
       "      <td>1066158</td>\n",
       "      <td>NaN</td>\n",
       "      <td>14904.0</td>\n",
       "      <td>167 AVENUE NW</td>\n",
       "      <td>N</td>\n",
       "      <td>NaN</td>\n",
       "      <td>NaN</td>\n",
       "      <td>NaN</td>\n",
       "      <td>86000</td>\n",
       "      <td>53.630497</td>\n",
       "      <td>-113.580474</td>\n",
       "    </tr>\n",
       "    <tr>\n",
       "      <th>2</th>\n",
       "      <td>1194398</td>\n",
       "      <td>NaN</td>\n",
       "      <td>15617.0</td>\n",
       "      <td>83 STREET NW</td>\n",
       "      <td>N</td>\n",
       "      <td>2050.0</td>\n",
       "      <td>BELLE RIVE</td>\n",
       "      <td>Ward 3</td>\n",
       "      <td>285000</td>\n",
       "      <td>53.617007</td>\n",
       "      <td>-113.467976</td>\n",
       "    </tr>\n",
       "    <tr>\n",
       "      <th>3</th>\n",
       "      <td>1034214</td>\n",
       "      <td>NaN</td>\n",
       "      <td>10661.0</td>\n",
       "      <td>161 AVENUE NW</td>\n",
       "      <td>Y</td>\n",
       "      <td>3040.0</td>\n",
       "      <td>BEAUMARIS</td>\n",
       "      <td>Ward 3</td>\n",
       "      <td>635000</td>\n",
       "      <td>53.619978</td>\n",
       "      <td>-113.506990</td>\n",
       "    </tr>\n",
       "    <tr>\n",
       "      <th>4</th>\n",
       "      <td>1114701</td>\n",
       "      <td>NaN</td>\n",
       "      <td>15003.0</td>\n",
       "      <td>76 AVENUE NW</td>\n",
       "      <td>Y</td>\n",
       "      <td>4430.0</td>\n",
       "      <td>RIO TERRACE</td>\n",
       "      <td>Ward 5</td>\n",
       "      <td>407500</td>\n",
       "      <td>53.508644</td>\n",
       "      <td>-113.579897</td>\n",
       "    </tr>\n",
       "    <tr>\n",
       "      <th>5</th>\n",
       "      <td>1012277</td>\n",
       "      <td>NaN</td>\n",
       "      <td>15110.0</td>\n",
       "      <td>45 AVENUE NW</td>\n",
       "      <td>Y</td>\n",
       "      <td>5340.0</td>\n",
       "      <td>RAMSAY HEIGHTS</td>\n",
       "      <td>Ward 9</td>\n",
       "      <td>306500</td>\n",
       "      <td>53.484560</td>\n",
       "      <td>-113.581913</td>\n",
       "    </tr>\n",
       "  </tbody>\n",
       "</table>\n",
       "</div>"
      ],
      "text/plain": [
       "   Account Number Suite  House Number    Street Name Garage  Neighbourhood ID  \\\n",
       "0         1066158   NaN       14904.0  167 AVENUE NW      N               NaN   \n",
       "2         1194398   NaN       15617.0   83 STREET NW      N            2050.0   \n",
       "3         1034214   NaN       10661.0  161 AVENUE NW      Y            3040.0   \n",
       "4         1114701   NaN       15003.0   76 AVENUE NW      Y            4430.0   \n",
       "5         1012277   NaN       15110.0   45 AVENUE NW      Y            5340.0   \n",
       "\n",
       "    Neighbourhood    Ward  Assessed Value   Latitude   Longitude  \n",
       "0             NaN     NaN           86000  53.630497 -113.580474  \n",
       "2      BELLE RIVE  Ward 3          285000  53.617007 -113.467976  \n",
       "3       BEAUMARIS  Ward 3          635000  53.619978 -113.506990  \n",
       "4     RIO TERRACE  Ward 5          407500  53.508644 -113.579897  \n",
       "5  RAMSAY HEIGHTS  Ward 9          306500  53.484560 -113.581913  "
      ]
     },
     "execution_count": 61,
     "metadata": {},
     "output_type": "execute_result"
    }
   ],
   "source": [
    "df.head()"
   ]
  },
  {
   "cell_type": "code",
   "execution_count": 65,
   "metadata": {},
   "outputs": [
    {
     "data": {
      "text/html": [
       "<div>\n",
       "<style scoped>\n",
       "    .dataframe tbody tr th:only-of-type {\n",
       "        vertical-align: middle;\n",
       "    }\n",
       "\n",
       "    .dataframe tbody tr th {\n",
       "        vertical-align: top;\n",
       "    }\n",
       "\n",
       "    .dataframe thead th {\n",
       "        text-align: right;\n",
       "    }\n",
       "</style>\n",
       "<table border=\"1\" class=\"dataframe\">\n",
       "  <thead>\n",
       "    <tr style=\"text-align: right;\">\n",
       "      <th></th>\n",
       "      <th>Account Number</th>\n",
       "      <th>Suite</th>\n",
       "      <th>House Number</th>\n",
       "      <th>Street Name</th>\n",
       "      <th>Garage</th>\n",
       "      <th>Neighbourhood ID</th>\n",
       "      <th>Neighbourhood</th>\n",
       "      <th>Ward</th>\n",
       "      <th>Assessed Value</th>\n",
       "      <th>Latitude</th>\n",
       "      <th>Longitude</th>\n",
       "    </tr>\n",
       "  </thead>\n",
       "  <tbody>\n",
       "    <tr>\n",
       "      <th>64408</th>\n",
       "      <td>3072626</td>\n",
       "      <td>206</td>\n",
       "      <td>16527.0</td>\n",
       "      <td>STONY PLAIN ROAD NW</td>\n",
       "      <td>N</td>\n",
       "      <td>4180.0</td>\n",
       "      <td>GLENWOOD</td>\n",
       "      <td>Ward 1</td>\n",
       "      <td>91000</td>\n",
       "      <td>53.541007</td>\n",
       "      <td>-113.606779</td>\n",
       "    </tr>\n",
       "    <tr>\n",
       "      <th>355708</th>\n",
       "      <td>10854125</td>\n",
       "      <td>NaN</td>\n",
       "      <td>1777.0</td>\n",
       "      <td>25A STREET NW</td>\n",
       "      <td>Y</td>\n",
       "      <td>6444.0</td>\n",
       "      <td>LAUREL</td>\n",
       "      <td>Ward 12</td>\n",
       "      <td>359500</td>\n",
       "      <td>53.448549</td>\n",
       "      <td>-113.378167</td>\n",
       "    </tr>\n",
       "    <tr>\n",
       "      <th>201833</th>\n",
       "      <td>9999802</td>\n",
       "      <td>NaN</td>\n",
       "      <td>21213.0</td>\n",
       "      <td>88A AVENUE NW</td>\n",
       "      <td>Y</td>\n",
       "      <td>4730.0</td>\n",
       "      <td>SUDER GREENS</td>\n",
       "      <td>Ward 1</td>\n",
       "      <td>414000</td>\n",
       "      <td>53.522562</td>\n",
       "      <td>-113.682791</td>\n",
       "    </tr>\n",
       "    <tr>\n",
       "      <th>197956</th>\n",
       "      <td>9836297</td>\n",
       "      <td>NaN</td>\n",
       "      <td>1827.0</td>\n",
       "      <td>40 STREET NW</td>\n",
       "      <td>Y</td>\n",
       "      <td>6150.0</td>\n",
       "      <td>DALY GROVE</td>\n",
       "      <td>Ward 12</td>\n",
       "      <td>324000</td>\n",
       "      <td>53.449089</td>\n",
       "      <td>-113.403395</td>\n",
       "    </tr>\n",
       "    <tr>\n",
       "      <th>305459</th>\n",
       "      <td>10396170</td>\n",
       "      <td>NaN</td>\n",
       "      <td>2811.0</td>\n",
       "      <td>15 STREET NW</td>\n",
       "      <td>N</td>\n",
       "      <td>6443.0</td>\n",
       "      <td>TAMARACK</td>\n",
       "      <td>Ward 12</td>\n",
       "      <td>290500</td>\n",
       "      <td>53.459819</td>\n",
       "      <td>-113.365931</td>\n",
       "    </tr>\n",
       "    <tr>\n",
       "      <th>312917</th>\n",
       "      <td>10275809</td>\n",
       "      <td>NaN</td>\n",
       "      <td>7444.0</td>\n",
       "      <td>MAY COMMON NW</td>\n",
       "      <td>Y</td>\n",
       "      <td>5476.0</td>\n",
       "      <td>MAGRATH HEIGHTS</td>\n",
       "      <td>Ward 9</td>\n",
       "      <td>461000</td>\n",
       "      <td>53.447341</td>\n",
       "      <td>-113.552267</td>\n",
       "    </tr>\n",
       "    <tr>\n",
       "      <th>168341</th>\n",
       "      <td>8833683</td>\n",
       "      <td>NaN</td>\n",
       "      <td>8403.0</td>\n",
       "      <td>74 AVENUE NW</td>\n",
       "      <td>Y</td>\n",
       "      <td>6020.0</td>\n",
       "      <td>AVONMORE</td>\n",
       "      <td>Ward 11</td>\n",
       "      <td>494000</td>\n",
       "      <td>53.510085</td>\n",
       "      <td>-113.456377</td>\n",
       "    </tr>\n",
       "    <tr>\n",
       "      <th>43569</th>\n",
       "      <td>1971027</td>\n",
       "      <td>NaN</td>\n",
       "      <td>5720.0</td>\n",
       "      <td>175 STREET NW</td>\n",
       "      <td>Y</td>\n",
       "      <td>4160.0</td>\n",
       "      <td>GARIEPY</td>\n",
       "      <td>Ward 5</td>\n",
       "      <td>404500</td>\n",
       "      <td>53.494168</td>\n",
       "      <td>-113.625873</td>\n",
       "    </tr>\n",
       "    <tr>\n",
       "      <th>314343</th>\n",
       "      <td>10283337</td>\n",
       "      <td>120</td>\n",
       "      <td>1804.0</td>\n",
       "      <td>70 STREET SW</td>\n",
       "      <td>Y</td>\n",
       "      <td>6213.0</td>\n",
       "      <td>SUMMERSIDE</td>\n",
       "      <td>Ward 12</td>\n",
       "      <td>245000</td>\n",
       "      <td>53.416466</td>\n",
       "      <td>-113.453113</td>\n",
       "    </tr>\n",
       "    <tr>\n",
       "      <th>125372</th>\n",
       "      <td>6445399</td>\n",
       "      <td>NaN</td>\n",
       "      <td>12950.0</td>\n",
       "      <td>71 STREET NW</td>\n",
       "      <td>Y</td>\n",
       "      <td>2020.0</td>\n",
       "      <td>BALWIN</td>\n",
       "      <td>Ward 7</td>\n",
       "      <td>261500</td>\n",
       "      <td>53.588747</td>\n",
       "      <td>-113.451225</td>\n",
       "    </tr>\n",
       "  </tbody>\n",
       "</table>\n",
       "</div>"
      ],
      "text/plain": [
       "        Account Number Suite  House Number          Street Name Garage  \\\n",
       "64408          3072626   206       16527.0  STONY PLAIN ROAD NW      N   \n",
       "355708        10854125   NaN        1777.0        25A STREET NW      Y   \n",
       "201833         9999802   NaN       21213.0        88A AVENUE NW      Y   \n",
       "197956         9836297   NaN        1827.0         40 STREET NW      Y   \n",
       "305459        10396170   NaN        2811.0         15 STREET NW      N   \n",
       "312917        10275809   NaN        7444.0        MAY COMMON NW      Y   \n",
       "168341         8833683   NaN        8403.0         74 AVENUE NW      Y   \n",
       "43569          1971027   NaN        5720.0        175 STREET NW      Y   \n",
       "314343        10283337   120        1804.0         70 STREET SW      Y   \n",
       "125372         6445399   NaN       12950.0         71 STREET NW      Y   \n",
       "\n",
       "        Neighbourhood ID    Neighbourhood     Ward  Assessed Value   Latitude  \\\n",
       "64408             4180.0         GLENWOOD   Ward 1           91000  53.541007   \n",
       "355708            6444.0           LAUREL  Ward 12          359500  53.448549   \n",
       "201833            4730.0     SUDER GREENS   Ward 1          414000  53.522562   \n",
       "197956            6150.0       DALY GROVE  Ward 12          324000  53.449089   \n",
       "305459            6443.0         TAMARACK  Ward 12          290500  53.459819   \n",
       "312917            5476.0  MAGRATH HEIGHTS   Ward 9          461000  53.447341   \n",
       "168341            6020.0         AVONMORE  Ward 11          494000  53.510085   \n",
       "43569             4160.0          GARIEPY   Ward 5          404500  53.494168   \n",
       "314343            6213.0       SUMMERSIDE  Ward 12          245000  53.416466   \n",
       "125372            2020.0           BALWIN   Ward 7          261500  53.588747   \n",
       "\n",
       "         Longitude  \n",
       "64408  -113.606779  \n",
       "355708 -113.378167  \n",
       "201833 -113.682791  \n",
       "197956 -113.403395  \n",
       "305459 -113.365931  \n",
       "312917 -113.552267  \n",
       "168341 -113.456377  \n",
       "43569  -113.625873  \n",
       "314343 -113.453113  \n",
       "125372 -113.451225  "
      ]
     },
     "execution_count": 65,
     "metadata": {},
     "output_type": "execute_result"
    }
   ],
   "source": [
    "df.sample(10)"
   ]
  },
  {
   "cell_type": "markdown",
   "metadata": {},
   "source": [
    "#### Condo vs House - Proxy Data\n",
    "\n",
    "Our dataset doesn't have a direct measure of if a piece of property is a condo or a house. Based on our expert knowledge, this factor probably helps in predicting value. What do we do????\n",
    "\n",
    "We don't have a condo/house variable in the data, but we can use some other pieces of data as a proxy. This won't be 100% accurate, but it may be usefull enough to help inform our decision making. "
   ]
  },
  {
   "cell_type": "code",
   "execution_count": 64,
   "metadata": {},
   "outputs": [
    {
     "name": "stdout",
     "output_type": "stream",
     "text": [
      "Garage: 0.93769322235434\n",
      "Non: 0.3686398597994353\n"
     ]
    }
   ],
   "source": [
    "# Use suite values to assess house/condo split. My assumption is that if a home has a Suite number, it is a condo; if it doesn't, it is a house.\n",
    "# If I calculate that percentage for each group, it could help indicate if my guess is true:\n",
    "# Example of calculating how many of each set have no suite number. \n",
    "#NaN is null\n",
    "print(\"Garage:\", df_garage[\"Suite\"].isnull().sum()/len(df_garage[\"Suite\"]))\n",
    "print(\"Non:\", df_nogarage[\"Suite\"].isnull().sum()/len(df_nogarage[\"Suite\"]))"
   ]
  },
  {
   "cell_type": "code",
   "execution_count": 14,
   "metadata": {},
   "outputs": [],
   "source": [
    "# Graph the suite/nonsuite groups against eachother. \n"
   ]
  },
  {
   "cell_type": "markdown",
   "metadata": {},
   "source": [
    "I think my hypothesis is supported - non garage houses mostly do have a suite number, garage ones mainly don't. This isn't a 100% definitive result, but it is pretty solid. \n",
    "\n",
    "What can we take from this? Condos are cheaper, houses are more expensive. Garage is an OK-ish proxy for the house/condo split, not at all perfect - I also suspect it is probably a stronger relationship as prices rise, I doubt many expensive houses don't have garages. \n",
    "\n",
    "As well, perhaps as the city grows and as it becomes more dense and urban, perhaps the value of condos will rise and become closer to homes. We see a pattern of central condos becomming more expensive in most larger cities, a hypothesis that a similar thing will happen here is pretty reasonable. \n",
    "\n",
    "\n",
    "NOTE: At this point, we could also/alternatively split the data into suite/non-suite segments, or a 4 way split with both suite and garage. I will continue with garage/non for now. In real life, there's a pretty high probability that we'd come back and also split the data by suite. "
   ]
  },
  {
   "cell_type": "markdown",
   "metadata": {},
   "source": [
    "### Part 4: Investigate location. \n",
    "\n",
    "To investigate this more, we need to take a look at where these properties are located.... We can see what data we have - Ward, neighborhood, and lat/lon all indicate position. I need to go look at a map to see what is useful. Wards are large, and there are 12 of them. Neigborhoods are small, and there are a lot. We can start with wards and do a crude split for initial investigation. \n",
    "\n",
    "Note: We'd probably want to investigate things like square footage at this point in real life. We'll look at that comming up soon - looking at how two variables are related (correlated) to each other. "
   ]
  },
  {
   "cell_type": "code",
   "execution_count": 66,
   "metadata": {},
   "outputs": [
    {
     "data": {
      "text/plain": [
       "Ward 6     19028\n",
       "Ward 9     10826\n",
       "Ward 4      9798\n",
       "Ward 1      8652\n",
       "Ward 11     8392\n",
       "Ward 10     8282\n",
       "Ward 12     8058\n",
       "Ward 8      6693\n",
       "Ward 5      6599\n",
       "Ward 2      6364\n",
       "Ward 7      5098\n",
       "Ward 3      4917\n",
       "Name: Ward, dtype: int64"
      ]
     },
     "execution_count": 66,
     "metadata": {},
     "output_type": "execute_result"
    }
   ],
   "source": [
    "#How many properties are in each ward? \n",
    "df_nogarage[\"Ward\"].value_counts()"
   ]
  },
  {
   "cell_type": "code",
   "execution_count": null,
   "metadata": {},
   "outputs": [],
   "source": []
  },
  {
   "cell_type": "markdown",
   "metadata": {},
   "source": [
    "On a map, Ward 6 is downtown, it has the most non garage properties, which makes sense. 9 is Riverbend, there's lots of condos in Terwilligar and area. 4 is the far north east, 1 is the north-west, 11 is near south-east, 10 is Calgary Trail and west, 12 is far south east, and 8 is Strathcona and east to the city limit. \n",
    "\n",
    "First try, we can isolate downtown from the surroundings.\n",
    "\n",
    "Note: I just googled a ward map. The ridings are changing for this current election - this data uses the old ridings, so I made sure I had an old map"
   ]
  },
  {
   "cell_type": "code",
   "execution_count": 100,
   "metadata": {},
   "outputs": [
    {
     "data": {
      "text/html": [
       "<div>\n",
       "<style scoped>\n",
       "    .dataframe tbody tr th:only-of-type {\n",
       "        vertical-align: middle;\n",
       "    }\n",
       "\n",
       "    .dataframe tbody tr th {\n",
       "        vertical-align: top;\n",
       "    }\n",
       "\n",
       "    .dataframe thead th {\n",
       "        text-align: right;\n",
       "    }\n",
       "</style>\n",
       "<table border=\"1\" class=\"dataframe\">\n",
       "  <thead>\n",
       "    <tr style=\"text-align: right;\">\n",
       "      <th></th>\n",
       "      <th>Account Number</th>\n",
       "      <th>Suite</th>\n",
       "      <th>House Number</th>\n",
       "      <th>Street Name</th>\n",
       "      <th>Garage</th>\n",
       "      <th>Neighbourhood ID</th>\n",
       "      <th>Neighbourhood</th>\n",
       "      <th>Ward</th>\n",
       "      <th>Assessed Value</th>\n",
       "      <th>Latitude</th>\n",
       "      <th>Longitude</th>\n",
       "    </tr>\n",
       "  </thead>\n",
       "  <tbody>\n",
       "    <tr>\n",
       "      <th>10</th>\n",
       "      <td>1286483</td>\n",
       "      <td>910</td>\n",
       "      <td>10145.0</td>\n",
       "      <td>121 STREET NW</td>\n",
       "      <td>N</td>\n",
       "      <td>1150.0</td>\n",
       "      <td>OLIVER</td>\n",
       "      <td>Ward 6</td>\n",
       "      <td>120500</td>\n",
       "      <td>53.542162</td>\n",
       "      <td>-113.530183</td>\n",
       "    </tr>\n",
       "    <tr>\n",
       "      <th>18</th>\n",
       "      <td>1213032</td>\n",
       "      <td>1701</td>\n",
       "      <td>11826.0</td>\n",
       "      <td>100 AVENUE NW</td>\n",
       "      <td>N</td>\n",
       "      <td>1150.0</td>\n",
       "      <td>OLIVER</td>\n",
       "      <td>Ward 6</td>\n",
       "      <td>808500</td>\n",
       "      <td>53.539950</td>\n",
       "      <td>-113.526293</td>\n",
       "    </tr>\n",
       "    <tr>\n",
       "      <th>72</th>\n",
       "      <td>1286657</td>\n",
       "      <td>909</td>\n",
       "      <td>10145.0</td>\n",
       "      <td>121 STREET NW</td>\n",
       "      <td>N</td>\n",
       "      <td>1150.0</td>\n",
       "      <td>OLIVER</td>\n",
       "      <td>Ward 6</td>\n",
       "      <td>146000</td>\n",
       "      <td>53.542162</td>\n",
       "      <td>-113.530183</td>\n",
       "    </tr>\n",
       "    <tr>\n",
       "      <th>90</th>\n",
       "      <td>1030782</td>\n",
       "      <td>40</td>\n",
       "      <td>10160.0</td>\n",
       "      <td>119 STREET NW</td>\n",
       "      <td>N</td>\n",
       "      <td>1150.0</td>\n",
       "      <td>OLIVER</td>\n",
       "      <td>Ward 6</td>\n",
       "      <td>191000</td>\n",
       "      <td>53.542264</td>\n",
       "      <td>-113.527347</td>\n",
       "    </tr>\n",
       "    <tr>\n",
       "      <th>97</th>\n",
       "      <td>1244110</td>\n",
       "      <td>103</td>\n",
       "      <td>10917.0</td>\n",
       "      <td>109 STREET NW</td>\n",
       "      <td>N</td>\n",
       "      <td>1030.0</td>\n",
       "      <td>CENTRAL MCDOUGALL</td>\n",
       "      <td>Ward 6</td>\n",
       "      <td>86500</td>\n",
       "      <td>53.555105</td>\n",
       "      <td>-113.507884</td>\n",
       "    </tr>\n",
       "  </tbody>\n",
       "</table>\n",
       "</div>"
      ],
      "text/plain": [
       "    Account Number Suite  House Number    Street Name Garage  \\\n",
       "10         1286483   910       10145.0  121 STREET NW      N   \n",
       "18         1213032  1701       11826.0  100 AVENUE NW      N   \n",
       "72         1286657   909       10145.0  121 STREET NW      N   \n",
       "90         1030782    40       10160.0  119 STREET NW      N   \n",
       "97         1244110   103       10917.0  109 STREET NW      N   \n",
       "\n",
       "    Neighbourhood ID      Neighbourhood    Ward  Assessed Value   Latitude  \\\n",
       "10            1150.0             OLIVER  Ward 6          120500  53.542162   \n",
       "18            1150.0             OLIVER  Ward 6          808500  53.539950   \n",
       "72            1150.0             OLIVER  Ward 6          146000  53.542162   \n",
       "90            1150.0             OLIVER  Ward 6          191000  53.542264   \n",
       "97            1030.0  CENTRAL MCDOUGALL  Ward 6           86500  53.555105   \n",
       "\n",
       "     Longitude  \n",
       "10 -113.530183  \n",
       "18 -113.526293  \n",
       "72 -113.530183  \n",
       "90 -113.527347  \n",
       "97 -113.507884  "
      ]
     },
     "execution_count": 100,
     "metadata": {},
     "output_type": "execute_result"
    }
   ],
   "source": [
    "#Create new dataframe for Ward 6, and everything else from the non-garage set of homes.\n",
    "ward6=df_nogarage[df_nogarage['Ward'] == \"Ward 6\"]\n",
    "burbs=df_nogarage[df_nogarage['Ward'] != \"Ward 6\"]\n",
    "ward6.head()"
   ]
  },
  {
   "cell_type": "code",
   "execution_count": 115,
   "metadata": {},
   "outputs": [
    {
     "data": {
      "image/png": "[encoded data removed]",
      "text/plain": [
       "<Figure size 1440x360 with 1 Axes>"
      ]
     },
     "metadata": {
      "needs_background": "light"
     },
     "output_type": "display_data"
    }
   ],
   "source": [
    "\n",
    "hist_ward6=thinkstats2.Hist(ward6['Assessed Value'])\n",
    "thinkplot.Hist(hist_ward6)"
   ]
  },
  {
   "cell_type": "code",
   "execution_count": 102,
   "metadata": {},
   "outputs": [
    {
     "name": "stderr",
     "output_type": "stream",
     "text": [
      "c:\\Users\\taraz\\anaconda3\\lib\\site-packages\\seaborn\\distributions.py:2619: FutureWarning: `distplot` is a deprecated function and will be removed in a future version. Please adapt your code to use either `displot` (a figure-level function with similar flexibility) or `histplot` (an axes-level function for histograms).\n",
      "  warnings.warn(msg, FutureWarning)\n",
      "c:\\Users\\taraz\\anaconda3\\lib\\site-packages\\seaborn\\distributions.py:2619: FutureWarning: `distplot` is a deprecated function and will be removed in a future version. Please adapt your code to use either `displot` (a figure-level function with similar flexibility) or `histplot` (an axes-level function for histograms).\n",
      "  warnings.warn(msg, FutureWarning)\n",
      "c:\\Users\\taraz\\anaconda3\\lib\\site-packages\\seaborn\\distributions.py:2619: FutureWarning: `distplot` is a deprecated function and will be removed in a future version. Please adapt your code to use either `displot` (a figure-level function with similar flexibility) or `histplot` (an axes-level function for histograms).\n",
      "  warnings.warn(msg, FutureWarning)\n"
     ]
    },
    {
     "data": {
      "text/plain": [
       "<AxesSubplot:xlabel='Assessed Value', ylabel='Density'>"
      ]
     },
     "execution_count": 102,
     "metadata": {},
     "output_type": "execute_result"
    },
    {
     "data": {
      "image/png": "[encoded data removed]",
      "text/plain": [
       "<Figure size 1440x360 with 1 Axes>"
      ]
     },
     "metadata": {
      "needs_background": "light"
     },
     "output_type": "display_data"
    }
   ],
   "source": [
    "#Plot the new groupings. \n",
    "plt.ticklabel_format(style='plain', axis='x')\n",
    "sns.distplot(ward6['Assessed Value'], label=\"green\")\n",
    "sns.distplot(burbs['Assessed Value'], color=\"blue\")\n",
    "sns.distplot(df['Assessed Value'], color='red')\n"
   ]
  },
  {
   "cell_type": "markdown",
   "metadata": {},
   "source": [
    "Bingo, bango, we may have found what we are looking for! Our downtown condos have a peak that is lower than the surrounding areas (probably largely because they are older). With our above hypothesis, we can draw some conclusions. The distribution is a little bimodal, that might require some more in depth investigation. I suspect that the lower bump are properties on the beltline of central Edmonton, but we need to investigate to be sure. \n",
    "\n",
    "If central areas become more valuable as cities grow and densify, then looking at investing in downtown, non-garage properties may make some sense. They appear to be undervalued here compared to other subsets of property. \n",
    "\n",
    "This also gives us some evidence that the prices of our non-garage condos are not \"capped\". They follow a normalish distribution, so we shouldn't expect that their price hits a ceiling if we renovate or as areas gentrify. "
   ]
  },
  {
   "cell_type": "code",
   "execution_count": 103,
   "metadata": {},
   "outputs": [
    {
     "data": {
      "text/plain": [
       "(0.4647361782636115, 0.5577902057790206, 0.17086096680988666)"
      ]
     },
     "execution_count": 103,
     "metadata": {},
     "output_type": "execute_result"
    }
   ],
   "source": [
    "#What percent of homes are 'cheap' in our different groups?\n",
    "#Create CDFs and caclulate the totals below some cutoff - I used $150k for mine. We could do a few. \n",
    "ward6_cdf=thinkstats2.Cdf(ward6['Assessed Value'])\n",
    "burb_cdf=thinkstats2.Cdf(burbs['Assessed Value'])\n",
    "all_cdf=thinkstats2.Cdf(df['Assessed Value'])\n",
    "ward6_cdf.Prob(180000), burb_cdf.Prob(180000), all_cdf.Prob(180000)"
   ]
  },
  {
   "cell_type": "code",
   "execution_count": 19,
   "metadata": {},
   "outputs": [],
   "source": [
    "#What percent of homes are 'cheap' in our different groups?\n"
   ]
  },
  {
   "cell_type": "markdown",
   "metadata": {},
   "source": [
    "### Part 5: Neighborhoods\n",
    "\n",
    "Investigate the location data a little further - examine what neighborhood these homes fall into. "
   ]
  },
  {
   "cell_type": "code",
   "execution_count": 104,
   "metadata": {},
   "outputs": [
    {
     "data": {
      "text/plain": [
       "OLIVER               7369\n",
       "DOWNTOWN             5058\n",
       "QUEEN MARY PARK      1785\n",
       "WESTMOUNT            1379\n",
       "BOYLE STREET         1237\n",
       "CENTRAL MCDOUGALL     801\n",
       "RIVERDALE             394\n",
       "GLENORA               352\n",
       "MCCAULEY              286\n",
       "GROVENOR              156\n",
       "ROSSDALE              139\n",
       "MCQUEEN                45\n",
       "NORTH GLENORA          27\n",
       "Name: Neighbourhood, dtype: int64"
      ]
     },
     "execution_count": 104,
     "metadata": {},
     "output_type": "execute_result"
    }
   ],
   "source": [
    "#How many homes are in each hood?\n",
    "ward6['Neighbourhood'].value_counts().sort_values(ascending=False)"
   ]
  },
  {
   "cell_type": "code",
   "execution_count": 107,
   "metadata": {},
   "outputs": [
    {
     "data": {
      "text/html": [
       "<div>\n",
       "<style scoped>\n",
       "    .dataframe tbody tr th:only-of-type {\n",
       "        vertical-align: middle;\n",
       "    }\n",
       "\n",
       "    .dataframe tbody tr th {\n",
       "        vertical-align: top;\n",
       "    }\n",
       "\n",
       "    .dataframe thead th {\n",
       "        text-align: right;\n",
       "    }\n",
       "</style>\n",
       "<table border=\"1\" class=\"dataframe\">\n",
       "  <thead>\n",
       "    <tr style=\"text-align: right;\">\n",
       "      <th></th>\n",
       "      <th>Account Number</th>\n",
       "      <th>House Number</th>\n",
       "      <th>Neighbourhood ID</th>\n",
       "      <th>Assessed Value</th>\n",
       "      <th>Latitude</th>\n",
       "      <th>Longitude</th>\n",
       "    </tr>\n",
       "    <tr>\n",
       "      <th>Neighbourhood</th>\n",
       "      <th></th>\n",
       "      <th></th>\n",
       "      <th></th>\n",
       "      <th></th>\n",
       "      <th></th>\n",
       "      <th></th>\n",
       "    </tr>\n",
       "  </thead>\n",
       "  <tbody>\n",
       "    <tr>\n",
       "      <th>NORTH GLENORA</th>\n",
       "      <td>5.056906e+06</td>\n",
       "      <td>11676.925926</td>\n",
       "      <td>3310.0</td>\n",
       "      <td>364240.740741</td>\n",
       "      <td>53.555271</td>\n",
       "      <td>-113.557520</td>\n",
       "    </tr>\n",
       "    <tr>\n",
       "      <th>RIVERDALE</th>\n",
       "      <td>8.611281e+06</td>\n",
       "      <td>9495.246193</td>\n",
       "      <td>1210.0</td>\n",
       "      <td>319402.284264</td>\n",
       "      <td>53.542885</td>\n",
       "      <td>-113.472790</td>\n",
       "    </tr>\n",
       "    <tr>\n",
       "      <th>ROSSDALE</th>\n",
       "      <td>6.987038e+06</td>\n",
       "      <td>9709.604317</td>\n",
       "      <td>1220.0</td>\n",
       "      <td>284687.050360</td>\n",
       "      <td>53.534638</td>\n",
       "      <td>-113.496893</td>\n",
       "    </tr>\n",
       "    <tr>\n",
       "      <th>GROVENOR</th>\n",
       "      <td>5.719519e+06</td>\n",
       "      <td>11295.871795</td>\n",
       "      <td>3210.0</td>\n",
       "      <td>280817.307692</td>\n",
       "      <td>53.544369</td>\n",
       "      <td>-113.571719</td>\n",
       "    </tr>\n",
       "    <tr>\n",
       "      <th>DOWNTOWN</th>\n",
       "      <td>8.360574e+06</td>\n",
       "      <td>10109.853895</td>\n",
       "      <td>1090.0</td>\n",
       "      <td>257635.429023</td>\n",
       "      <td>53.540528</td>\n",
       "      <td>-113.501037</td>\n",
       "    </tr>\n",
       "    <tr>\n",
       "      <th>MCCAULEY</th>\n",
       "      <td>5.270428e+06</td>\n",
       "      <td>10178.985612</td>\n",
       "      <td>1140.0</td>\n",
       "      <td>217816.433566</td>\n",
       "      <td>53.555625</td>\n",
       "      <td>-113.485285</td>\n",
       "    </tr>\n",
       "    <tr>\n",
       "      <th>OLIVER</th>\n",
       "      <td>5.490062e+06</td>\n",
       "      <td>10433.576083</td>\n",
       "      <td>1150.0</td>\n",
       "      <td>217471.977202</td>\n",
       "      <td>53.540943</td>\n",
       "      <td>-113.520753</td>\n",
       "    </tr>\n",
       "    <tr>\n",
       "      <th>WESTMOUNT</th>\n",
       "      <td>8.663235e+06</td>\n",
       "      <td>10800.078229</td>\n",
       "      <td>3440.0</td>\n",
       "      <td>206397.751994</td>\n",
       "      <td>53.550981</td>\n",
       "      <td>-113.535642</td>\n",
       "    </tr>\n",
       "    <tr>\n",
       "      <th>GLENORA</th>\n",
       "      <td>4.303697e+06</td>\n",
       "      <td>13542.107955</td>\n",
       "      <td>3200.0</td>\n",
       "      <td>195035.511364</td>\n",
       "      <td>53.544147</td>\n",
       "      <td>-113.561376</td>\n",
       "    </tr>\n",
       "    <tr>\n",
       "      <th>QUEEN MARY PARK</th>\n",
       "      <td>7.593352e+06</td>\n",
       "      <td>10851.211204</td>\n",
       "      <td>1180.0</td>\n",
       "      <td>161319.327731</td>\n",
       "      <td>53.550726</td>\n",
       "      <td>-113.520516</td>\n",
       "    </tr>\n",
       "    <tr>\n",
       "      <th>MCQUEEN</th>\n",
       "      <td>7.960693e+06</td>\n",
       "      <td>11584.355556</td>\n",
       "      <td>3300.0</td>\n",
       "      <td>141611.111111</td>\n",
       "      <td>53.557475</td>\n",
       "      <td>-113.576634</td>\n",
       "    </tr>\n",
       "    <tr>\n",
       "      <th>BOYLE STREET</th>\n",
       "      <td>8.002838e+06</td>\n",
       "      <td>9520.632983</td>\n",
       "      <td>1020.0</td>\n",
       "      <td>132987.469685</td>\n",
       "      <td>53.550640</td>\n",
       "      <td>-113.476803</td>\n",
       "    </tr>\n",
       "    <tr>\n",
       "      <th>CENTRAL MCDOUGALL</th>\n",
       "      <td>7.499017e+06</td>\n",
       "      <td>10669.605053</td>\n",
       "      <td>1030.0</td>\n",
       "      <td>119441.323346</td>\n",
       "      <td>53.552918</td>\n",
       "      <td>-113.501849</td>\n",
       "    </tr>\n",
       "  </tbody>\n",
       "</table>\n",
       "</div>"
      ],
      "text/plain": [
       "                   Account Number  House Number  Neighbourhood ID  \\\n",
       "Neighbourhood                                                       \n",
       "NORTH GLENORA        5.056906e+06  11676.925926            3310.0   \n",
       "RIVERDALE            8.611281e+06   9495.246193            1210.0   \n",
       "ROSSDALE             6.987038e+06   9709.604317            1220.0   \n",
       "GROVENOR             5.719519e+06  11295.871795            3210.0   \n",
       "DOWNTOWN             8.360574e+06  10109.853895            1090.0   \n",
       "MCCAULEY             5.270428e+06  10178.985612            1140.0   \n",
       "OLIVER               5.490062e+06  10433.576083            1150.0   \n",
       "WESTMOUNT            8.663235e+06  10800.078229            3440.0   \n",
       "GLENORA              4.303697e+06  13542.107955            3200.0   \n",
       "QUEEN MARY PARK      7.593352e+06  10851.211204            1180.0   \n",
       "MCQUEEN              7.960693e+06  11584.355556            3300.0   \n",
       "BOYLE STREET         8.002838e+06   9520.632983            1020.0   \n",
       "CENTRAL MCDOUGALL    7.499017e+06  10669.605053            1030.0   \n",
       "\n",
       "                   Assessed Value   Latitude   Longitude  \n",
       "Neighbourhood                                             \n",
       "NORTH GLENORA       364240.740741  53.555271 -113.557520  \n",
       "RIVERDALE           319402.284264  53.542885 -113.472790  \n",
       "ROSSDALE            284687.050360  53.534638 -113.496893  \n",
       "GROVENOR            280817.307692  53.544369 -113.571719  \n",
       "DOWNTOWN            257635.429023  53.540528 -113.501037  \n",
       "MCCAULEY            217816.433566  53.555625 -113.485285  \n",
       "OLIVER              217471.977202  53.540943 -113.520753  \n",
       "WESTMOUNT           206397.751994  53.550981 -113.535642  \n",
       "GLENORA             195035.511364  53.544147 -113.561376  \n",
       "QUEEN MARY PARK     161319.327731  53.550726 -113.520516  \n",
       "MCQUEEN             141611.111111  53.557475 -113.576634  \n",
       "BOYLE STREET        132987.469685  53.550640 -113.476803  \n",
       "CENTRAL MCDOUGALL   119441.323346  53.552918 -113.501849  "
      ]
     },
     "execution_count": 107,
     "metadata": {},
     "output_type": "execute_result"
    }
   ],
   "source": [
    "#What is the average value of each set of hood's homes?\n",
    "ward6.groupby(\"Neighbourhood\").mean().sort_values(\"Assessed Value\", ascending=False)"
   ]
  },
  {
   "cell_type": "code",
   "execution_count": 112,
   "metadata": {},
   "outputs": [],
   "source": [
    "#Combo (sort of) view of the above tables. \n",
    "glen=ward6[ward6[\"Neighbourhood\"]== \"GLENORA\"]\n"
   ]
  },
  {
   "cell_type": "code",
   "execution_count": 113,
   "metadata": {},
   "outputs": [],
   "source": [
    "glen_gar=df_garage[df_garage[\"Neighbourhood\"]== \"GLENORA\"]"
   ]
  },
  {
   "cell_type": "code",
   "execution_count": 114,
   "metadata": {},
   "outputs": [
    {
     "name": "stderr",
     "output_type": "stream",
     "text": [
      "c:\\Users\\taraz\\anaconda3\\lib\\site-packages\\seaborn\\distributions.py:2619: FutureWarning: `distplot` is a deprecated function and will be removed in a future version. Please adapt your code to use either `displot` (a figure-level function with similar flexibility) or `histplot` (an axes-level function for histograms).\n",
      "  warnings.warn(msg, FutureWarning)\n",
      "c:\\Users\\taraz\\anaconda3\\lib\\site-packages\\seaborn\\distributions.py:2619: FutureWarning: `distplot` is a deprecated function and will be removed in a future version. Please adapt your code to use either `displot` (a figure-level function with similar flexibility) or `histplot` (an axes-level function for histograms).\n",
      "  warnings.warn(msg, FutureWarning)\n"
     ]
    },
    {
     "data": {
      "text/plain": [
       "<AxesSubplot:xlabel='Assessed Value', ylabel='Density'>"
      ]
     },
     "execution_count": 114,
     "metadata": {},
     "output_type": "execute_result"
    },
    {
     "data": {
      "image/png": "[encoded data removed]",
      "text/plain": [
       "<Figure size 1440x360 with 1 Axes>"
      ]
     },
     "metadata": {
      "needs_background": "light"
     },
     "output_type": "display_data"
    }
   ],
   "source": [
    "sns.distplot(glen[\"Assessed Value\"], color=\"green\")\n",
    "sns.distplot(glen_gar[\"Assessed Value\"], color=\"blue\")"
   ]
  },
  {
   "cell_type": "code",
   "execution_count": 116,
   "metadata": {},
   "outputs": [
    {
     "data": {
      "text/html": [
       "<div>\n",
       "<style scoped>\n",
       "    .dataframe tbody tr th:only-of-type {\n",
       "        vertical-align: middle;\n",
       "    }\n",
       "\n",
       "    .dataframe tbody tr th {\n",
       "        vertical-align: top;\n",
       "    }\n",
       "\n",
       "    .dataframe thead th {\n",
       "        text-align: right;\n",
       "    }\n",
       "</style>\n",
       "<table border=\"1\" class=\"dataframe\">\n",
       "  <thead>\n",
       "    <tr style=\"text-align: right;\">\n",
       "      <th></th>\n",
       "      <th>Account Number</th>\n",
       "      <th>Suite</th>\n",
       "      <th>House Number</th>\n",
       "      <th>Street Name</th>\n",
       "      <th>Garage</th>\n",
       "      <th>Neighbourhood ID</th>\n",
       "      <th>Neighbourhood</th>\n",
       "      <th>Ward</th>\n",
       "      <th>Assessed Value</th>\n",
       "      <th>Latitude</th>\n",
       "      <th>Longitude</th>\n",
       "    </tr>\n",
       "  </thead>\n",
       "  <tbody>\n",
       "    <tr>\n",
       "      <th>19796</th>\n",
       "      <td>1275429</td>\n",
       "      <td>NaN</td>\n",
       "      <td>44.0</td>\n",
       "      <td>ST GEORGE'S CRESCENT NW</td>\n",
       "      <td>N</td>\n",
       "      <td>3200.0</td>\n",
       "      <td>GLENORA</td>\n",
       "      <td>Ward 6</td>\n",
       "      <td>948000</td>\n",
       "      <td>53.539825</td>\n",
       "      <td>-113.551182</td>\n",
       "    </tr>\n",
       "    <tr>\n",
       "      <th>23303</th>\n",
       "      <td>2641702</td>\n",
       "      <td>NaN</td>\n",
       "      <td>14031.0</td>\n",
       "      <td>104A AVENUE NW</td>\n",
       "      <td>N</td>\n",
       "      <td>3200.0</td>\n",
       "      <td>GLENORA</td>\n",
       "      <td>Ward 6</td>\n",
       "      <td>404500</td>\n",
       "      <td>53.546435</td>\n",
       "      <td>-113.564931</td>\n",
       "    </tr>\n",
       "    <tr>\n",
       "      <th>23524</th>\n",
       "      <td>2672053</td>\n",
       "      <td>NaN</td>\n",
       "      <td>13411.0</td>\n",
       "      <td>102 AVENUE NW</td>\n",
       "      <td>N</td>\n",
       "      <td>3200.0</td>\n",
       "      <td>GLENORA</td>\n",
       "      <td>Ward 6</td>\n",
       "      <td>495000</td>\n",
       "      <td>53.542760</td>\n",
       "      <td>-113.553450</td>\n",
       "    </tr>\n",
       "    <tr>\n",
       "      <th>25863</th>\n",
       "      <td>2666600</td>\n",
       "      <td>NaN</td>\n",
       "      <td>10223.0</td>\n",
       "      <td>133 STREET NW</td>\n",
       "      <td>N</td>\n",
       "      <td>3200.0</td>\n",
       "      <td>GLENORA</td>\n",
       "      <td>Ward 6</td>\n",
       "      <td>665500</td>\n",
       "      <td>53.543764</td>\n",
       "      <td>-113.550798</td>\n",
       "    </tr>\n",
       "    <tr>\n",
       "      <th>27630</th>\n",
       "      <td>2670503</td>\n",
       "      <td>NaN</td>\n",
       "      <td>21.0</td>\n",
       "      <td>WELLINGTON CRESCENT NW</td>\n",
       "      <td>N</td>\n",
       "      <td>3200.0</td>\n",
       "      <td>GLENORA</td>\n",
       "      <td>Ward 6</td>\n",
       "      <td>605000</td>\n",
       "      <td>53.541251</td>\n",
       "      <td>-113.547157</td>\n",
       "    </tr>\n",
       "    <tr>\n",
       "      <th>...</th>\n",
       "      <td>...</td>\n",
       "      <td>...</td>\n",
       "      <td>...</td>\n",
       "      <td>...</td>\n",
       "      <td>...</td>\n",
       "      <td>...</td>\n",
       "      <td>...</td>\n",
       "      <td>...</td>\n",
       "      <td>...</td>\n",
       "      <td>...</td>\n",
       "      <td>...</td>\n",
       "    </tr>\n",
       "    <tr>\n",
       "      <th>376116</th>\n",
       "      <td>11009069</td>\n",
       "      <td>NaN</td>\n",
       "      <td>13428.0</td>\n",
       "      <td>103 AVENUE NW</td>\n",
       "      <td>N</td>\n",
       "      <td>3200.0</td>\n",
       "      <td>GLENORA</td>\n",
       "      <td>Ward 6</td>\n",
       "      <td>456500</td>\n",
       "      <td>53.544889</td>\n",
       "      <td>-113.554372</td>\n",
       "    </tr>\n",
       "    <tr>\n",
       "      <th>376442</th>\n",
       "      <td>10961293</td>\n",
       "      <td>NaN</td>\n",
       "      <td>10204.0</td>\n",
       "      <td>130 STREET NW</td>\n",
       "      <td>N</td>\n",
       "      <td>3200.0</td>\n",
       "      <td>GLENORA</td>\n",
       "      <td>Ward 6</td>\n",
       "      <td>253500</td>\n",
       "      <td>53.543213</td>\n",
       "      <td>-113.546261</td>\n",
       "    </tr>\n",
       "    <tr>\n",
       "      <th>377280</th>\n",
       "      <td>10970626</td>\n",
       "      <td>NaN</td>\n",
       "      <td>13610.0</td>\n",
       "      <td>STONY PLAIN ROAD NW</td>\n",
       "      <td>N</td>\n",
       "      <td>3200.0</td>\n",
       "      <td>GLENORA</td>\n",
       "      <td>Ward 6</td>\n",
       "      <td>299000</td>\n",
       "      <td>53.544916</td>\n",
       "      <td>-113.556969</td>\n",
       "    </tr>\n",
       "    <tr>\n",
       "      <th>378872</th>\n",
       "      <td>10932224</td>\n",
       "      <td>NaN</td>\n",
       "      <td>10335.0</td>\n",
       "      <td>140 STREET NW</td>\n",
       "      <td>N</td>\n",
       "      <td>3200.0</td>\n",
       "      <td>GLENORA</td>\n",
       "      <td>Ward 6</td>\n",
       "      <td>263000</td>\n",
       "      <td>53.545702</td>\n",
       "      <td>-113.562580</td>\n",
       "    </tr>\n",
       "    <tr>\n",
       "      <th>380727</th>\n",
       "      <td>10961292</td>\n",
       "      <td>NaN</td>\n",
       "      <td>10208.0</td>\n",
       "      <td>130 STREET NW</td>\n",
       "      <td>N</td>\n",
       "      <td>3200.0</td>\n",
       "      <td>GLENORA</td>\n",
       "      <td>Ward 6</td>\n",
       "      <td>343000</td>\n",
       "      <td>53.543282</td>\n",
       "      <td>-113.546260</td>\n",
       "    </tr>\n",
       "  </tbody>\n",
       "</table>\n",
       "<p>352 rows × 11 columns</p>\n",
       "</div>"
      ],
      "text/plain": [
       "        Account Number Suite  House Number              Street Name Garage  \\\n",
       "19796          1275429   NaN          44.0  ST GEORGE'S CRESCENT NW      N   \n",
       "23303          2641702   NaN       14031.0           104A AVENUE NW      N   \n",
       "23524          2672053   NaN       13411.0            102 AVENUE NW      N   \n",
       "25863          2666600   NaN       10223.0            133 STREET NW      N   \n",
       "27630          2670503   NaN          21.0   WELLINGTON CRESCENT NW      N   \n",
       "...                ...   ...           ...                      ...    ...   \n",
       "376116        11009069   NaN       13428.0            103 AVENUE NW      N   \n",
       "376442        10961293   NaN       10204.0            130 STREET NW      N   \n",
       "377280        10970626   NaN       13610.0      STONY PLAIN ROAD NW      N   \n",
       "378872        10932224   NaN       10335.0            140 STREET NW      N   \n",
       "380727        10961292   NaN       10208.0            130 STREET NW      N   \n",
       "\n",
       "        Neighbourhood ID Neighbourhood    Ward  Assessed Value   Latitude  \\\n",
       "19796             3200.0       GLENORA  Ward 6          948000  53.539825   \n",
       "23303             3200.0       GLENORA  Ward 6          404500  53.546435   \n",
       "23524             3200.0       GLENORA  Ward 6          495000  53.542760   \n",
       "25863             3200.0       GLENORA  Ward 6          665500  53.543764   \n",
       "27630             3200.0       GLENORA  Ward 6          605000  53.541251   \n",
       "...                  ...           ...     ...             ...        ...   \n",
       "376116            3200.0       GLENORA  Ward 6          456500  53.544889   \n",
       "376442            3200.0       GLENORA  Ward 6          253500  53.543213   \n",
       "377280            3200.0       GLENORA  Ward 6          299000  53.544916   \n",
       "378872            3200.0       GLENORA  Ward 6          263000  53.545702   \n",
       "380727            3200.0       GLENORA  Ward 6          343000  53.543282   \n",
       "\n",
       "         Longitude  \n",
       "19796  -113.551182  \n",
       "23303  -113.564931  \n",
       "23524  -113.553450  \n",
       "25863  -113.550798  \n",
       "27630  -113.547157  \n",
       "...            ...  \n",
       "376116 -113.554372  \n",
       "376442 -113.546261  \n",
       "377280 -113.556969  \n",
       "378872 -113.562580  \n",
       "380727 -113.546260  \n",
       "\n",
       "[352 rows x 11 columns]"
      ]
     },
     "execution_count": 116,
     "metadata": {},
     "output_type": "execute_result"
    }
   ],
   "source": [
    "glen"
   ]
  },
  {
   "cell_type": "markdown",
   "metadata": {},
   "source": [
    "### Part 6: Deep Dive on one Segment\n",
    "\n",
    "Look at one potential area - Glenora. There are a non trivial number of homes, and it appears that there are several homes that are \"underpriced\" compared to what we may typically expect. \n",
    "\n",
    "If there are cheap non-garage homes in a very nice and generally expensive hood, we might think that if we were to improve these homes and/or wait for the city to grow and densify, that the value of these homes may \"catch up\" to other homes in the area. Many people want to live in Glenora, but the large houses are appreciating away from the affordability of more and more people. This isn't a fact, it is a pretty reasonable hypothesis. If you have ever heard the saying \"buy the worst house on the block\", it follows the same logic - location matters over anythig else. "
   ]
  },
  {
   "cell_type": "code",
   "execution_count": 23,
   "metadata": {},
   "outputs": [],
   "source": [
    "#Extract the glenora homes into their own dataframe\n"
   ]
  },
  {
   "cell_type": "code",
   "execution_count": 24,
   "metadata": {},
   "outputs": [],
   "source": [
    "#Create dataframe with all the garaged homes in Glenora, so we can compare. \n"
   ]
  },
  {
   "cell_type": "code",
   "execution_count": 25,
   "metadata": {},
   "outputs": [],
   "source": [
    "#Plot Glenora's homes - garage vs none.\n"
   ]
  },
  {
   "cell_type": "code",
   "execution_count": 26,
   "metadata": {},
   "outputs": [],
   "source": [
    "#Take the satistics:\n"
   ]
  },
  {
   "cell_type": "markdown",
   "metadata": {},
   "source": [
    "### Final (as of now) Conclusions\n",
    "\n",
    "So, where are we? We have a hood where there are a non-trivial number of garge free homes, where the value of those homes is drastically lower than the overall average price in that hood. We also have a handfull of examples of expensive condos in that hood. We know this area is centrally located.\n",
    "\n",
    "From external knowledge, glenora is a desireable and wealthy hood overall. \n",
    "\n",
    "If we are going to look into actual investments, the limited dataset we have here supports us researching Glenora, specifically homes without garages in Glenora as a potential target. We can't be sure that this makes sense without going out anf getting more domain knowledge though - our data didn't have everything - square footage, building age, etc... that we'd need to put cash on the line. "
   ]
  }
 ],
 "metadata": {
  "kernelspec": {
   "display_name": "Python 3.9.12 ('base')",
   "language": "python",
   "name": "python3"
  },
  "language_info": {
   "codemirror_mode": {
    "name": "ipython",
    "version": 3
   },
   "file_extension": ".py",
   "mimetype": "text/x-python",
   "name": "python",
   "nbconvert_exporter": "python",
   "pygments_lexer": "ipython3",
   "version": "3.9.12"
  },
  "orig_nbformat": 4,
  "vscode": {
   "interpreter": {
    "hash": "f49b311d837cdc5610aaa42e7d17bdec7b5ca2d09b36c852bd57f9468685896e"
   }
  }
 },
 "nbformat": 4,
 "nbformat_minor": 2
}
