{
 "cells": [
  {
   "cell_type": "code",
   "execution_count": null,
   "metadata": {},
   "outputs": [],
   "source": [
    "import thinkplot\n",
    "import thinkstats2\n",
    "import pandas as pd\n",
    "import numpy as np\n",
    "from sklearn.metrics import mean_squared_error\n",
    "import scipy.stats as ss\n",
    "from fractions import Fraction\n",
    "\n",
    "##Seaborn for fancy plots. \n",
    "import matplotlib.pyplot as plt\n",
    "import seaborn as sns\n",
    "plt.rcParams[\"figure.figsize\"] = (15,5)"
   ]
  },
  {
   "cell_type": "markdown",
   "metadata": {},
   "source": [
    "# Probability, Conditional Probability, and Bayes\n",
    "\n",
    "There are a couple of different ways to understand the ideas we've looked at in statistics:\n",
    "<ul>\n",
    "<li> Tabulating the data - we've looked at everything in terms of totals, X value occurs Y times in our dataset. \n",
    "<li> Probability - the likelihood that X value occurs. \n",
    "</ul>\n",
    "\n",
    "These two are different ways of thinking about the same thing. If we are counting we may say that 10 out of 100 people in our sample have red hair. If we are thinking probabilistically we may say that the probability that someone has red hair is 10%. \n",
    "\n",
    "In general, the approach we are taking is more directly transferable to data science, as we generally deal with datasets and counts of what happens in those datasets. There is another branch of statistics, Bayesian Statistics, that focuses on probability and solves the same challenges we are solving through that lens. We don't need to be experts in Bayesian Stats, but having some exposure to the probabilistic view will help our understanding. It will also likely help with our ability to deal with probability and stats in real life, as we often will see and use odds, probability, and summation when talking about real world events. As evidenced by the last few years, much of society really struggles with understanding the likelihood that something will happen. "
   ]
  },
  {
   "cell_type": "markdown",
   "metadata": {},
   "source": [
    "#### What Are The Odds my Car Gets Stolen?\n",
    "\n",
    "We have a dataset here on cars in a (very sketchy) part of a city. Let's look at the which cars were stolen, which were not, and calculate the probabilities. \n",
    "\n",
    "We generally write the probability that something will happen as P(thing), where the value is on a 0 to 1 scale. \n",
    "\n",
    "<ul>\n",
    "<li>P(stolen)\n",
    "<li>P(S)\n",
    "</ul>"
   ]
  },
  {
   "cell_type": "code",
   "execution_count": null,
   "metadata": {},
   "outputs": [],
   "source": [
    "df = pd.read_csv(\"data/vehicle_stolen_dataset.csv\", names=[\"ID\", \"Make\", \"Color\", \"Time\", \"Stolen\"])\n",
    "df.head(20)"
   ]
  },
  {
   "cell_type": "code",
   "execution_count": null,
   "metadata": {},
   "outputs": [],
   "source": [
    "#Calculate how many cars were stolen divided by how many cars\n",
    "pStolen = len(df[df[\"Stolen\"]==\"yes\"])/len(df)\n",
    "pStolen"
   ]
  },
  {
   "cell_type": "markdown",
   "metadata": {},
   "source": [
    "There are 20 total cars\n",
    "13 of those cars were stolen. \n",
    "\n",
    "The probability (fraction of the whole) of cars being stolen is 13/20 = 65% = ...\n",
    "<ul>\n",
    "<li>P(Stolen) = .65, or\n",
    "<li>P(S) = .65\n",
    "</ul>"
   ]
  },
  {
   "cell_type": "markdown",
   "metadata": {},
   "source": [
    "#### What are the chances my car is a BMW?\n",
    "\n",
    "We can calculate this probability for anything that we can count..."
   ]
  },
  {
   "cell_type": "code",
   "execution_count": null,
   "metadata": {},
   "outputs": [],
   "source": [
    "#BMWs divided by number of cars\n",
    "pBMW = len(df[df[\"Make\"]==\"BMW\"])/len(df)\n",
    "pBMW"
   ]
  },
  {
   "cell_type": "markdown",
   "metadata": {},
   "source": [
    "$ P(BMW) = .3 $\n",
    "\n",
    "$ P(B) = .3 $\n",
    "\n",
    "#### Chances of Both?\n",
    "\n",
    "Where things start getting intersting is if we are looking at multiple things at a time. What are the chances that both of the above are true? A car is BMW and stolen."
   ]
  },
  {
   "cell_type": "code",
   "execution_count": null,
   "metadata": {},
   "outputs": [],
   "source": [
    "#How many rows are both true, divided by total\n",
    "pBoth = len(df[(df[\"Make\"]==\"BMW\") & (df[\"Stolen\"]==\"yes\")])/len(df)\n",
    "pBoth"
   ]
  },
  {
   "cell_type": "markdown",
   "metadata": {},
   "source": [
    "$ P(B and S) = .2 $\n",
    "\n",
    "$ P(S and B) = .2 $"
   ]
  },
  {
   "cell_type": "markdown",
   "metadata": {},
   "source": [
    "## Conditional Probability\n",
    "\n",
    "#### What if I have a BMW? Then how likely is it my car gets stolen?\n",
    "\n",
    "This requires another concept - conditional probability. In order to computer this I need to calculate the probability that my car gets stolen, GIVEN the assumption that my car is a BMW. Expressed in probability notation:\n",
    "\n",
    "$ P(S|BMW) = ? $\n",
    "\n",
    "$ P(S|B) = ? $\n",
    "\n",
    "\n",
    "When expressing conditional probability we use a vertical bar, sometimes called a pipe, inside the probability notation. The first value is the thing we are getting the probability of; the second value is the condition. So we can think of it as \"if the second part is true, what is the probability of the first part?\"\n",
    "\n",
    "The probability that S is true, given the asertion that B is true. To calculate:\n",
    "<ul>\n",
    "<li>Select all the results where the make is BMW.\n",
    "<li>Of those, how many are stolen?\n",
    "</ul>"
   ]
  },
  {
   "cell_type": "code",
   "execution_count": null,
   "metadata": {},
   "outputs": [],
   "source": [
    "#If I have a BMW, whats the prob of it being stolen?\n",
    "df_BMW = df[df[\"Make\"]==\"BMW\"]\n",
    "pSB = len(df_BMW[df_BMW[\"Stolen\"]==\"yes\"])/len(df_BMW)\n",
    "pSB"
   ]
  },
  {
   "cell_type": "markdown",
   "metadata": {},
   "source": [
    "The probability of my BMW being stolen is a little higher! Or in other words once we update our knowledge that the car we are looking at is a BMW, we can update our prediction to more accurately reflect that totality of our new knowledge. "
   ]
  },
  {
   "cell_type": "markdown",
   "metadata": {},
   "source": [
    "### Bayes(ish) Theorem 1\n",
    "\n",
    "We can calculate these probabilities slightly more efficently than all that dataframe manipulation.\n",
    "Probability of my car being stolen if it is a BMW:\n",
    "\n",
    "$ p(S|B) = \\frac{P(Stolen and BMW)}{P(BMW)} = \\frac{pBoth}{pBMW} $\n",
    "\n",
    "This is theorem #1:\n",
    "\n",
    "In general form: $ P(A|B) = \\frac{P(A~\\mathrm{and}~B)}{P(B)} $\n",
    "\n",
    "in code..."
   ]
  },
  {
   "cell_type": "code",
   "execution_count": null,
   "metadata": {},
   "outputs": [],
   "source": [
    "#Alternate calculation\n",
    "pSB2 = pBoth/pBMW\n",
    "pSB2 == pSB"
   ]
  },
  {
   "cell_type": "markdown",
   "metadata": {},
   "source": [
    "#WHAT?????????????????????????????????????\n",
    "\n",
    "Probabilites often use fractions, while numbers are normally floating point (decimals). We can use some fractions to make it easier!"
   ]
  },
  {
   "cell_type": "code",
   "execution_count": null,
   "metadata": {},
   "outputs": [],
   "source": [
    "#Redo with fractions\n",
    "pBothF = Fraction(len(df[(df[\"Make\"]==\"BMW\") & (df[\"Stolen\"]==\"yes\")]), len(df))\n",
    "pBMWF = Fraction(len(df[df[\"Make\"]==\"BMW\"]), len(df))\n",
    "pSB2F = pBothF/pBMWF\n",
    "print(pSB2F) #The print thing tells the Fraction to look fractiony\n",
    "#print(Fraction(4,5))"
   ]
  },
  {
   "cell_type": "markdown",
   "metadata": {},
   "source": [
    "What about the other way around? If my car is stolen, what's the chances that it is a BMW?\n",
    "\n",
    "$ P(BMW | Stolen) = \\frac{P(BMW and STOLEN)}{P(STOLEN)} $"
   ]
  },
  {
   "cell_type": "code",
   "execution_count": null,
   "metadata": {},
   "outputs": [],
   "source": [
    "df_Stol = df[df[\"Stolen\"] == \"yes\"]\n",
    "pBS = Fraction(len(df_Stol[df_Stol[\"Make\"] == \"BMW\"]), len(df_Stol))\n",
    "#pBS = len(df_Stol[df_Stol[\"Make\"] == \"BMW\"])/ len(df_Stol)\n",
    "print(pBS)"
   ]
  },
  {
   "cell_type": "markdown",
   "metadata": {},
   "source": [
    "### Bayes(ish) Theorem 2\n",
    "\n",
    "Note - these two probabilities are different. The prob that a car is STOLEN and a BMW is the same as the prob it is a BMW and STOLEN. The probability that a car is stolen GIVEN it is a BMW is not the same as the probability that a car is a BMW given that it is stolen. \n",
    "\n",
    "We can manipulate what we did above by multiplying both sides by pBMW. We get:\n",
    "\n",
    "$ p(Stolen and BMW) = P(Stolen)*P(S|B) $\n",
    "\n",
    "This is Theorem 2:\n",
    "\n",
    "In nice print, generally: $ P(A~\\mathrm{and}~B) = P(B) ~ P(A|B) $"
   ]
  },
  {
   "cell_type": "code",
   "execution_count": null,
   "metadata": {},
   "outputs": [],
   "source": [
    "#Check\n",
    "print(pBothF)\n",
    "print(pBMWF*pSB2F)"
   ]
  },
  {
   "cell_type": "markdown",
   "metadata": {},
   "source": [
    "### Bayes Theorem\n",
    "\n",
    "We know, from intuition and from above, that conjunctions (and) works in either direction: P(Stolen and BMW) = P(BMW and STOLEN)\n",
    "\n",
    "Written in general form:\n",
    "\n",
    "$ P(A~\\mathrm{and}~B) = P(B~\\mathrm{and}~A) $\n",
    "\n",
    "If we apply Theorem 2 from above to both sides, we have: P(BMW)*P(STOLEN | BMW) = P(STOLEN)*P(BMW | STOLEN)\n",
    "\n",
    "Written in general form:\n",
    "\n",
    "$ P(B) P(A|B) = P(A) P(B|A) $\n",
    "\n",
    "With this equation we can solve for whatever we don't know - like either conditional:\n",
    "\n",
    "1. You can check $B$ first, then $A$ conditioned on $B$, or\n",
    "\n",
    "2. You can check $A$ first, then $B$ conditioned on $A$.\n",
    "\n",
    "If we divide through by $P(B)$, we get Theorem 3:\n",
    "\n",
    "$ P(A|B) = \\frac{P(A) P(B|A)}{P(B)} $\n",
    "\n",
    "That is Bayes's Theorem."
   ]
  },
  {
   "cell_type": "code",
   "execution_count": null,
   "metadata": {},
   "outputs": [],
   "source": [
    "#What is the prob of a car being red, given that it is a nissan. \n",
    "#What is the prob that a nissan is red. \n",
    "\n",
    "#Probability of stolen given that you have a BMW\n",
    "#First, get pStolen in fraction form\n",
    "pSF = Fraction(len(df[df[\"Stolen\"]==\"yes\"]), len(df))\n",
    "\n",
    "#Calculate numerator\n",
    "numerator = pSF*pBS\n",
    "\n",
    "print(numerator/pBMWF)"
   ]
  },
  {
   "cell_type": "markdown",
   "metadata": {},
   "source": [
    "### The Law of Total Probability\n",
    "\n",
    "In order to make all this stuff work, we need one other thing - the law of total probability.\n",
    "Here's one form of the law, expressed in mathematical notation:\n",
    "\n",
    "$ P(A) = P(B_1 \\mathrm{and} A) + P(B_2 \\mathrm{and} A) $\n",
    "\n",
    "In words, this means two things:\n",
    "\n",
    "- The probabilities are mutually exclusive, only one can be true at a time.\n",
    "\n",
    "- The probabilites are exhaustive, they sum to 1. "
   ]
  },
  {
   "cell_type": "markdown",
   "metadata": {},
   "source": [
    "Bayes is useful because whichever condition we don't know can be calculated - it becomes much more useful when we don't have all the data, like we do here. If we have all of the data, we can just count. More on that later. \n",
    "\n",
    "Another example...\n",
    "\n",
    "On the Titanic, what is the probability that someone who died is from third class? Let's set up our equation\n",
    "\n",
    "$ p(3rd | Dead) = \\frac{p(3rd)*p(Dead | 3rd)}{p(Dead)} $"
   ]
  },
  {
   "cell_type": "code",
   "execution_count": null,
   "metadata": {},
   "outputs": [],
   "source": [
    "#The titanic is built into Seaborn, to make it easy.\n",
    "titanic = sns. load_dataset('titanic')\n",
    "titanic.head()"
   ]
  },
  {
   "cell_type": "code",
   "execution_count": null,
   "metadata": {},
   "outputs": [],
   "source": [
    "#Calculate some fractions\n",
    "pD = Fraction(len(titanic[\"survived\"] == False),len(titanic))\n",
    "p3 = Fraction(len(titanic[\"class\"] == 3),len(titanic))\n",
    "tmp = titanic[titanic[\"pclass\"] == 3]\n",
    "pD3 = Fraction((tmp[\"survived\"]==False).sum(), len(tmp))\n"
   ]
  },
  {
   "cell_type": "code",
   "execution_count": null,
   "metadata": {},
   "outputs": [],
   "source": [
    "print((pD3*p3)/pD)"
   ]
  },
  {
   "cell_type": "markdown",
   "metadata": {},
   "source": [
    "Damn, that's tuff. \n",
    "\n",
    "![Die](images/die.gif \"Die\")\n",
    "\n",
    "So, if you're going on a boat, be rich! This key fact will be on the final. "
   ]
  },
  {
   "cell_type": "markdown",
   "metadata": {},
   "source": [
    "### Exercise - Will My German Car Get Stolen?\n",
    "\n",
    "What is the probability of your car being stolen if it is a German car?\n",
    "\n",
    "Note: In our data the German cars are BMWs and Audis. \n",
    "\n",
    "$ P(Stolen | German) = P(Stolen) * \\frac{P(German | Stolen)}{P(German)} $"
   ]
  },
  {
   "cell_type": "code",
   "execution_count": null,
   "metadata": {},
   "outputs": [],
   "source": []
  },
  {
   "cell_type": "markdown",
   "metadata": {},
   "source": [
    "### Exercise - What is the Probability of a Theft Happening at Night?"
   ]
  },
  {
   "cell_type": "code",
   "execution_count": null,
   "metadata": {},
   "outputs": [],
   "source": []
  },
  {
   "cell_type": "markdown",
   "metadata": {},
   "source": [
    "As we can see above, when we have all the data, we can calculate all the probabilities directly. Bayes is more useful when we don't have all that. That's next time... Something to consider....\n",
    "\n",
    "\n",
    "## Thought Experiment - The Monty Hall Problem\n",
    "\n",
    "The Monty Hall problem is based on a game show called *Let's Make a Deal*. If you are a contestant on the show, here's how the game works:\n",
    "\n",
    "* The host, Monty Hall, shows you three closed doors -- numbered 1, 2, and 3 -- and tells you that there is a prize behind each door.\n",
    "\n",
    "* One prize is valuable (traditionally a car), the other two are less valuable (traditionally goats).\n",
    "\n",
    "* The object of the game is to guess which door has the car. If you guess right, you get to keep the car.\n",
    "\n",
    "The key - after you pick a door, Monty will open another, revealing a goat. Then Monty offers you the option to stick with your original choice or switch to the remaining unopened door.\n",
    "\n",
    "Do you switch?"
   ]
  }
 ],
 "metadata": {
  "kernelspec": {
   "display_name": "Python 3.9.7 ('ml3950')",
   "language": "python",
   "name": "python3"
  },
  "language_info": {
   "codemirror_mode": {
    "name": "ipython",
    "version": 3
   },
   "file_extension": ".py",
   "mimetype": "text/x-python",
   "name": "python",
   "nbconvert_exporter": "python",
   "pygments_lexer": "ipython3",
   "version": "3.9.7"
  },
  "orig_nbformat": 4,
  "vscode": {
   "interpreter": {
    "hash": "4d722d3adfa415172c1f5238b519fb86b488acdae450fd691ab06c09f4ca9173"
   }
  }
 },
 "nbformat": 4,
 "nbformat_minor": 2
}
