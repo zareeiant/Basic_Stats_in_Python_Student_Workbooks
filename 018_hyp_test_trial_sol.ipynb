{
 "cells": [
  {
   "cell_type": "code",
   "execution_count": null,
   "metadata": {},
   "outputs": [],
   "source": [
    "import pandas as pd\n",
    "import numpy as np\n",
    "import scipy.stats as ss\n",
    "import thinkstats2\n",
    "from statsmodels.stats.power import TTestPower\n",
    "\n",
    "##Seaborn for fancy plots. \n",
    "import matplotlib.pyplot as plt\n",
    "import seaborn as sns\n",
    "plt.rcParams[\"figure.figsize\"] = (8,8)"
   ]
  },
  {
   "cell_type": "markdown",
   "metadata": {},
   "source": [
    "# Covid Death Rates in Murica\n",
    "\n",
    "Use this data to attempt the analysis below. "
   ]
  },
  {
   "cell_type": "code",
   "execution_count": null,
   "metadata": {},
   "outputs": [],
   "source": [
    "df = pd.read_csv(\"data/covid_deaths.csv\")\n",
    "df.head()"
   ]
  },
  {
   "cell_type": "code",
   "execution_count": null,
   "metadata": {},
   "outputs": [],
   "source": [
    "sns.lineplot(data=df, x=\"Day\", y=\"unvaccinated\", ci=0)\n",
    "sns.lineplot(data=df, x=\"Day\", y=\"fully_vaccinated\", ci=0)\n",
    "sns.lineplot(data=df, x=\"Day\", y=\"one_booster\", ci=0)"
   ]
  },
  {
   "cell_type": "markdown",
   "metadata": {},
   "source": [
    "## Is there a significant difference in death rates between Fully Vaccinated people and Unvaccinated people?\n",
    "\n",
    "#### Create Datasets"
   ]
  },
  {
   "cell_type": "code",
   "execution_count": null,
   "metadata": {},
   "outputs": [],
   "source": [
    "fv = df[\"fully_vaccinated\"]\n",
    "un = df[\"unvaccinated\"]"
   ]
  },
  {
   "cell_type": "markdown",
   "metadata": {},
   "source": [
    "#### Explore Datasets"
   ]
  },
  {
   "cell_type": "code",
   "execution_count": null,
   "metadata": {},
   "outputs": [],
   "source": [
    "sns.kdeplot(fv)\n",
    "sns.kdeplot(un)"
   ]
  },
  {
   "cell_type": "code",
   "execution_count": null,
   "metadata": {},
   "outputs": [],
   "source": [
    "fv.describe()"
   ]
  },
  {
   "cell_type": "code",
   "execution_count": null,
   "metadata": {},
   "outputs": [],
   "source": [
    "un.describe()"
   ]
  },
  {
   "cell_type": "markdown",
   "metadata": {},
   "source": [
    "### Hypothesis Test\n",
    "\n",
    "First I'll try a regular t-test, then I'll do the non-parametric version, the Mann-Whitney. "
   ]
  },
  {
   "cell_type": "code",
   "execution_count": null,
   "metadata": {},
   "outputs": [],
   "source": [
    "# t-test\n",
    "ss.ttest_ind(fv, un)"
   ]
  },
  {
   "cell_type": "code",
   "execution_count": null,
   "metadata": {},
   "outputs": [],
   "source": [
    "# mw\n",
    "ss.mannwhitneyu(fv, un)"
   ]
  },
  {
   "cell_type": "markdown",
   "metadata": {},
   "source": [
    "### Calculate Power"
   ]
  },
  {
   "cell_type": "code",
   "execution_count": null,
   "metadata": {},
   "outputs": [],
   "source": [
    "# Calculate inputs\n",
    "ces = thinkstats2.CohenEffectSize(un, fv)\n",
    "alpha = .05\n",
    "nobs = fv.count() + un.count()"
   ]
  },
  {
   "cell_type": "code",
   "execution_count": null,
   "metadata": {},
   "outputs": [],
   "source": [
    "# calculate power\n",
    "powerTest = TTestPower()\n",
    "pow = powerTest.power(effect_size=ces, nobs=nobs, alpha=alpha)\n",
    "pow, ces"
   ]
  },
  {
   "cell_type": "markdown",
   "metadata": {},
   "source": [
    "### Result\n",
    "\n",
    "Looks like a statistically significant difference, by every metric. "
   ]
  },
  {
   "cell_type": "markdown",
   "metadata": {},
   "source": [
    "## Is There a Significant Difference in Death Rates Between Fully Vaccinated and Boosted Populations*\n",
    "\n",
    "*The boosted population has two groups - those with one booster and those with two. The one booster group is larger than the two booster group - there are more people with only one booster than there are with two. Use the below ratio to generate a weighted average rate. I.e. if the ratio is .2, that means that 20% of the total boosted population has two doses and 80% have one dose. "
   ]
  },
  {
   "cell_type": "code",
   "execution_count": null,
   "metadata": {},
   "outputs": [],
   "source": [
    "two_dose_ratio = .2"
   ]
  },
  {
   "cell_type": "code",
   "execution_count": null,
   "metadata": {},
   "outputs": [],
   "source": [
    "b1 = df[\"one_booster\"]\n",
    "b2 = df[\"two_boosters\"]\n",
    "boost = (b1 * (1 - two_dose_ratio)) + (b2 * two_dose_ratio)\n",
    "boost"
   ]
  },
  {
   "cell_type": "markdown",
   "metadata": {},
   "source": [
    "#### Explore"
   ]
  },
  {
   "cell_type": "code",
   "execution_count": null,
   "metadata": {},
   "outputs": [],
   "source": [
    "sns.kdeplot(boost)\n",
    "sns.kdeplot(fv)"
   ]
  },
  {
   "cell_type": "markdown",
   "metadata": {},
   "source": [
    "#### Test"
   ]
  },
  {
   "cell_type": "code",
   "execution_count": null,
   "metadata": {},
   "outputs": [],
   "source": [
    "# t-test\n",
    "print(ss.ttest_ind(fv, boost))\n",
    "# mw\n",
    "print(ss.mannwhitneyu(fv, boost))"
   ]
  },
  {
   "cell_type": "markdown",
   "metadata": {},
   "source": [
    "#### Power"
   ]
  },
  {
   "cell_type": "code",
   "execution_count": null,
   "metadata": {},
   "outputs": [],
   "source": [
    "# Calculate inputs\n",
    "ces2 = thinkstats2.CohenEffectSize(fv, boost)\n",
    "alpha2 = .05\n",
    "nobs2 = fv.count() + boost.count()\n",
    "# calculate power\n",
    "powerTest2 = TTestPower()\n",
    "pow2 = powerTest.power(effect_size=ces2, nobs=nobs2, alpha=alpha2)\n",
    "pow2, ces2"
   ]
  },
  {
   "cell_type": "markdown",
   "metadata": {},
   "source": [
    "#### How Large of a Sample is Needed for a Power of .8?"
   ]
  },
  {
   "cell_type": "code",
   "execution_count": null,
   "metadata": {},
   "outputs": [],
   "source": [
    "need_samp = powerTest2.solve_power(alpha=.05, effect_size=ces2, power=.8)\n",
    "need_samp, nobs2"
   ]
  },
  {
   "cell_type": "markdown",
   "metadata": {},
   "source": [
    "#### More Sophisticated Rates\n",
    "\n",
    "We can improve the approximation of the number of people with two boosters vs one booster. For this part, try to consider the following, and put this into your data:\n",
    "<ul>\n",
    "<li> There is a starting rate of two booster people (similar to above - the proportion of boosted people with 2 boosters). Try this being <b>.1</b>\n",
    "<li> There is a final rate of two booster people. Try with this being <b>.3</b>\n",
    "<li> Each day, the ratio of people with boosters who have two increases a set amount, starting with the first value (.1) on day 1, and the last (.3) on the last day. \n",
    "</ul>\n",
    "\n",
    "<b>Note:</b> This is more of a challenge of manipulating the data than of the hypothesis testing. Once the datasets are established, the process is the same as above. The function \"np.arrange\" may be useful here, but there's probably lots of ways to do it. "
   ]
  },
  {
   "cell_type": "code",
   "execution_count": null,
   "metadata": {},
   "outputs": [],
   "source": [
    "# Plot Ratios\n",
    "start = .1\n",
    "cap = .3\n",
    "increment = (cap - start)/len(df)\n",
    "\n",
    "x = np.arange(start, cap, increment)\n",
    "x"
   ]
  },
  {
   "cell_type": "code",
   "execution_count": null,
   "metadata": {},
   "outputs": [],
   "source": [
    "# Add ratio to df\n",
    "df[\"Ratio\"] = x\n",
    "df.head()"
   ]
  },
  {
   "cell_type": "code",
   "execution_count": null,
   "metadata": {},
   "outputs": [],
   "source": [
    "# Generate Weighted Boosted Rate"
   ]
  },
  {
   "cell_type": "code",
   "execution_count": null,
   "metadata": {},
   "outputs": [],
   "source": [
    "df[\"WeightBoost\"] = (df[\"one_booster\"] * (1-df[\"Ratio\"])) + (df[\"two_boosters\"] * df[\"Ratio\"])\n",
    "df.sample(10)"
   ]
  },
  {
   "cell_type": "code",
   "execution_count": null,
   "metadata": {},
   "outputs": [],
   "source": [
    "wboost = df[\"WeightBoost\"]"
   ]
  },
  {
   "cell_type": "markdown",
   "metadata": {},
   "source": [
    "### Do Test"
   ]
  },
  {
   "cell_type": "code",
   "execution_count": null,
   "metadata": {},
   "outputs": [],
   "source": [
    "# t-test\n",
    "print(ss.ttest_ind(fv, wboost))\n",
    "# mw\n",
    "print(ss.mannwhitneyu(fv, wboost))"
   ]
  },
  {
   "cell_type": "markdown",
   "metadata": {},
   "source": [
    "#### Power"
   ]
  },
  {
   "cell_type": "code",
   "execution_count": null,
   "metadata": {},
   "outputs": [],
   "source": [
    "# Calculate inputs\n",
    "ces3 = thinkstats2.CohenEffectSize(fv, wboost)\n",
    "alpha3 = .05\n",
    "nobs3 = fv.count() + wboost.count()\n",
    "# calculate power\n",
    "powerTest3 = TTestPower()\n",
    "pow3 = powerTest.power(effect_size=ces3, nobs=nobs3, alpha=alpha3)\n",
    "pow3, ces3"
   ]
  },
  {
   "cell_type": "markdown",
   "metadata": {},
   "source": [
    "## ANOVA\n",
    "\n",
    "Is there a significant difference between any of the 3 vaccinated groups? Can you test it? "
   ]
  },
  {
   "cell_type": "code",
   "execution_count": null,
   "metadata": {},
   "outputs": [],
   "source": [
    "#First, test for vars being equal-ish\n",
    "varStat, varP = ss.levene(df['fully_vaccinated'],\n",
    "               df['one_booster'],\n",
    "               df['two_boosters'])\n",
    "varP"
   ]
  },
  {
   "cell_type": "code",
   "execution_count": null,
   "metadata": {},
   "outputs": [],
   "source": [
    "df[\"fully_vaccinated\"].var(), df[\"one_booster\"].var(), df[\"two_boosters\"].var()"
   ]
  },
  {
   "cell_type": "markdown",
   "metadata": {},
   "source": [
    "It appears that the two boosters one has a radically different varaiance, that will make our ANOVA not really reliable. "
   ]
  }
 ],
 "metadata": {
  "kernelspec": {
   "display_name": "Python 3.9.7 ('ml3950')",
   "language": "python",
   "name": "python3"
  },
  "language_info": {
   "codemirror_mode": {
    "name": "ipython",
    "version": 3
   },
   "file_extension": ".py",
   "mimetype": "text/x-python",
   "name": "python",
   "nbconvert_exporter": "python",
   "pygments_lexer": "ipython3",
   "version": "3.9.7"
  },
  "orig_nbformat": 4,
  "vscode": {
   "interpreter": {
    "hash": "4d722d3adfa415172c1f5238b519fb86b488acdae450fd691ab06c09f4ca9173"
   }
  }
 },
 "nbformat": 4,
 "nbformat_minor": 2
}
